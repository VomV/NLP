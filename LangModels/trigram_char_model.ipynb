{
 "cells": [
  {
   "cell_type": "code",
   "execution_count": 2,
   "metadata": {},
   "outputs": [],
   "source": [
    "words = open('names.txt', 'r').read().splitlines()"
   ]
  },
  {
   "cell_type": "code",
   "execution_count": 3,
   "metadata": {},
   "outputs": [
    {
     "data": {
      "text/plain": [
       "['emma',\n",
       " 'olivia',\n",
       " 'ava',\n",
       " 'isabella',\n",
       " 'sophia',\n",
       " 'charlotte',\n",
       " 'mia',\n",
       " 'amelia',\n",
       " 'harper',\n",
       " 'evelyn']"
      ]
     },
     "execution_count": 3,
     "metadata": {},
     "output_type": "execute_result"
    }
   ],
   "source": [
    "words[:10]"
   ]
  },
  {
   "cell_type": "code",
   "execution_count": 4,
   "metadata": {},
   "outputs": [
    {
     "data": {
      "text/plain": [
       "32033"
      ]
     },
     "execution_count": 4,
     "metadata": {},
     "output_type": "execute_result"
    }
   ],
   "source": [
    "len(words)"
   ]
  },
  {
   "cell_type": "code",
   "execution_count": 5,
   "metadata": {},
   "outputs": [
    {
     "data": {
      "text/plain": [
       "2"
      ]
     },
     "execution_count": 5,
     "metadata": {},
     "output_type": "execute_result"
    }
   ],
   "source": [
    "min(len(w) for w in words)"
   ]
  },
  {
   "cell_type": "code",
   "execution_count": 6,
   "metadata": {},
   "outputs": [
    {
     "data": {
      "text/plain": [
       "15"
      ]
     },
     "execution_count": 6,
     "metadata": {},
     "output_type": "execute_result"
    }
   ],
   "source": [
    "max(len(w) for w in words)"
   ]
  },
  {
   "attachments": {},
   "cell_type": "markdown",
   "metadata": {},
   "source": [
    "Trigrams and Counts"
   ]
  },
  {
   "cell_type": "code",
   "execution_count": 50,
   "metadata": {},
   "outputs": [],
   "source": [
    "b = {}\n",
    "for w in words:\n",
    "    chs = ['<S>'] + list(w) + ['<E>']\n",
    "    for ch1, ch2, ch3 in zip(chs, chs[1:], chs[2:]):\n",
    "        trigram = (ch1+ch2, ch3)\n",
    "        b[trigram] = b.get(trigram, 0) +1"
   ]
  },
  {
   "attachments": {},
   "cell_type": "markdown",
   "metadata": {},
   "source": [
    "b"
   ]
  },
  {
   "cell_type": "code",
   "execution_count": 11,
   "metadata": {},
   "outputs": [
    {
     "data": {
      "text/plain": [
       "dict_items"
      ]
     },
     "execution_count": 11,
     "metadata": {},
     "output_type": "execute_result"
    }
   ],
   "source": [
    "type(b.items())"
   ]
  },
  {
   "cell_type": "code",
   "execution_count": 15,
   "metadata": {},
   "outputs": [],
   "source": [
    "import torch\n",
    "import itertools"
   ]
  },
  {
   "cell_type": "markdown",
   "metadata": {},
   "source": [
    "Replace special tokens"
   ]
  },
  {
   "cell_type": "code",
   "execution_count": 113,
   "metadata": {},
   "outputs": [],
   "source": [
    "N = torch.zeros((27*27, 27), dtype = torch.int32)"
   ]
  },
  {
   "cell_type": "code",
   "execution_count": 114,
   "metadata": {},
   "outputs": [
    {
     "data": {
      "text/plain": [
       "{'a': 1,\n",
       " 'b': 2,\n",
       " 'c': 3,\n",
       " 'd': 4,\n",
       " 'e': 5,\n",
       " 'f': 6,\n",
       " 'g': 7,\n",
       " 'h': 8,\n",
       " 'i': 9,\n",
       " 'j': 10,\n",
       " 'k': 11,\n",
       " 'l': 12,\n",
       " 'm': 13,\n",
       " 'n': 14,\n",
       " 'o': 15,\n",
       " 'p': 16,\n",
       " 'q': 17,\n",
       " 'r': 18,\n",
       " 's': 19,\n",
       " 't': 20,\n",
       " 'u': 21,\n",
       " 'v': 22,\n",
       " 'w': 23,\n",
       " 'x': 24,\n",
       " 'y': 25,\n",
       " 'z': 26,\n",
       " '.': 0}"
      ]
     },
     "execution_count": 114,
     "metadata": {},
     "output_type": "execute_result"
    }
   ],
   "source": [
    "chars = sorted(list(set(''.join(words))))\n",
    "stoi = {s:i+1 for i,s in enumerate(chars)}\n",
    "stoi['.'] = 0\n",
    "stoi"
   ]
  },
  {
   "cell_type": "code",
   "execution_count": 115,
   "metadata": {},
   "outputs": [],
   "source": [
    "t_chars = chars.copy()\n",
    "chars.insert(0, '.')\n",
    "\n",
    "bigrams = (list(set(itertools.product(chars, t_chars))))\n",
    "bitoi = {''.join(s):i for i, s in enumerate(bigrams)}\n",
    "# bitoi"
   ]
  },
  {
   "cell_type": "code",
   "execution_count": 116,
   "metadata": {},
   "outputs": [
    {
     "data": {
      "text/plain": [
       "729"
      ]
     },
     "execution_count": 116,
     "metadata": {},
     "output_type": "execute_result"
    }
   ],
   "source": [
    "len(list(itertools.product(chars, chars)))"
   ]
  },
  {
   "cell_type": "code",
   "execution_count": 118,
   "metadata": {},
   "outputs": [
    {
     "data": {
      "text/plain": [
       "702"
      ]
     },
     "execution_count": 118,
     "metadata": {},
     "output_type": "execute_result"
    }
   ],
   "source": [
    "bigram_len = len(list(itertools.product(chars, t_chars)))\n",
    "bigram_len"
   ]
  },
  {
   "cell_type": "code",
   "execution_count": 84,
   "metadata": {},
   "outputs": [],
   "source": [
    "itobi = {i:s for s, i in bitoi.items()}\n",
    "itos = {i:s for s, i in stoi.items()}"
   ]
  },
  {
   "cell_type": "code",
   "execution_count": 88,
   "metadata": {},
   "outputs": [
    {
     "data": {
      "text/plain": [
       "{0: '.v',\n",
       " 1: 'vt',\n",
       " 2: 'pg',\n",
       " 3: 'xq',\n",
       " 5: 'gt',\n",
       " 6: 'we',\n",
       " 7: 'qo',\n",
       " 8: 'to',\n",
       " 9: 'bo',\n",
       " 10: 'ni',\n",
       " 11: 'kb',\n",
       " 12: 'gx',\n",
       " 13: 'yz',\n",
       " 14: 'pe',\n",
       " 15: 'xc',\n",
       " 16: 'ma',\n",
       " 17: 'ho',\n",
       " 18: 'wq',\n",
       " 19: 'gd',\n",
       " 20: 'il',\n",
       " 21: 'sy',\n",
       " 22: 'uh',\n",
       " 23: 'is',\n",
       " 24: 'ye',\n",
       " 25: 'pq',\n",
       " 26: 'bv',\n",
       " 27: 'st',\n",
       " 28: 'oe',\n",
       " 29: 'uf',\n",
       " 30: 'jw',\n",
       " 31: 'wc',\n",
       " 32: 'fb',\n",
       " 33: 'sx',\n",
       " 34: 'yq',\n",
       " 35: 'pc',\n",
       " 36: 'dk',\n",
       " 37: 'oq',\n",
       " 38: 'mg',\n",
       " 39: 'mm',\n",
       " 41: 'lv',\n",
       " 42: 'jn',\n",
       " 43: 'sd',\n",
       " 44: 'kw',\n",
       " 45: '.y',\n",
       " 46: 'xh',\n",
       " 47: 'kl',\n",
       " 48: 'ew',\n",
       " 49: 'oc',\n",
       " 50: 'xf',\n",
       " 51: 'ks',\n",
       " 52: 'ms',\n",
       " 53: 'du',\n",
       " 54: 'qj',\n",
       " 55: 'tj',\n",
       " 56: 'zv',\n",
       " 57: '.x',\n",
       " 58: 'dt',\n",
       " 59: 'jz',\n",
       " 60: 'ra',\n",
       " 61: 'en',\n",
       " 63: 'hj',\n",
       " 64: 'qp',\n",
       " 65: '.d',\n",
       " 66: 'bp',\n",
       " 67: 'fw',\n",
       " 68: 'tp',\n",
       " 69: 'ak',\n",
       " 70: 'ui',\n",
       " 71: 'wf',\n",
       " 72: 'by',\n",
       " 73: 'fl',\n",
       " 74: 'gb',\n",
       " 75: 'hp',\n",
       " 76: 'va',\n",
       " 77: 'je',\n",
       " 78: 'pf',\n",
       " 79: 'fs',\n",
       " 81: 'yh',\n",
       " 82: 'oh',\n",
       " 83: 'ez',\n",
       " 84: 'io',\n",
       " 85: 'qi',\n",
       " 86: 'bx',\n",
       " 87: 'ti',\n",
       " 88: 'yf',\n",
       " 89: 'ly',\n",
       " 90: 'jq',\n",
       " 92: 'rg',\n",
       " 93: 'of',\n",
       " 94: 'rm',\n",
       " 95: 'at',\n",
       " 96: 'nr',\n",
       " 97: 'bd',\n",
       " 98: 'hi',\n",
       " 99: 'uu',\n",
       " 100: 'ee',\n",
       " 101: 'sb',\n",
       " 102: 'zp',\n",
       " 103: 'cw',\n",
       " 105: 'ax',\n",
       " 106: 'vg',\n",
       " 107: 'vm',\n",
       " 108: 'xk',\n",
       " 109: 'lx',\n",
       " 110: 'iv',\n",
       " 112: 'zy',\n",
       " 113: 'rs',\n",
       " 114: 'ad',\n",
       " 115: 'gw',\n",
       " 116: 'ld',\n",
       " 117: 'eq',\n",
       " 118: 'cn',\n",
       " 119: 'gl',\n",
       " 120: 'ko',\n",
       " 121: 'vs',\n",
       " 122: 'wk',\n",
       " 123: 'gs',\n",
       " 124: 'xu',\n",
       " 125: 'zx',\n",
       " 126: '.b',\n",
       " 127: 'pk',\n",
       " 128: 'zd',\n",
       " 129: 'yi',\n",
       " 130: 'sw',\n",
       " 131: 'jh',\n",
       " 132: 'cz',\n",
       " 133: 'wu',\n",
       " 134: 'mv',\n",
       " 135: 'ij',\n",
       " 136: 'da',\n",
       " 137: 'fo',\n",
       " 138: 'sl',\n",
       " 139: 'jf',\n",
       " 140: 'ok',\n",
       " 141: 'wt',\n",
       " 142: 'pu',\n",
       " 143: 'ip',\n",
       " 144: 'ce',\n",
       " 145: 'pt',\n",
       " 146: 'iy',\n",
       " 147: 'bb',\n",
       " 148: 'ne',\n",
       " 150: 'yu',\n",
       " 151: 'ur',\n",
       " 152: 'eh',\n",
       " 153: '.w',\n",
       " 154: 'ou',\n",
       " 155: 'cq',\n",
       " 156: 'ef',\n",
       " 157: '.l',\n",
       " 158: 'dg',\n",
       " 159: 'dm',\n",
       " 160: 'ot',\n",
       " 161: 'ab',\n",
       " 162: 'nq',\n",
       " 163: 'pd',\n",
       " 164: 'sz',\n",
       " 165: 'aa',\n",
       " 166: 'kj',\n",
       " 167: 'lb',\n",
       " 168: '.n',\n",
       " 169: 'qr',\n",
       " 170: 'tr',\n",
       " 171: 'ej',\n",
       " 172: 'kp',\n",
       " 173: 'nc',\n",
       " 174: 'ds',\n",
       " 175: 'go',\n",
       " 176: 'ji',\n",
       " 177: 'hr',\n",
       " 178: 'my',\n",
       " 179: 'zb',\n",
       " 180: 'bw',\n",
       " 181: 'rv',\n",
       " 182: 'mt',\n",
       " 183: 'fj',\n",
       " 184: '.z',\n",
       " 185: 'vv',\n",
       " 186: 'mx',\n",
       " 187: 'qn',\n",
       " 188: 'bn',\n",
       " 189: 'fp',\n",
       " 190: 'xa',\n",
       " 191: 'lw',\n",
       " 192: 'ug',\n",
       " 193: 'ei',\n",
       " 194: 'um',\n",
       " 195: 'so',\n",
       " 196: 'al',\n",
       " 197: 'ch',\n",
       " 198: 'md',\n",
       " 199: 'hn',\n",
       " 200: 'ju',\n",
       " 201: 'll',\n",
       " 202: 'as',\n",
       " 203: 'nh',\n",
       " 204: 'cf',\n",
       " 205: 'yr',\n",
       " 206: 'ln',\n",
       " 207: 'nf',\n",
       " 208: 'wa',\n",
       " 209: 'zw',\n",
       " 210: 'bz',\n",
       " 211: 'cj',\n",
       " 212: 'zl',\n",
       " 213: 'pa',\n",
       " 214: 'xg',\n",
       " 215: 'xm',\n",
       " 217: '.o',\n",
       " 218: 'qe',\n",
       " 219: 'te',\n",
       " 220: 'gj',\n",
       " 221: 'zn',\n",
       " 222: 'ry',\n",
       " 223: 'lz',\n",
       " 224: 'rt',\n",
       " 225: 'oa',\n",
       " 226: 'uc',\n",
       " 227: 'he',\n",
       " 228: 'gp',\n",
       " 229: 'xs',\n",
       " 230: 'vy',\n",
       " 231: 'wm',\n",
       " 232: 'qq',\n",
       " 233: 'tq',\n",
       " 234: 'rx',\n",
       " 235: 'pm',\n",
       " 236: 'zz',\n",
       " 237: 'ci',\n",
       " 238: 'hq',\n",
       " 239: 'wl',\n",
       " 240: 'rd',\n",
       " 241: 'sj',\n",
       " 242: 'qc',\n",
       " 243: 'tc',\n",
       " 244: 'vx',\n",
       " 245: 'ws',\n",
       " 246: 'dv',\n",
       " 247: 'mb',\n",
       " 248: 'pl',\n",
       " 249: 'yg',\n",
       " 250: 'ym',\n",
       " 251: 'iw',\n",
       " 252: 'sp',\n",
       " 253: 'hc',\n",
       " 254: 'nk',\n",
       " 255: 'og',\n",
       " 256: 'om',\n",
       " 257: 'ps',\n",
       " 258: 'jr',\n",
       " 259: 'vd',\n",
       " 260: 'ao',\n",
       " 261: 'lo',\n",
       " 262: 'in',\n",
       " 263: '.j',\n",
       " 264: 'os',\n",
       " 265: 'nu',\n",
       " 266: 'si',\n",
       " 267: 'nt',\n",
       " 268: 'av',\n",
       " 269: 'bh',\n",
       " 270: '.p',\n",
       " 271: 'er',\n",
       " 272: 'qh',\n",
       " 273: 'th',\n",
       " 274: 'zo',\n",
       " 275: 'mw',\n",
       " 276: 'qf',\n",
       " 277: 'tf',\n",
       " 278: 'iz',\n",
       " 279: 'hh',\n",
       " 280: 'yc',\n",
       " 281: 'ml',\n",
       " 282: 'hf',\n",
       " 283: 'dy',\n",
       " 284: 'fr',\n",
       " 285: 'bj',\n",
       " 286: 'kn',\n",
       " 289: '.i',\n",
       " 290: 'ie',\n",
       " 291: 'rb',\n",
       " 292: 'jg',\n",
       " 293: 'jm',\n",
       " 295: 'dx',\n",
       " 296: 'aj',\n",
       " 297: 'vb',\n",
       " 298: 'xv',\n",
       " 299: 'zh',\n",
       " 300: 'iq',\n",
       " 301: 'lj',\n",
       " 302: 'po',\n",
       " 303: 'uk',\n",
       " 304: 'dd',\n",
       " 305: 'kz',\n",
       " 306: 'mz',\n",
       " 307: 'ap',\n",
       " 308: 'fn',\n",
       " 309: 'lp',\n",
       " 310: 'ay',\n",
       " 311: 'bi',\n",
       " 312: 'eg',\n",
       " 313: 'em',\n",
       " 314: 'wv',\n",
       " 315: 'cr',\n",
       " 316: 'zj',\n",
       " 317: 'ke',\n",
       " 318: 'qk',\n",
       " 319: 'tk',\n",
       " 320: 'rw',\n",
       " 321: 'pv',\n",
       " 322: 'gr',\n",
       " 323: 'ut',\n",
       " 324: 'fz',\n",
       " 325: 'jc',\n",
       " 326: 'rl',\n",
       " 327: 'hk',\n",
       " 328: 'li',\n",
       " 329: 'kq',\n",
       " 330: 'vw',\n",
       " 331: 'rn',\n",
       " 332: 'ux',\n",
       " 333: 'ov',\n",
       " 334: 'vl',\n",
       " 335: 'qu',\n",
       " 336: 'tu',\n",
       " 337: 'fe',\n",
       " 338: 'na',\n",
       " 339: 'kc',\n",
       " 340: 'mo',\n",
       " 341: 'ud',\n",
       " 342: 'ih',\n",
       " 343: 'tt',\n",
       " 344: 'xy',\n",
       " 345: 'zi',\n",
       " 346: 'vn',\n",
       " 347: 'hu',\n",
       " 348: 'sr',\n",
       " 349: 'gn',\n",
       " 350: 'ec',\n",
       " 351: 'if',\n",
       " 352: 'xt',\n",
       " 353: 'fq',\n",
       " 354: 'rz',\n",
       " 355: 'wp',\n",
       " 356: 'xx',\n",
       " 357: 'db',\n",
       " 358: 'wy',\n",
       " 359: 'cg',\n",
       " 360: 'cm',\n",
       " 361: 'yk',\n",
       " 363: 'pp',\n",
       " 364: 'fc',\n",
       " 365: 'vz',\n",
       " 366: 'ng',\n",
       " 367: 'nm',\n",
       " 368: 'xd',\n",
       " 369: 'gz',\n",
       " 370: 'py',\n",
       " 371: '.r',\n",
       " 372: 'sn',\n",
       " 373: 'kh',\n",
       " 374: 'wx',\n",
       " 375: 'ge',\n",
       " 376: 'kf',\n",
       " 377: 'ns',\n",
       " 378: 'wd',\n",
       " 379: 'oy',\n",
       " 380: 'px',\n",
       " 381: 'yt',\n",
       " 382: 'ii',\n",
       " 383: 'ro',\n",
       " 385: 'dw',\n",
       " 386: 'gq',\n",
       " 387: 'mj',\n",
       " 388: 'yx',\n",
       " 389: 'fh',\n",
       " 390: 'cc',\n",
       " 391: 'ox',\n",
       " 392: 'br',\n",
       " 393: 'ub',\n",
       " 394: 'dl',\n",
       " 396: 'ua',\n",
       " 397: 'yd',\n",
       " 398: 'mp',\n",
       " 399: 'vo',\n",
       " 400: 'ff',\n",
       " 401: 'od',\n",
       " 402: 'se',\n",
       " 403: 'gc',\n",
       " 404: 'dn',\n",
       " 405: 'jk',\n",
       " 406: 'lr',\n",
       " 408: 'iu',\n",
       " 409: 'sq',\n",
       " 410: 'qa',\n",
       " 411: 'ta',\n",
       " 412: 'ki',\n",
       " 413: 'mi',\n",
       " 414: 'xb',\n",
       " 415: 'aw',\n",
       " 416: 'ha',\n",
       " 417: 'dz',\n",
       " 418: '.e',\n",
       " 419: 'kk',\n",
       " 420: 'sc',\n",
       " 421: 'zr',\n",
       " 422: 'ek',\n",
       " 423: 'an',\n",
       " 424: 'jt',\n",
       " 425: 'gh',\n",
       " 426: 'ul',\n",
       " 427: 'wb',\n",
       " 428: '.q',\n",
       " 429: 'us',\n",
       " 430: 'rj',\n",
       " 431: 'fi',\n",
       " 432: 'gf',\n",
       " 433: 'qg',\n",
       " 434: 'bg',\n",
       " 435: 'qm',\n",
       " 436: 'jx',\n",
       " 437: 'pb',\n",
       " 438: 'ku',\n",
       " 439: 'tg',\n",
       " 440: 'tm',\n",
       " 442: 'fk',\n",
       " 443: 'rp',\n",
       " 444: 'hg',\n",
       " 445: 'eu',\n",
       " 446: 'hm',\n",
       " 447: '.c',\n",
       " 448: 'jd',\n",
       " 449: 'vj',\n",
       " 450: 'be',\n",
       " 451: 'xw',\n",
       " 453: 'az',\n",
       " 454: 'yb',\n",
       " 455: 'et',\n",
       " 456: 'qs',\n",
       " 457: 'ts',\n",
       " 458: 'nv',\n",
       " 459: 'ob',\n",
       " 460: 'ya',\n",
       " 461: 'sh',\n",
       " 462: 'vp',\n",
       " 463: 'xl',\n",
       " 464: 'do',\n",
       " 465: 'ex',\n",
       " 466: 'hs',\n",
       " 467: 'bq',\n",
       " 468: 'sf',\n",
       " 469: 'fu',\n",
       " 470: 'ae',\n",
       " 471: 'xn',\n",
       " 472: 'ri',\n",
       " 473: 'ww',\n",
       " 474: 'le',\n",
       " 475: 'ed',\n",
       " 476: 'ir',\n",
       " 477: 'zg',\n",
       " 478: 'pw',\n",
       " 480: 'bc',\n",
       " 481: 'vi',\n",
       " 482: 'aq',\n",
       " 483: 'ck',\n",
       " 484: 'gi',\n",
       " 485: 'lq',\n",
       " 486: 'wn',\n",
       " 487: '.h',\n",
       " 488: 'ze',\n",
       " 489: 'xz',\n",
       " 490: '.f',\n",
       " 491: 'gk',\n",
       " 492: 'pn',\n",
       " 493: 'ow',\n",
       " 494: 'yl',\n",
       " 495: 'lc',\n",
       " 496: 'ol',\n",
       " 497: 'ys',\n",
       " 498: 'zq',\n",
       " 499: 'cu',\n",
       " 500: 'uo',\n",
       " 502: 'wz',\n",
       " 503: 'kr',\n",
       " 504: 'ny',\n",
       " 505: 'ct',\n",
       " 506: 'mr',\n",
       " 507: 'on',\n",
       " 508: 'jb',\n",
       " 509: 'gu',\n",
       " 510: 'ja',\n",
       " 511: 'pz',\n",
       " 512: 'zc',\n",
       " 513: 'dj',\n",
       " 514: 'cx',\n",
       " 515: 'sk',\n",
       " 516: 'bf',\n",
       " 517: 'nx',\n",
       " 518: 'uv',\n",
       " 519: 'ig',\n",
       " 520: 'im',\n",
       " 521: 'cd',\n",
       " 522: 'dp',\n",
       " 523: 'ka',\n",
       " 524: 'ah',\n",
       " 525: 'xo',\n",
       " 526: 'oz',\n",
       " 527: 'nd',\n",
       " 528: 'lh',\n",
       " 529: 'eb',\n",
       " 531: 'mn',\n",
       " 532: 'af',\n",
       " 533: 'ea',\n",
       " 534: 'su',\n",
       " 535: 'lf',\n",
       " 536: 'qv',\n",
       " 537: 'tv',\n",
       " 538: '.k',\n",
       " 539: 'wo',\n",
       " 540: 'di',\n",
       " 542: 'hv',\n",
       " 543: 'jl',\n",
       " 545: 'fa',\n",
       " 546: 'zf',\n",
       " 547: 'js',\n",
       " 548: 'kg',\n",
       " 549: 'km',\n",
       " 550: 'uj',\n",
       " 551: 'rr',\n",
       " 552: '.u',\n",
       " 553: 'ic',\n",
       " 554: 'yo',\n",
       " 555: 'up',\n",
       " 557: '.t',\n",
       " 558: 'oo',\n",
       " 559: 'me',\n",
       " 560: 'uy',\n",
       " 561: 'vr',\n",
       " 562: 'bk',\n",
       " 563: 'el',\n",
       " 564: 'ai',\n",
       " 565: 'es',\n",
       " 566: 'wh',\n",
       " 567: 'fg',\n",
       " 568: 'fm',\n",
       " 569: 'xj',\n",
       " 570: 'mq',\n",
       " 571: 'cb',\n",
       " 572: 'yv',\n",
       " 573: 'ca',\n",
       " 574: 'ph',\n",
       " 575: 'nb',\n",
       " 576: 'lk',\n",
       " 577: 'qy',\n",
       " 578: 'bu',\n",
       " 579: 'ty',\n",
       " 580: 'xp',\n",
       " 581: 'ga',\n",
       " 582: 'mc',\n",
       " 583: 'bt',\n",
       " 584: 'qt',\n",
       " 585: 'hy',\n",
       " 586: 'wj',\n",
       " 587: 'ht',\n",
       " 588: 'au',\n",
       " 589: 'qx',\n",
       " 590: 'tx',\n",
       " 591: 'zk',\n",
       " 592: 'pj',\n",
       " 593: 'lu',\n",
       " 594: 'qd',\n",
       " 595: 'td',\n",
       " 596: 'xi',\n",
       " 597: 'hx',\n",
       " 598: 'lt',\n",
       " 599: 'yj',\n",
       " 600: 'jo',\n",
       " 601: 'sa',\n",
       " 602: 're',\n",
       " 603: 'hd',\n",
       " 604: 'oj',\n",
       " 605: 'gg',\n",
       " 606: 'gm',\n",
       " 607: 'nw',\n",
       " 608: 'zu',\n",
       " 609: 'cl',\n",
       " 610: 'yp',\n",
       " 611: 'wi',\n",
       " 612: 'mh',\n",
       " 613: 'cs',\n",
       " 614: 'nl',\n",
       " 615: 'zt',\n",
       " 616: 'op',\n",
       " 617: 've',\n",
       " 618: 'yy',\n",
       " 619: 'rq',\n",
       " 620: 'mf',\n",
       " 621: 'dr',\n",
       " 622: 'pi',\n",
       " 623: 'nn',\n",
       " 624: 'jv',\n",
       " 625: 'eo',\n",
       " 626: 'vq',\n",
       " 627: '.a',\n",
       " 628: 'rc',\n",
       " 629: 'sg',\n",
       " 631: 'sm',\n",
       " 632: 'oi',\n",
       " 633: 'ik',\n",
       " 634: 'kv',\n",
       " 635: 'vc',\n",
       " 636: 'nz',\n",
       " 637: 'ev',\n",
       " 638: 'ss',\n",
       " 639: 'ar',\n",
       " 640: 'qb',\n",
       " 641: 'tb',\n",
       " 642: 'jj',\n",
       " 643: '.g',\n",
       " 644: '.m',\n",
       " 645: 'ba',\n",
       " 646: 'it',\n",
       " 647: 'fv',\n",
       " 648: 'hb',\n",
       " 649: 'rh',\n",
       " 650: 'jp',\n",
       " 651: 'mk',\n",
       " 652: 'ix',\n",
       " 653: 'jy',\n",
       " 654: 'rf',\n",
       " 655: 'uw',\n",
       " 656: '.s',\n",
       " 657: 'la',\n",
       " 658: 'vh',\n",
       " 659: 'co',\n",
       " 660: 'id',\n",
       " 661: 'de',\n",
       " 662: 'no',\n",
       " 663: 'vf',\n",
       " 665: 'bm',\n",
       " 666: 'xr',\n",
       " 667: 'un',\n",
       " 668: 'ky',\n",
       " 669: 'mu',\n",
       " 670: 'ep',\n",
       " 671: 'qw',\n",
       " 672: 'tw',\n",
       " 673: 'za',\n",
       " 674: 'kt',\n",
       " 675: 'dq',\n",
       " 676: 'ey',\n",
       " 678: 'ql',\n",
       " 679: 'tl',\n",
       " 680: 'bl',\n",
       " 681: 'cv',\n",
       " 682: 'hw',\n",
       " 683: 'am',\n",
       " 684: 'ag',\n",
       " 685: 'bs',\n",
       " 686: 'wr',\n",
       " 687: 'kx',\n",
       " 688: 'lg',\n",
       " 689: 'lm',\n",
       " 690: 'tn',\n",
       " 691: 'hl',\n",
       " 692: 'gv',\n",
       " 693: 'dc',\n",
       " 694: 'uz',\n",
       " 695: 'kd',\n",
       " 696: 'pr',\n",
       " 697: 'fy',\n",
       " 698: 'ft',\n",
       " 699: 'ls',\n",
       " 700: 'zm',\n",
       " 701: 'ue',\n",
       " 702: 'rk',\n",
       " 703: 'qz',\n",
       " 704: 'or',\n",
       " 705: 'tz',\n",
       " 706: 'fx',\n",
       " 707: 'sv',\n",
       " 708: 'vk',\n",
       " 709: 'fd',\n",
       " 710: 'hz',\n",
       " 711: 'uq',\n",
       " 712: 'yw',\n",
       " 713: 'nj',\n",
       " 714: 'zs',\n",
       " 715: 'ib',\n",
       " 716: 'ac',\n",
       " 717: 'ia',\n",
       " 718: 'cp',\n",
       " 719: 'dh',\n",
       " 720: 'ru',\n",
       " 721: 'cy',\n",
       " 722: 'np',\n",
       " 723: 'xe',\n",
       " 724: 'df',\n",
       " 725: 'yn',\n",
       " 726: 'wg',\n",
       " 727: 'vu',\n",
       " 728: 'gy'}"
      ]
     },
     "execution_count": 88,
     "metadata": {},
     "output_type": "execute_result"
    }
   ],
   "source": [
    "itobi"
   ]
  },
  {
   "cell_type": "code",
   "execution_count": 85,
   "metadata": {},
   "outputs": [
    {
     "data": {
      "text/plain": [
       "['.', 'z', 'z', 'y', 'z', 'x', '.']"
      ]
     },
     "execution_count": 85,
     "metadata": {},
     "output_type": "execute_result"
    }
   ],
   "source": [
    "chs"
   ]
  },
  {
   "cell_type": "code",
   "execution_count": 86,
   "metadata": {},
   "outputs": [],
   "source": [
    "for w in words:\n",
    "    chs = ['.'] + list(w) + ['.']\n",
    "    for ch1, ch2, ch3 in zip(chs, chs[1:], chs[2:]):\n",
    "        ix1 = bitoi[ch1+ch2]\n",
    "        ix2 = stoi[ch3]\n",
    "        N[ix1, ix2] += 1"
   ]
  },
  {
   "cell_type": "code",
   "execution_count": 87,
   "metadata": {},
   "outputs": [
    {
     "ename": "KeyError",
     "evalue": "4",
     "output_type": "error",
     "traceback": [
      "\u001b[0;31m---------------------------------------------------------------------------\u001b[0m",
      "\u001b[0;31mKeyError\u001b[0m                                  Traceback (most recent call last)",
      "Cell \u001b[0;32mIn[87], line 8\u001b[0m\n\u001b[1;32m      6\u001b[0m \u001b[39mfor\u001b[39;00m i \u001b[39min\u001b[39;00m \u001b[39mrange\u001b[39m(\u001b[39m27\u001b[39m):\n\u001b[1;32m      7\u001b[0m     \u001b[39mfor\u001b[39;00m j \u001b[39min\u001b[39;00m \u001b[39mrange\u001b[39m(\u001b[39m27\u001b[39m):\n\u001b[0;32m----> 8\u001b[0m         chstr \u001b[39m=\u001b[39m itobi[i] \u001b[39m+\u001b[39m itos[j]\n\u001b[1;32m      9\u001b[0m         plt\u001b[39m.\u001b[39mtext(j, i, chstr, ha\u001b[39m=\u001b[39m\u001b[39m'\u001b[39m\u001b[39mcenter\u001b[39m\u001b[39m'\u001b[39m, va\u001b[39m=\u001b[39m\u001b[39m'\u001b[39m\u001b[39mbottom\u001b[39m\u001b[39m'\u001b[39m, color\u001b[39m=\u001b[39m\u001b[39m'\u001b[39m\u001b[39mgray\u001b[39m\u001b[39m'\u001b[39m)\n\u001b[1;32m     10\u001b[0m         plt\u001b[39m.\u001b[39mtext(j, i, N[i, j]\u001b[39m.\u001b[39mitem(), ha\u001b[39m=\u001b[39m\u001b[39m'\u001b[39m\u001b[39mcenter\u001b[39m\u001b[39m'\u001b[39m, va\u001b[39m=\u001b[39m\u001b[39m'\u001b[39m\u001b[39mtop\u001b[39m\u001b[39m'\u001b[39m, color\u001b[39m=\u001b[39m\u001b[39m'\u001b[39m\u001b[39mgray\u001b[39m\u001b[39m'\u001b[39m)\n",
      "\u001b[0;31mKeyError\u001b[0m: 4"
     ]
    },
    {
     "data": {
      "image/png": "[encoded data removed]",
      "text/plain": [
       "<Figure size 1600x1600 with 1 Axes>"
      ]
     },
     "metadata": {},
     "output_type": "display_data"
    }
   ],
   "source": [
    "import matplotlib.pyplot as plt\n",
    "%matplotlib inline\n",
    "\n",
    "plt.figure(figsize=(16,16))\n",
    "plt.imshow(N[:27, :27], cmap='Blues')\n",
    "for i in range(27):\n",
    "    for j in range(27):\n",
    "        chstr = itobi[i] + itos[j]\n",
    "        plt.text(j, i, chstr, ha='center', va='bottom', color='gray')\n",
    "        plt.text(j, i, N[i, j].item(), ha='center', va='top', color='gray')\n",
    "plt.axis('off')"
   ]
  },
  {
   "cell_type": "code",
   "execution_count": 21,
   "metadata": {},
   "outputs": [
    {
     "data": {
      "text/plain": [
       "tensor([   0, 4410, 1306, 1542, 1690, 1531,  417,  669,  874,  591, 2422, 2963,\n",
       "        1572, 2538, 1146,  394,  515,   92, 1639, 2055, 1308,   78,  376,  307,\n",
       "         134,  535,  929], dtype=torch.int32)"
      ]
     },
     "execution_count": 21,
     "metadata": {},
     "output_type": "execute_result"
    }
   ],
   "source": [
    "N[0]"
   ]
  },
  {
   "cell_type": "markdown",
   "metadata": {},
   "source": [
    "Convert counts to probabilities"
   ]
  },
  {
   "cell_type": "code",
   "execution_count": 22,
   "metadata": {},
   "outputs": [
    {
     "data": {
      "text/plain": [
       "tensor([0.0000, 0.1377, 0.0408, 0.0481, 0.0528, 0.0478, 0.0130, 0.0209, 0.0273,\n",
       "        0.0184, 0.0756, 0.0925, 0.0491, 0.0792, 0.0358, 0.0123, 0.0161, 0.0029,\n",
       "        0.0512, 0.0642, 0.0408, 0.0024, 0.0117, 0.0096, 0.0042, 0.0167, 0.0290])"
      ]
     },
     "execution_count": 22,
     "metadata": {},
     "output_type": "execute_result"
    }
   ],
   "source": [
    "p = N[0].float()\n",
    "p = p/p.sum()\n",
    "p"
   ]
  },
  {
   "cell_type": "markdown",
   "metadata": {},
   "source": [
    "Sample from the multinomial dist"
   ]
  },
  {
   "cell_type": "code",
   "execution_count": 23,
   "metadata": {},
   "outputs": [
    {
     "data": {
      "text/plain": [
       "tensor([0.6064, 0.3033, 0.0903])"
      ]
     },
     "execution_count": 23,
     "metadata": {},
     "output_type": "execute_result"
    }
   ],
   "source": [
    "g = torch.Generator().manual_seed(2147483647)\n",
    "p = torch.rand(3, generator=g)\n",
    "p = p/p.sum()\n",
    "p"
   ]
  },
  {
   "cell_type": "markdown",
   "metadata": {},
   "source": [
    "Samples"
   ]
  },
  {
   "cell_type": "code",
   "execution_count": 24,
   "metadata": {},
   "outputs": [
    {
     "data": {
      "text/plain": [
       "tensor([1, 1, 2, 0, 0, 2, 1, 1, 0, 0, 0, 1, 1, 0, 0, 1, 1, 0, 0, 1])"
      ]
     },
     "execution_count": 24,
     "metadata": {},
     "output_type": "execute_result"
    }
   ],
   "source": [
    "torch.multinomial(p, num_samples=20, replacement=True, generator=g)"
   ]
  },
  {
   "cell_type": "code",
   "execution_count": 25,
   "metadata": {},
   "outputs": [
    {
     "data": {
      "text/plain": [
       "'m'"
      ]
     },
     "execution_count": 25,
     "metadata": {},
     "output_type": "execute_result"
    }
   ],
   "source": [
    "p = N[0].float()\n",
    "p = p/p.sum()\n",
    "\n",
    "g = torch.Generator().manual_seed(2147483647)\n",
    "ix = torch.multinomial(p, num_samples=1, replacement=True, generator=g).item()\n",
    "\n",
    "itos[ix]"
   ]
  },
  {
   "cell_type": "code",
   "execution_count": 26,
   "metadata": {},
   "outputs": [
    {
     "name": "stdout",
     "output_type": "stream",
     "text": [
      "mor.\n",
      "axx.\n",
      "minaymoryles.\n",
      "kondlaisah.\n",
      "anchshizarie.\n",
      "odaren.\n",
      "iaddash.\n",
      "h.\n",
      "jhinatien.\n",
      "egushl.\n",
      "h.\n",
      "br.\n",
      "a.\n",
      "jayn.\n",
      "ilemannariaenien.\n",
      "be.\n",
      "f.\n",
      "akiinela.\n",
      "trttanakeroruceyaaxatona.\n",
      "lamoynayrkiedengin.\n"
     ]
    }
   ],
   "source": [
    "g = torch.Generator().manual_seed(2147483647)\n",
    "\n",
    "for i in range(20):\n",
    "    out = []\n",
    "    ix = 0\n",
    "    while True:\n",
    "        p = N[ix].float()\n",
    "        p = p/p.sum()\n",
    "        ix = torch.multinomial(p, num_samples=1, replacement=True, generator=g).item()\n",
    "        out.append(itos[ix])\n",
    "        if ix == 0:\n",
    "            break\n",
    "    print(''.join(out))"
   ]
  },
  {
   "cell_type": "code",
   "execution_count": 27,
   "metadata": {},
   "outputs": [
    {
     "data": {
      "text/plain": [
       "tensor([[32033],\n",
       "        [33885],\n",
       "        [ 2645],\n",
       "        [ 3532],\n",
       "        [ 5496],\n",
       "        [20423],\n",
       "        [  905],\n",
       "        [ 1927],\n",
       "        [ 7616],\n",
       "        [17701],\n",
       "        [ 2900],\n",
       "        [ 5040],\n",
       "        [13958],\n",
       "        [ 6642],\n",
       "        [18327],\n",
       "        [ 7934],\n",
       "        [ 1026],\n",
       "        [  272],\n",
       "        [12700],\n",
       "        [ 8106],\n",
       "        [ 5570],\n",
       "        [ 3135],\n",
       "        [ 2573],\n",
       "        [  929],\n",
       "        [  697],\n",
       "        [ 9776],\n",
       "        [ 2398]])"
      ]
     },
     "execution_count": 27,
     "metadata": {},
     "output_type": "execute_result"
    }
   ],
   "source": [
    "N.sum(1, keepdim=True)"
   ]
  },
  {
   "cell_type": "code",
   "execution_count": 28,
   "metadata": {},
   "outputs": [],
   "source": [
    "P = N/N.sum(1, keepdim=True) #Broadcasting"
   ]
  },
  {
   "cell_type": "code",
   "execution_count": 29,
   "metadata": {},
   "outputs": [
    {
     "data": {
      "text/plain": [
       "tensor(1.)"
      ]
     },
     "execution_count": 29,
     "metadata": {},
     "output_type": "execute_result"
    }
   ],
   "source": [
    "P[0].sum()"
   ]
  },
  {
   "cell_type": "code",
   "execution_count": 30,
   "metadata": {},
   "outputs": [
    {
     "name": "stdout",
     "output_type": "stream",
     "text": [
      "mor.\n",
      "axx.\n",
      "minaymoryles.\n",
      "kondlaisah.\n",
      "anchshizarie.\n",
      "odaren.\n",
      "iaddash.\n",
      "h.\n",
      "jhinatien.\n",
      "egushl.\n",
      "h.\n",
      "br.\n",
      "a.\n",
      "jayn.\n",
      "ilemannariaenien.\n",
      "be.\n",
      "f.\n",
      "akiinela.\n",
      "trttanakeroruceyaaxatona.\n",
      "lamoynayrkiedengin.\n"
     ]
    }
   ],
   "source": [
    "g = torch.Generator().manual_seed(2147483647)\n",
    "\n",
    "for i in range(20):\n",
    "    out = []\n",
    "    ix = 0\n",
    "    while True:\n",
    "\n",
    "        p = P[ix]\n",
    "        ix = torch.multinomial(p, num_samples=1, replacement=True, generator=g).item()\n",
    "        out.append(itos[ix])\n",
    "        if ix == 0:\n",
    "            break\n",
    "    print(''.join(out))"
   ]
  },
  {
   "cell_type": "code",
   "execution_count": 31,
   "metadata": {},
   "outputs": [
    {
     "name": "stdout",
     "output_type": "stream",
     "text": [
      "log_likelihood=tensor(-559891.7500)\n",
      "nll=tensor(559891.7500)\n",
      "2.454094171524048\n"
     ]
    }
   ],
   "source": [
    "log_likelihood = 0.0\n",
    "n = 0\n",
    "for w in words:\n",
    "    chs = ['.'] + list(w) + ['.']\n",
    "    for ch1, ch2 in zip(chs, chs[1:]):\n",
    "        ix1 = stoi[ch1]\n",
    "        ix2 = stoi[ch2]\n",
    "        \n",
    "        prob = P[ix1, ix2]\n",
    "        logprob = torch.log(prob)\n",
    "        log_likelihood += logprob\n",
    "        n += 1\n",
    "        # print(f'{ch1}{ch2}: {prob:.4f}, {logprob: .4f}')\n",
    "\n",
    "print(f'{log_likelihood=}')\n",
    "\n",
    "nll = -log_likelihood\n",
    "print(f'{nll=}')\n",
    "print(f'{nll/n}')"
   ]
  },
  {
   "attachments": {},
   "cell_type": "markdown",
   "metadata": {},
   "source": [
    "Summarize the quality of this model:\n",
    "\n",
    "- Product of all these probabilities is the likelihood\n",
    "- Higher likelihood is higher quality\n",
    "- Negative of Log likelihood is used for this as a log func which just log of the sum or average of prob and negative of that\n",
    "- Now we need to minimize the negative log-likelihood\n",
    "- Here the prob are the parameters of the model and goal is to maximise the log-likelihood and minimize the NLL (log is a monotonic func)"
   ]
  },
  {
   "cell_type": "code",
   "execution_count": 32,
   "metadata": {},
   "outputs": [
    {
     "name": "stdout",
     "output_type": "stream",
     "text": [
      ".v: 0.0117, -4.4449\n",
      "vi: 0.3541, -1.0383\n",
      "iv: 0.0152, -4.1867\n",
      "ve: 0.2208, -1.5107\n",
      "ek: 0.0087, -4.7426\n",
      "kx: 0.0000, -inf\n",
      "x.: 0.2353, -1.4469\n",
      "log_likelihood=tensor(-inf)\n",
      "nll=tensor(inf)\n",
      "inf\n"
     ]
    }
   ],
   "source": [
    "#Prob of any word\n",
    "\n",
    "log_likelihood = 0.0\n",
    "n = 0\n",
    "for w in ['vivekx']:\n",
    "    chs = ['.'] + list(w) + ['.']\n",
    "    for ch1, ch2 in zip(chs, chs[1:]):\n",
    "        ix1 = stoi[ch1]\n",
    "        ix2 = stoi[ch2]\n",
    "        \n",
    "        prob = P[ix1, ix2]\n",
    "        logprob = torch.log(prob)\n",
    "        log_likelihood += logprob\n",
    "        n += 1\n",
    "        print(f'{ch1}{ch2}: {prob:.4f}, {logprob: .4f}')\n",
    "\n",
    "print(f'{log_likelihood=}')\n",
    "\n",
    "nll = -log_likelihood\n",
    "print(f'{nll=}')\n",
    "print(f'{nll/n}')"
   ]
  },
  {
   "cell_type": "markdown",
   "metadata": {},
   "source": [
    "kx is completely unlikely acc to model, count is zero, so loss is inf"
   ]
  },
  {
   "attachments": {},
   "cell_type": "markdown",
   "metadata": {},
   "source": [
    "For model smoothing to avoid inf: add 1 to all counts"
   ]
  },
  {
   "cell_type": "code",
   "execution_count": 33,
   "metadata": {},
   "outputs": [],
   "source": [
    "P = (N+1).float()\n",
    "P /= P.sum(1, keepdim=True)"
   ]
  },
  {
   "cell_type": "code",
   "execution_count": 34,
   "metadata": {},
   "outputs": [
    {
     "name": "stdout",
     "output_type": "stream",
     "text": [
      ".v: 0.0118, -4.4431\n",
      "vi: 0.3508, -1.0476\n",
      "iv: 0.0152, -4.1845\n",
      "ve: 0.2188, -1.5194\n",
      "ek: 0.0088, -4.7384\n",
      "kx: 0.0002, -8.5305\n",
      "x.: 0.2279, -1.4788\n",
      "log_likelihood=tensor(-25.9423)\n",
      "nll=tensor(25.9423)\n",
      "3.7060446739196777\n"
     ]
    }
   ],
   "source": [
    "#Prob of any word\n",
    "\n",
    "log_likelihood = 0.0\n",
    "n = 0\n",
    "for w in ['vivekx']:\n",
    "    chs = ['.'] + list(w) + ['.']\n",
    "    for ch1, ch2 in zip(chs, chs[1:]):\n",
    "        ix1 = stoi[ch1]\n",
    "        ix2 = stoi[ch2]\n",
    "        \n",
    "        prob = P[ix1, ix2]\n",
    "        logprob = torch.log(prob)\n",
    "        log_likelihood += logprob\n",
    "        n += 1\n",
    "        print(f'{ch1}{ch2}: {prob:.4f}, {logprob: .4f}')\n",
    "\n",
    "print(f'{log_likelihood=}')\n",
    "\n",
    "nll = -log_likelihood\n",
    "print(f'{nll=}')\n",
    "print(f'{nll/n}')"
   ]
  },
  {
   "attachments": {},
   "cell_type": "markdown",
   "metadata": {},
   "source": [
    "### Bigram Neural Network"
   ]
  },
  {
   "cell_type": "code",
   "execution_count": 35,
   "metadata": {},
   "outputs": [
    {
     "name": "stdout",
     "output_type": "stream",
     "text": [
      ". e\n",
      "e m\n",
      "m m\n",
      "m a\n",
      "a .\n"
     ]
    }
   ],
   "source": [
    "# create the training set of bigrams (x, y)\n",
    "xs, ys = [], []\n",
    "\n",
    "for w in words[:1]:\n",
    "    chs = ['.'] + list(w) + ['.']\n",
    "    for ch1, ch2 in zip(chs, chs[1:]):\n",
    "        ix1 = stoi[ch1]\n",
    "        ix2 = stoi[ch2]\n",
    "        print(ch1, ch2)\n",
    "        xs.append(ix1)\n",
    "        ys.append(ix2)\n",
    "\n",
    "xs = torch.tensor(xs)\n",
    "ys = torch.tensor(ys)"
   ]
  },
  {
   "cell_type": "code",
   "execution_count": 36,
   "metadata": {},
   "outputs": [
    {
     "data": {
      "text/plain": [
       "tensor([ 0,  5, 13, 13,  1])"
      ]
     },
     "execution_count": 36,
     "metadata": {},
     "output_type": "execute_result"
    }
   ],
   "source": [
    "xs"
   ]
  },
  {
   "cell_type": "code",
   "execution_count": 37,
   "metadata": {},
   "outputs": [
    {
     "data": {
      "text/plain": [
       "tensor([ 5, 13, 13,  1,  0])"
      ]
     },
     "execution_count": 37,
     "metadata": {},
     "output_type": "execute_result"
    }
   ],
   "source": [
    "ys"
   ]
  },
  {
   "cell_type": "code",
   "execution_count": 38,
   "metadata": {},
   "outputs": [
    {
     "data": {
      "text/plain": [
       "tensor([[1., 0., 0., 0., 0., 0., 0., 0., 0., 0., 0., 0., 0., 0., 0., 0., 0., 0.,\n",
       "         0., 0., 0., 0., 0., 0., 0., 0., 0.],\n",
       "        [0., 0., 0., 0., 0., 1., 0., 0., 0., 0., 0., 0., 0., 0., 0., 0., 0., 0.,\n",
       "         0., 0., 0., 0., 0., 0., 0., 0., 0.],\n",
       "        [0., 0., 0., 0., 0., 0., 0., 0., 0., 0., 0., 0., 0., 1., 0., 0., 0., 0.,\n",
       "         0., 0., 0., 0., 0., 0., 0., 0., 0.],\n",
       "        [0., 0., 0., 0., 0., 0., 0., 0., 0., 0., 0., 0., 0., 1., 0., 0., 0., 0.,\n",
       "         0., 0., 0., 0., 0., 0., 0., 0., 0.],\n",
       "        [0., 1., 0., 0., 0., 0., 0., 0., 0., 0., 0., 0., 0., 0., 0., 0., 0., 0.,\n",
       "         0., 0., 0., 0., 0., 0., 0., 0., 0.]])"
      ]
     },
     "execution_count": 38,
     "metadata": {},
     "output_type": "execute_result"
    }
   ],
   "source": [
    "import torch.nn.functional as F\n",
    "\n",
    "xenc = F.one_hot(xs, num_classes=27).float()\n",
    "xenc"
   ]
  },
  {
   "cell_type": "code",
   "execution_count": 39,
   "metadata": {},
   "outputs": [
    {
     "data": {
      "text/plain": [
       "torch.Size([5, 27])"
      ]
     },
     "execution_count": 39,
     "metadata": {},
     "output_type": "execute_result"
    }
   ],
   "source": [
    "xenc.shape"
   ]
  },
  {
   "cell_type": "code",
   "execution_count": 40,
   "metadata": {},
   "outputs": [
    {
     "data": {
      "text/plain": [
       "<matplotlib.image.AxesImage at 0x7f9bdced7820>"
      ]
     },
     "execution_count": 40,
     "metadata": {},
     "output_type": "execute_result"
    },
    {
     "data": {
      "image/png": "[encoded data removed]",
      "text/plain": [
       "<Figure size 640x480 with 1 Axes>"
      ]
     },
     "metadata": {},
     "output_type": "display_data"
    }
   ],
   "source": [
    "plt.imshow(xenc)"
   ]
  },
  {
   "cell_type": "code",
   "execution_count": 41,
   "metadata": {},
   "outputs": [
    {
     "data": {
      "text/plain": [
       "tensor([[-0.6046, -0.3491,  0.2435,  0.5142,  1.5232, -0.7306,  1.1006, -0.2224,\n",
       "          0.2822,  0.4698,  1.3067, -1.4517, -0.6800, -0.0976, -1.1779,  0.5034,\n",
       "         -0.6409, -0.8612,  0.3433, -0.6674,  0.3300,  1.2975, -0.1127,  0.4733,\n",
       "         -0.7487, -0.4654,  0.0547],\n",
       "        [-1.5120,  2.0341, -0.2661,  0.0453, -0.3448,  0.0854, -0.5530,  0.0940,\n",
       "         -0.1316,  0.8107, -0.2677,  0.5146,  0.9076,  0.1664,  0.6831, -0.4381,\n",
       "         -1.9305,  1.4531, -0.3721,  1.4788, -0.8117, -0.6589, -0.1577, -1.6766,\n",
       "          1.3930,  0.4156,  1.1409],\n",
       "        [ 0.6003,  0.4835,  0.6352,  1.0967,  0.7445, -1.0002, -0.5563, -0.4766,\n",
       "          0.2362, -0.6020, -0.6111,  1.1264, -0.2020,  0.3856,  0.6586, -0.5006,\n",
       "         -0.5124, -0.2393, -1.1887,  0.0506,  0.8183, -0.0615,  0.2136,  0.0187,\n",
       "          1.1106, -0.4152, -1.2947],\n",
       "        [ 0.6003,  0.4835,  0.6352,  1.0967,  0.7445, -1.0002, -0.5563, -0.4766,\n",
       "          0.2362, -0.6020, -0.6111,  1.1264, -0.2020,  0.3856,  0.6586, -0.5006,\n",
       "         -0.5124, -0.2393, -1.1887,  0.0506,  0.8183, -0.0615,  0.2136,  0.0187,\n",
       "          1.1106, -0.4152, -1.2947],\n",
       "        [-0.1870, -0.1475,  0.3748,  1.2853, -0.0777, -1.3965, -1.9336,  0.6317,\n",
       "          1.6655, -0.1507, -0.2513,  1.2961, -1.0846, -0.4413, -0.0139, -1.3630,\n",
       "         -1.1802, -1.4922, -0.3111, -0.1669,  1.2801,  1.3120, -1.2040, -0.6182,\n",
       "          0.6826, -0.4527,  0.5014]])"
      ]
     },
     "execution_count": 41,
     "metadata": {},
     "output_type": "execute_result"
    }
   ],
   "source": [
    "#randomly initialize 27 neuron weights, each neuron receives 27 weights\n",
    "g = torch.Generator().manual_seed(2144783647)\n",
    "W = torch.randn((27, 27), generator=g)\n",
    "xenc @ W"
   ]
  },
  {
   "cell_type": "code",
   "execution_count": 42,
   "metadata": {},
   "outputs": [
    {
     "data": {
      "text/plain": [
       "torch.Size([5, 27])"
      ]
     },
     "execution_count": 42,
     "metadata": {},
     "output_type": "execute_result"
    }
   ],
   "source": [
    "(xenc @ W).shape"
   ]
  },
  {
   "cell_type": "code",
   "execution_count": 43,
   "metadata": {},
   "outputs": [],
   "source": [
    "# (5, 27) * (27, 27) --> (5, 27)"
   ]
  },
  {
   "cell_type": "markdown",
   "metadata": {},
   "source": [
    "Exponentiate the number"
   ]
  },
  {
   "cell_type": "code",
   "execution_count": 44,
   "metadata": {},
   "outputs": [
    {
     "data": {
      "text/plain": [
       "tensor([[0.5463, 0.7053, 1.2757, 1.6723, 4.5870, 0.4816, 3.0058, 0.8006, 1.3261,\n",
       "         1.5997, 3.6938, 0.2342, 0.5066, 0.9070, 0.3079, 1.6544, 0.5268, 0.4226,\n",
       "         1.4096, 0.5130, 1.3909, 3.6602, 0.8934, 1.6052, 0.4730, 0.6279, 1.0562],\n",
       "        [0.2205, 7.6452, 0.7663, 1.0464, 0.7084, 1.0892, 0.5752, 1.0986, 0.8767,\n",
       "         2.2495, 0.7652, 1.6729, 2.4784, 1.1810, 1.9801, 0.6453, 0.1451, 4.2762,\n",
       "         0.6893, 4.3875, 0.4441, 0.5174, 0.8541, 0.1870, 4.0269, 1.5152, 3.1295],\n",
       "        [1.8227, 1.6217, 1.8873, 2.9943, 2.1054, 0.3678, 0.5733, 0.6209, 1.2664,\n",
       "         0.5477, 0.5428, 3.0847, 0.8171, 1.4705, 1.9321, 0.6062, 0.5991, 0.7872,\n",
       "         0.3046, 1.0519, 2.2667, 0.9403, 1.2381, 1.0189, 3.0360, 0.6602, 0.2740],\n",
       "        [1.8227, 1.6217, 1.8873, 2.9943, 2.1054, 0.3678, 0.5733, 0.6209, 1.2664,\n",
       "         0.5477, 0.5428, 3.0847, 0.8171, 1.4705, 1.9321, 0.6062, 0.5991, 0.7872,\n",
       "         0.3046, 1.0519, 2.2667, 0.9403, 1.2381, 1.0189, 3.0360, 0.6602, 0.2740],\n",
       "        [0.8294, 0.8629, 1.4546, 3.6159, 0.9252, 0.2475, 0.1446, 1.8807, 5.2882,\n",
       "         0.8601, 0.7778, 3.6551, 0.3380, 0.6432, 0.9862, 0.2559, 0.3072, 0.2249,\n",
       "         0.7327, 0.8463, 3.5971, 3.7134, 0.3000, 0.5389, 1.9790, 0.6359, 1.6511]])"
      ]
     },
     "execution_count": 44,
     "metadata": {},
     "output_type": "execute_result"
    }
   ],
   "source": [
    "(xenc @ W).exp()"
   ]
  },
  {
   "cell_type": "code",
   "execution_count": 45,
   "metadata": {},
   "outputs": [],
   "source": [
    "logits = xenc @ W\n",
    "counts = logits.exp()\n",
    "probs = counts / counts.sum(1, keepdim=True)"
   ]
  },
  {
   "cell_type": "code",
   "execution_count": 46,
   "metadata": {},
   "outputs": [
    {
     "data": {
      "text/plain": [
       "torch.Size([5, 27])"
      ]
     },
     "execution_count": 46,
     "metadata": {},
     "output_type": "execute_result"
    }
   ],
   "source": [
    "probs.shape"
   ]
  },
  {
   "cell_type": "code",
   "execution_count": 47,
   "metadata": {},
   "outputs": [
    {
     "data": {
      "text/plain": [
       "tensor(1.)"
      ]
     },
     "execution_count": 47,
     "metadata": {},
     "output_type": "execute_result"
    }
   ],
   "source": [
    "probs[0].sum()"
   ]
  },
  {
   "cell_type": "markdown",
   "metadata": {},
   "source": [
    "Initialize weights and one hot encode the inputs"
   ]
  },
  {
   "cell_type": "code",
   "execution_count": 48,
   "metadata": {},
   "outputs": [],
   "source": [
    "g = torch.Generator().manual_seed(2144783647)\n",
    "W = torch.randn((27, 27), generator=g)\n",
    "\n",
    "xenc = F.one_hot(xs, num_classes=27).float()\n",
    "xenc = xenc @ W\n",
    "\n",
    "#Normalization to 0-1 with softmax\n",
    "counts = logits.exp()\n",
    "probs = counts/counts.sum(1, keepdim=True)"
   ]
  },
  {
   "cell_type": "code",
   "execution_count": 49,
   "metadata": {},
   "outputs": [
    {
     "data": {
      "text/plain": [
       "torch.Size([5, 27])"
      ]
     },
     "execution_count": 49,
     "metadata": {},
     "output_type": "execute_result"
    }
   ],
   "source": [
    "probs.shape"
   ]
  },
  {
   "cell_type": "code",
   "execution_count": 50,
   "metadata": {},
   "outputs": [
    {
     "name": "stdout",
     "output_type": "stream",
     "text": [
      "===================================\n",
      "bigram 1:: .e (indexes 0, 5)\n",
      "Input to the NN: 0\n",
      "Output probs from the NN: tensor([0.0152, 0.0197, 0.0356, 0.0466, 0.1278, 0.0134, 0.0838, 0.0223, 0.0370,\n",
      "        0.0446, 0.1029, 0.0065, 0.0141, 0.0253, 0.0086, 0.0461, 0.0147, 0.0118,\n",
      "        0.0393, 0.0143, 0.0388, 0.1020, 0.0249, 0.0447, 0.0132, 0.0175, 0.0294])\n",
      "Next char: 5\n",
      "Prob assigned by NN to the correct char: 0.013421350158751011\n",
      "Log likelihood:  tensor(-4.3109)\n",
      "negative log likelihood:  4.310908317565918\n",
      "===================================\n",
      "bigram 2:: em (indexes 5, 13)\n",
      "Input to the NN: 5\n",
      "Output probs from the NN: tensor([0.0049, 0.1692, 0.0170, 0.0232, 0.0157, 0.0241, 0.0127, 0.0243, 0.0194,\n",
      "        0.0498, 0.0169, 0.0370, 0.0549, 0.0261, 0.0438, 0.0143, 0.0032, 0.0947,\n",
      "        0.0153, 0.0971, 0.0098, 0.0115, 0.0189, 0.0041, 0.0891, 0.0335, 0.0693])\n",
      "Next char: 13\n",
      "Prob assigned by NN to the correct char: 0.02614535577595234\n",
      "Log likelihood:  tensor(-3.6441)\n",
      "negative log likelihood:  3.6440837383270264\n",
      "===================================\n",
      "bigram 3:: mm (indexes 13, 13)\n",
      "Input to the NN: 13\n",
      "Output probs from the NN: tensor([0.0529, 0.0471, 0.0548, 0.0869, 0.0611, 0.0107, 0.0166, 0.0180, 0.0368,\n",
      "        0.0159, 0.0158, 0.0896, 0.0237, 0.0427, 0.0561, 0.0176, 0.0174, 0.0229,\n",
      "        0.0088, 0.0305, 0.0658, 0.0273, 0.0360, 0.0296, 0.0882, 0.0192, 0.0080])\n",
      "Next char: 13\n",
      "Prob assigned by NN to the correct char: 0.042699310928583145\n",
      "Log likelihood:  tensor(-3.1536)\n",
      "negative log likelihood:  3.1535725593566895\n",
      "===================================\n",
      "bigram 4:: ma (indexes 13, 1)\n",
      "Input to the NN: 13\n",
      "Output probs from the NN: tensor([0.0529, 0.0471, 0.0548, 0.0869, 0.0611, 0.0107, 0.0166, 0.0180, 0.0368,\n",
      "        0.0159, 0.0158, 0.0896, 0.0237, 0.0427, 0.0561, 0.0176, 0.0174, 0.0229,\n",
      "        0.0088, 0.0305, 0.0658, 0.0273, 0.0360, 0.0296, 0.0882, 0.0192, 0.0080])\n",
      "Next char: 1\n",
      "Prob assigned by NN to the correct char: 0.047091033309698105\n",
      "Log likelihood:  tensor(-3.0557)\n",
      "negative log likelihood:  3.0556726455688477\n",
      "===================================\n",
      "bigram 5:: a. (indexes 1, 0)\n",
      "Input to the NN: 1\n",
      "Output probs from the NN: tensor([0.0222, 0.0231, 0.0390, 0.0970, 0.0248, 0.0066, 0.0039, 0.0504, 0.1418,\n",
      "        0.0231, 0.0209, 0.0980, 0.0091, 0.0172, 0.0264, 0.0069, 0.0082, 0.0060,\n",
      "        0.0196, 0.0227, 0.0965, 0.0996, 0.0080, 0.0145, 0.0531, 0.0171, 0.0443])\n",
      "Next char: 0\n",
      "Prob assigned by NN to the correct char: 0.022240959107875824\n",
      "Log likelihood:  tensor(-3.8058)\n",
      "negative log likelihood:  3.8058197498321533\n",
      "++++++++++++++++++++++++++++++++++++++++++\n",
      "Average NLL, loss:  3.8058197498321533\n"
     ]
    }
   ],
   "source": [
    "nlls = torch.zeros(5)\n",
    "\n",
    "for i in range(5):\n",
    "    # i-th bigram\n",
    "    x = xs[i].item() #index of input char\n",
    "    y = ys[i].item() #index of label char\n",
    "    print(\"===================================\")\n",
    "    print(f'bigram {i+1}:: {itos[x]}{itos[y]} (indexes {x}, {y})')\n",
    "    print(f'Input to the NN: {x}')\n",
    "    print(f'Output probs from the NN: {probs[i]}')\n",
    "    print(f'Next char: {y}')\n",
    "    p = probs[i, y]\n",
    "    print(f'Prob assigned by NN to the correct char: {p.item()}')\n",
    "    logp = torch.log(p)\n",
    "    print('Log likelihood: ', logp)\n",
    "    nll = -logp\n",
    "    print('negative log likelihood: ', nll.item())\n",
    "    nlls[i] = nll\n",
    "\n",
    "print('++++++++++++++++++++++++++++++++++++++++++')\n",
    "print('Average NLL, loss: ', nll.mean().item())"
   ]
  },
  {
   "attachments": {},
   "cell_type": "markdown",
   "metadata": {},
   "source": [
    "Forward pass"
   ]
  },
  {
   "cell_type": "code",
   "execution_count": 51,
   "metadata": {},
   "outputs": [],
   "source": [
    "g = torch.Generator().manual_seed(2144783647)\n",
    "W = torch.randn((27, 27), generator=g, requires_grad=True)"
   ]
  },
  {
   "cell_type": "code",
   "execution_count": 52,
   "metadata": {},
   "outputs": [],
   "source": [
    "xenc = F.one_hot(xs, num_classes=27).float()\n",
    "logits = xenc @ W\n",
    "\n",
    "#Normalization to 0-1 with softmax\n",
    "counts = logits.exp()\n",
    "probs = counts/counts.sum(1, keepdims=True)\n",
    "\n",
    "loss = -probs[torch.arange(5), ys].log().mean()"
   ]
  },
  {
   "cell_type": "code",
   "execution_count": 53,
   "metadata": {},
   "outputs": [
    {
     "data": {
      "text/plain": [
       "tensor(3.5940, grad_fn=<NegBackward0>)"
      ]
     },
     "execution_count": 53,
     "metadata": {},
     "output_type": "execute_result"
    }
   ],
   "source": [
    "loss"
   ]
  },
  {
   "cell_type": "markdown",
   "metadata": {},
   "source": [
    "Backward pass"
   ]
  },
  {
   "cell_type": "code",
   "execution_count": 54,
   "metadata": {},
   "outputs": [],
   "source": [
    "W.grad = None #zero grad\n",
    "loss.backward()"
   ]
  },
  {
   "cell_type": "code",
   "execution_count": 55,
   "metadata": {},
   "outputs": [
    {
     "data": {
      "text/plain": [
       "torch.Size([27, 27])"
      ]
     },
     "execution_count": 55,
     "metadata": {},
     "output_type": "execute_result"
    }
   ],
   "source": [
    "W.grad.shape"
   ]
  },
  {
   "cell_type": "code",
   "execution_count": 56,
   "metadata": {},
   "outputs": [],
   "source": [
    "W.data += -0.1 * W.grad"
   ]
  },
  {
   "cell_type": "code",
   "execution_count": 57,
   "metadata": {},
   "outputs": [
    {
     "data": {
      "text/plain": [
       "tensor(3.5940, grad_fn=<NegBackward0>)"
      ]
     },
     "execution_count": 57,
     "metadata": {},
     "output_type": "execute_result"
    }
   ],
   "source": [
    "loss"
   ]
  },
  {
   "cell_type": "markdown",
   "metadata": {},
   "source": [
    "Full Training Loop"
   ]
  },
  {
   "cell_type": "code",
   "execution_count": 72,
   "metadata": {},
   "outputs": [
    {
     "name": "stdout",
     "output_type": "stream",
     "text": [
      "Num of examples:  228146\n"
     ]
    }
   ],
   "source": [
    "# create the training set of bigrams (x, y)\n",
    "xs, ys = [], []\n",
    "\n",
    "for w in words:\n",
    "    chs = ['.'] + list(w) + ['.']\n",
    "    for ch1, ch2 in zip(chs, chs[1:]):\n",
    "        ix1 = stoi[ch1]\n",
    "        ix2 = stoi[ch2]\n",
    "        xs.append(ix1)\n",
    "        ys.append(ix2)\n",
    "\n",
    "xs = torch.tensor(xs)\n",
    "ys = torch.tensor(ys)\n",
    "num = xs.nelement()\n",
    "print('Num of examples: ', num)"
   ]
  },
  {
   "cell_type": "code",
   "execution_count": 73,
   "metadata": {},
   "outputs": [],
   "source": [
    "g = torch.Generator().manual_seed(2144783647)\n",
    "W = torch.randn((27, 27), generator=g, requires_grad=True)"
   ]
  },
  {
   "cell_type": "code",
   "execution_count": 79,
   "metadata": {},
   "outputs": [],
   "source": [
    "#Grad descent\n",
    "\n",
    "for k in range(100):\n",
    "\n",
    "    xenc = F.one_hot(xs, num_classes=27).float()\n",
    "    logits = xenc @ W\n",
    "\n",
    "    #Normalization to 0-1 with softmax\n",
    "    counts = logits.exp()\n",
    "    probs = counts/counts.sum(1, keepdims=True)\n",
    "\n",
    "    loss = -probs[torch.arange(num), ys].log().mean()\n",
    "\n",
    "    W.grad = None #zero grad\n",
    "    loss.backward()\n",
    " \n",
    "    W.data += -50 * W.grad"
   ]
  },
  {
   "cell_type": "code",
   "execution_count": 80,
   "metadata": {},
   "outputs": [
    {
     "data": {
      "text/plain": [
       "tensor(2.4621, grad_fn=<NegBackward0>)"
      ]
     },
     "execution_count": 80,
     "metadata": {},
     "output_type": "execute_result"
    }
   ],
   "source": [
    "loss"
   ]
  },
  {
   "cell_type": "markdown",
   "metadata": {},
   "source": [
    "- The loss here approaches the count based approach done earlier which is the best case scenario\n",
    "\n",
    "- This grad descent approach is however scalable and can be applied when we need to look many more prev chars for prediction"
   ]
  },
  {
   "cell_type": "markdown",
   "metadata": {},
   "source": [
    "Regularization"
   ]
  },
  {
   "cell_type": "markdown",
   "metadata": {},
   "source": [
    "- Minimise the weights, distribution is smoother"
   ]
  },
  {
   "cell_type": "code",
   "execution_count": 82,
   "metadata": {},
   "outputs": [
    {
     "data": {
      "text/plain": [
       "tensor(2.0998, grad_fn=<MeanBackward0>)"
      ]
     },
     "execution_count": 82,
     "metadata": {},
     "output_type": "execute_result"
    }
   ],
   "source": [
    "(W**2).mean()"
   ]
  },
  {
   "cell_type": "code",
   "execution_count": 83,
   "metadata": {},
   "outputs": [],
   "source": [
    "for k in range(100):\n",
    "\n",
    "    xenc = F.one_hot(xs, num_classes=27).float()\n",
    "    logits = xenc @ W\n",
    "\n",
    "    #Normalization to 0-1 with softmax\n",
    "    counts = logits.exp()\n",
    "    probs = counts/counts.sum(1, keepdims=True)\n",
    "\n",
    "    loss = -probs[torch.arange(num), ys].log().mean() + 0.01*(W**2).mean()\n",
    "\n",
    "    W.grad = None #zero grad\n",
    "    loss.backward()\n",
    " \n",
    "    W.data += -50 * W.grad"
   ]
  },
  {
   "cell_type": "markdown",
   "metadata": {},
   "source": [
    "Pred from NN model"
   ]
  },
  {
   "cell_type": "code",
   "execution_count": 90,
   "metadata": {},
   "outputs": [
    {
     "name": "stdout",
     "output_type": "stream",
     "text": [
      "13\n",
      "15\n",
      "18\n",
      "0\n",
      "mor.\n",
      "1\n",
      "24\n",
      "24\n",
      "0\n",
      "axx.\n",
      "13\n",
      "9\n",
      "14\n",
      "1\n",
      "25\n",
      "13\n",
      "15\n",
      "18\n",
      "25\n",
      "12\n",
      "5\n",
      "19\n",
      "0\n",
      "minaymoryles.\n",
      "11\n",
      "15\n",
      "14\n",
      "4\n",
      "12\n",
      "1\n",
      "9\n",
      "19\n",
      "1\n",
      "8\n",
      "0\n",
      "kondlaisah.\n",
      "1\n",
      "14\n",
      "3\n",
      "8\n",
      "20\n",
      "8\n",
      "9\n",
      "26\n",
      "1\n",
      "18\n",
      "9\n",
      "5\n",
      "0\n",
      "anchthizarie.\n"
     ]
    }
   ],
   "source": [
    "g = torch.Generator().manual_seed(2147483647)\n",
    "\n",
    "for i in range(5):\n",
    "\n",
    "    out = []\n",
    "    ix = 0\n",
    "    while True:\n",
    "        xenc = F.one_hot(torch.tensor([ix]), num_classes=27).float()\n",
    "        logits = xenc @ W\n",
    "        counts = logits.exp()\n",
    "        p = counts / counts.sum(1, keepdim=True)\n",
    "\n",
    "        ix = torch.multinomial(p, num_samples=1, replacement=True, generator=g).item()\n",
    "        out.append(itos[ix])\n",
    "        if ix == 0:\n",
    "            break\n",
    "\n",
    "    print(''.join(out))\n"
   ]
  }
 ],
 "metadata": {
  "kernelspec": {
   "display_name": "transformers",
   "language": "python",
   "name": "python3"
  },
  "language_info": {
   "codemirror_mode": {
    "name": "ipython",
    "version": 3
   },
   "file_extension": ".py",
   "mimetype": "text/x-python",
   "name": "python",
   "nbconvert_exporter": "python",
   "pygments_lexer": "ipython3",
   "version": "3.10.8"
  },
  "orig_nbformat": 4,
  "vscode": {
   "interpreter": {
    "hash": "dddab157190c3c29c7bfa9724dd2612e80e7d4a281bb7f76e54f36d2e23abd8a"
   }
  }
 },
 "nbformat": 4,
 "nbformat_minor": 2
}
