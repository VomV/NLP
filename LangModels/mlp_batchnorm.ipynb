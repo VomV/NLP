{
 "cells": [
  {
   "cell_type": "code",
   "execution_count": 1,
   "metadata": {},
   "outputs": [],
   "source": [
    "import torch\n",
    "import random\n",
    "import torch.nn.functional as F\n",
    "import matplotlib.pyplot as plt\n",
    "%matplotlib inline"
   ]
  },
  {
   "cell_type": "code",
   "execution_count": 2,
   "metadata": {},
   "outputs": [
    {
     "data": {
      "text/plain": [
       "['emma', 'olivia', 'ava', 'isabella', 'sophia', 'charlotte', 'mia', 'amelia']"
      ]
     },
     "execution_count": 2,
     "metadata": {},
     "output_type": "execute_result"
    }
   ],
   "source": [
    "# read all words\n",
    "\n",
    "words = open('names.txt', 'r').read().splitlines()\n",
    "words[:8]"
   ]
  },
  {
   "cell_type": "code",
   "execution_count": 3,
   "metadata": {},
   "outputs": [
    {
     "data": {
      "text/plain": [
       "32033"
      ]
     },
     "execution_count": 3,
     "metadata": {},
     "output_type": "execute_result"
    }
   ],
   "source": [
    "len(words)"
   ]
  },
  {
   "cell_type": "markdown",
   "metadata": {},
   "source": [
    "Vocab"
   ]
  },
  {
   "cell_type": "code",
   "execution_count": 4,
   "metadata": {},
   "outputs": [
    {
     "name": "stdout",
     "output_type": "stream",
     "text": [
      "{1: 'a', 2: 'b', 3: 'c', 4: 'd', 5: 'e', 6: 'f', 7: 'g', 8: 'h', 9: 'i', 10: 'j', 11: 'k', 12: 'l', 13: 'm', 14: 'n', 15: 'o', 16: 'p', 17: 'q', 18: 'r', 19: 's', 20: 't', 21: 'u', 22: 'v', 23: 'w', 24: 'x', 25: 'y', 26: 'z', 0: '.'}\n",
      "27\n"
     ]
    }
   ],
   "source": [
    "chars = sorted(list(set(''.join(words))))\n",
    "stoi = {s:i+1 for i,s in enumerate(chars)}\n",
    "stoi['.'] = 0\n",
    "\n",
    "itos = {i:s for s,i in stoi.items()}\n",
    "vocab_size = len(itos)\n",
    "print(itos)\n",
    "print(vocab_size)"
   ]
  },
  {
   "cell_type": "markdown",
   "metadata": {},
   "source": [
    "Dataset"
   ]
  },
  {
   "cell_type": "code",
   "execution_count": 5,
   "metadata": {},
   "outputs": [
    {
     "name": "stdout",
     "output_type": "stream",
     "text": [
      "torch.Size([182625, 3]) torch.Size([182625])\n",
      "torch.Size([22655, 3]) torch.Size([22655])\n",
      "torch.Size([22866, 3]) torch.Size([22866])\n"
     ]
    }
   ],
   "source": [
    "block_size = 3\n",
    "\n",
    "def build_dataset(words):\n",
    "\n",
    "    X, Y = [], []\n",
    "    for w in words:\n",
    "        context = [0] * block_size\n",
    "        for ch in w + '.':\n",
    "            ix = stoi[ch]\n",
    "            X.append(context)\n",
    "            Y.append(ix)\n",
    "            context = context[1:] + [ix] #crop and append\n",
    "\n",
    "    X = torch.tensor(X)\n",
    "    Y = torch.tensor(Y)\n",
    "    print(X.shape, Y.shape)\n",
    "    return X, Y\n",
    "\n",
    "\n",
    "random.seed(42)\n",
    "random.shuffle(words)\n",
    "n1 = int(0.8*len(words))\n",
    "n2 = int(0.9*len(words))\n",
    "X_train, Y_train = build_dataset(words[:n1])\n",
    "X_dev, Y_dev = build_dataset(words[n1:n2])\n",
    "X_test, Y_test = build_dataset(words[n2:])"
   ]
  },
  {
   "cell_type": "markdown",
   "metadata": {},
   "source": [
    "MLP params"
   ]
  },
  {
   "cell_type": "code",
   "execution_count": 6,
   "metadata": {},
   "outputs": [
    {
     "name": "stdout",
     "output_type": "stream",
     "text": [
      "11897\n"
     ]
    }
   ],
   "source": [
    "n_embed = 10 #embedding dimensions\n",
    "n_hidden = 200 #no of neurons in the hidden layer\n",
    "\n",
    "g = torch.Generator().manual_seed(42)\n",
    "\n",
    "C = torch.randn((vocab_size, n_embed), generator=g)\n",
    "W1 = torch.randn((n_embed*block_size, n_hidden), generator=g) * (5/3)/(n_embed*block_size)**0.5\n",
    "b1 = torch.randn(n_hidden, generator=g) * 0.01\n",
    "W2 = torch.randn((n_hidden, vocab_size), generator=g) * 0.01\n",
    "b2 = torch.randn(vocab_size, generator=g) * 0\n",
    "\n",
    "parameters = [C, W1, b1, W2, b2]\n",
    "print(sum(p.nelement() for p in parameters)) # total no of params\n",
    "for p in parameters:\n",
    "    p.requires_grad = True"
   ]
  },
  {
   "cell_type": "markdown",
   "metadata": {},
   "source": [
    "Optimization"
   ]
  },
  {
   "cell_type": "markdown",
   "metadata": {},
   "source": [
    "Eval"
   ]
  },
  {
   "cell_type": "code",
   "execution_count": 7,
   "metadata": {},
   "outputs": [
    {
     "name": "stdout",
     "output_type": "stream",
     "text": [
      "train 3.2980921268463135\n",
      "val 3.2999227046966553\n"
     ]
    }
   ],
   "source": [
    "@torch.no_grad() #disable grad tracking\n",
    "def split_loss(split):\n",
    "    x, y = {\n",
    "        'train': (X_train, Y_train),\n",
    "        'val': (X_dev, Y_dev),\n",
    "        'test': (X_test, Y_test)\n",
    "    }[split]\n",
    "\n",
    "    emb = C[x] #(N, block_size, n_embed)\n",
    "    embcat = emb.view(emb.shape[0], -1) # concat into (N, block_size*n_embed)\n",
    "    h = torch.tanh(embcat@ W1 + b1)\n",
    "    logits = h @ W2 +b2\n",
    "    loss = F.cross_entropy(logits, y)\n",
    "    print(split, loss.item())\n",
    "\n",
    "split_loss('train')\n",
    "split_loss('val')\n",
    "    "
   ]
  },
  {
   "cell_type": "markdown",
   "metadata": {},
   "source": [
    "Sample from the model"
   ]
  },
  {
   "cell_type": "code",
   "execution_count": 8,
   "metadata": {},
   "outputs": [
    {
     "name": "stdout",
     "output_type": "stream",
     "text": [
      "xjuguenvtps.\n",
      "fabiquedxfmubnwmsflaypglzofmwhwlxoln.\n",
      "epjccuodsgjdmzu.\n",
      "knxcmjjobdrggbdlpk.\n",
      "mnqhqyjfbscvghigeaczalcvjwzajwtphjpdmquotcc.\n",
      "weltxosvgkohobr.\n",
      "uklnncvrigmydlsoumf.\n",
      "pjjiewx.\n",
      "lxmjuhm.\n",
      "fsckbirdovhgn.\n",
      "kgoktfkzuacabxa.\n",
      "atodr.\n",
      "bxwqzjzdqvtmdampemaqj.\n",
      "omtafjiirvqtlfkyeumxuoxtame.\n",
      "ovzqmywog.\n",
      "acdtqumkorvdyxxhlsogob.\n",
      "tnslwkgmnfuyccqendhln.\n",
      "quehejojixfdirndbgcpvrsczagrtpltqc.\n",
      "jsnq.\n",
      "dazxygkihhnynvyfjfzgxlvkqncqgahwkig.\n"
     ]
    }
   ],
   "source": [
    "g = torch.Generator().manual_seed(42)\n",
    "\n",
    "for _ in range(20):\n",
    "    out = []\n",
    "    context = [0]*block_size\n",
    "    while True:\n",
    "        emb = C[torch.tensor([context])]\n",
    "        h = torch.tanh(emb.view(1, -1) @ W1 + b1)\n",
    "        logits = h @ W2 + b2\n",
    "        probs = F.softmax(logits, dim=1)\n",
    "\n",
    "        #sample from the dist\n",
    "        ix = torch.multinomial(probs, num_samples=1, generator=g).item()\n",
    "\n",
    "        #shift the context window\n",
    "        context = context[1:] + [ix]\n",
    "        out.append(ix)\n",
    "\n",
    "        if ix == 0:\n",
    "            break\n",
    "\n",
    "    print(''.join(itos[i] for i in out))\n"
   ]
  },
  {
   "cell_type": "code",
   "execution_count": 9,
   "metadata": {},
   "outputs": [
    {
     "name": "stdout",
     "output_type": "stream",
     "text": [
      "      0/ 200000: 3.2844\n",
      "  10000/ 200000: 2.0816\n",
      "  20000/ 200000: 2.3091\n",
      "  30000/ 200000: 1.9938\n",
      "  40000/ 200000: 2.2890\n",
      "  50000/ 200000: 2.2568\n",
      "  60000/ 200000: 2.3548\n",
      "  70000/ 200000: 2.4330\n",
      "  80000/ 200000: 2.0860\n",
      "  90000/ 200000: 2.1756\n",
      " 100000/ 200000: 2.5186\n",
      " 110000/ 200000: 1.8009\n",
      " 120000/ 200000: 1.8870\n",
      " 130000/ 200000: 2.0851\n",
      " 140000/ 200000: 1.8776\n",
      " 150000/ 200000: 2.4181\n",
      " 160000/ 200000: 1.8908\n",
      " 170000/ 200000: 1.8506\n",
      " 180000/ 200000: 1.8193\n",
      " 190000/ 200000: 2.1520\n"
     ]
    }
   ],
   "source": [
    "max_steps = 200000\n",
    "batch_size = 32\n",
    "lossi = []\n",
    "\n",
    "for i in range(max_steps):\n",
    "\n",
    "    #minibatch\n",
    "    ix = torch.randint(0, X_train.shape[0], (batch_size, ), generator=g)\n",
    "    Xb, Yb = X_train[ix], Y_train[ix] #batch X, Y\n",
    "\n",
    "    #forward pass\n",
    "    emb = C[Xb] #embed the characters into vectors\n",
    "    embcat = emb.view(emb.shape[0], -1)\n",
    "    h_pre_act = embcat @ W1 + b1\n",
    "    h = torch.tanh(h_pre_act)\n",
    "    logits = h @ W2 + b2\n",
    "    loss = F.cross_entropy(logits, Yb)\n",
    "\n",
    "    #backward pass\n",
    "    for p in parameters:\n",
    "        p.grad = None\n",
    "    loss.backward()\n",
    "\n",
    "    #learning rate\n",
    "    lr = 0.1 if i < 100000 else 0.01 # step learning rate decay\n",
    "\n",
    "    #update\n",
    "    for p in parameters:\n",
    "        p.data += -lr * p.grad\n",
    "\n",
    "    #track stats\n",
    "    if i % 10000 == 0:\n",
    "        print(f'{i:7d}/{max_steps:7d}: {loss.item():.4f}')\n",
    "    lossi.append(loss.log10().item())"
   ]
  },
  {
   "cell_type": "code",
   "execution_count": 10,
   "metadata": {},
   "outputs": [
    {
     "name": "stdout",
     "output_type": "stream",
     "text": [
      "train 2.039062023162842\n",
      "val 2.1046345233917236\n"
     ]
    }
   ],
   "source": [
    "@torch.no_grad() #disable grad tracking\n",
    "def split_loss(split):\n",
    "    x, y = {\n",
    "        'train': (X_train, Y_train),\n",
    "        'val': (X_dev, Y_dev),\n",
    "        'test': (X_test, Y_test)\n",
    "    }[split]\n",
    "\n",
    "    emb = C[x] #(N, block_size, n_embed)\n",
    "    embcat = emb.view(emb.shape[0], -1) # concat into (N, block_size*n_embed)\n",
    "    h = torch.tanh(embcat@ W1 + b1)\n",
    "    logits = h @ W2 +b2\n",
    "    loss = F.cross_entropy(logits, y)\n",
    "    print(split, loss.item())\n",
    "\n",
    "split_loss('train')\n",
    "split_loss('val')\n",
    "    "
   ]
  },
  {
   "cell_type": "markdown",
   "metadata": {},
   "source": [
    "Batch Normalization"
   ]
  },
  {
   "attachments": {},
   "cell_type": "markdown",
   "metadata": {},
   "source": [
    "- Standardizing hidden states to be unit gaussians\n",
    "- 2015, Ioffe et al"
   ]
  },
  {
   "cell_type": "code",
   "execution_count": 11,
   "metadata": {},
   "outputs": [
    {
     "data": {
      "text/plain": [
       "tensor([[ 0.2450,  0.8468, -0.3370, -0.6128,  0.2819, -1.4102, -0.6329, -0.1932,\n",
       "         -0.8002, -0.5700,  0.4880, -1.0280, -0.6705,  0.2041,  0.0656, -1.3523,\n",
       "         -0.0108,  0.2196, -0.3964, -0.0611, -0.1599,  0.4347, -0.3384,  0.6716,\n",
       "         -0.5845, -0.1421,  0.4394, -0.9133,  0.7759, -0.2814, -0.6424,  0.8679,\n",
       "          0.1787,  0.1866, -0.4940,  0.6676,  0.5536, -1.0461, -0.0434, -0.0142,\n",
       "          1.4273,  0.0497,  1.6385, -1.1905,  0.4529,  0.3203,  0.2545,  1.7487,\n",
       "          0.7042, -0.3972, -0.4655,  0.3131,  0.1845,  0.3747,  0.4394,  0.2772,\n",
       "         -0.1256,  0.5866,  0.0908,  0.8287,  0.8183, -0.0711, -1.6706,  0.1434,\n",
       "         -0.6621,  0.2321,  1.1720, -0.0776,  0.7844, -0.3088,  0.2917,  0.0561,\n",
       "          1.1711, -1.1904,  1.6098,  0.7403, -1.3572, -0.6413,  0.0484, -0.6799,\n",
       "          0.3241,  1.1963,  0.1833,  0.5028,  0.9815, -0.4083,  0.4402, -1.1991,\n",
       "         -1.0565,  0.2991, -0.2325,  0.1594,  0.3470,  0.3566, -0.8424, -0.3876,\n",
       "          1.8976,  0.3698,  1.2562, -1.1924,  0.1834,  0.5432,  0.2569, -0.5302,\n",
       "          0.1281,  0.1597,  0.0654, -1.0235,  0.3848, -1.1795, -1.3807,  0.4740,\n",
       "          0.2428, -0.1908,  0.2166, -0.3870, -0.5168,  1.4641,  1.2170, -0.3065,\n",
       "          1.0533, -0.3510,  0.2010,  0.2584, -0.0813,  0.9548,  0.7470, -0.2651,\n",
       "         -0.6626, -1.2575, -0.7338,  0.5028,  1.0061, -0.2846, -0.3323, -0.0444,\n",
       "          0.6284,  0.5367, -0.3365,  0.0937, -0.2751, -0.5591,  1.0732, -0.0936,\n",
       "         -0.8423, -0.5465, -0.9379,  0.0479, -0.5168,  0.0199,  0.5775,  1.1436,\n",
       "         -0.2428,  1.1214,  0.3291, -1.5147,  0.1458,  0.2217, -0.4840,  0.4905,\n",
       "          0.0168, -0.2652, -1.0277,  0.7711,  0.2916,  0.0241,  0.4573, -0.9125,\n",
       "         -0.5432,  0.9512,  0.7924, -0.4112, -0.1004, -0.3610,  0.0516, -0.1837,\n",
       "          1.7500, -1.1323, -0.9618,  0.2534,  0.7102, -0.0102,  0.7212, -0.2407,\n",
       "         -0.1855,  1.4047,  0.2626, -0.1842, -0.5857, -0.2377,  2.6938, -0.2694,\n",
       "         -1.5285, -0.6490, -1.1457,  0.3744,  0.2430, -0.2880,  0.5604, -0.2726]],\n",
       "       grad_fn=<MeanBackward1>)"
      ]
     },
     "execution_count": 11,
     "metadata": {},
     "output_type": "execute_result"
    }
   ],
   "source": [
    "h_pre_act.mean(0, keepdim=True)"
   ]
  }
 ],
 "metadata": {
  "kernelspec": {
   "display_name": "transformers",
   "language": "python",
   "name": "python3"
  },
  "language_info": {
   "codemirror_mode": {
    "name": "ipython",
    "version": 3
   },
   "file_extension": ".py",
   "mimetype": "text/x-python",
   "name": "python",
   "nbconvert_exporter": "python",
   "pygments_lexer": "ipython3",
   "version": "3.10.8"
  },
  "orig_nbformat": 4,
  "vscode": {
   "interpreter": {
    "hash": "dddab157190c3c29c7bfa9724dd2612e80e7d4a281bb7f76e54f36d2e23abd8a"
   }
  }
 },
 "nbformat": 4,
 "nbformat_minor": 2
}
