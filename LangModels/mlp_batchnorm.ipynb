{
 "cells": [
  {
   "cell_type": "code",
   "execution_count": 1,
   "metadata": {},
   "outputs": [],
   "source": [
    "import torch\n",
    "import random\n",
    "import torch.nn.functional as F\n",
    "import matplotlib.pyplot as plt\n",
    "%matplotlib inline"
   ]
  },
  {
   "cell_type": "code",
   "execution_count": 2,
   "metadata": {},
   "outputs": [
    {
     "data": {
      "text/plain": [
       "['emma', 'olivia', 'ava', 'isabella', 'sophia', 'charlotte', 'mia', 'amelia']"
      ]
     },
     "execution_count": 2,
     "metadata": {},
     "output_type": "execute_result"
    }
   ],
   "source": [
    "# read all words\n",
    "\n",
    "words = open('names.txt', 'r').read().splitlines()\n",
    "words[:8]"
   ]
  },
  {
   "cell_type": "code",
   "execution_count": 3,
   "metadata": {},
   "outputs": [
    {
     "data": {
      "text/plain": [
       "32033"
      ]
     },
     "execution_count": 3,
     "metadata": {},
     "output_type": "execute_result"
    }
   ],
   "source": [
    "len(words)"
   ]
  },
  {
   "cell_type": "markdown",
   "metadata": {},
   "source": [
    "Vocab"
   ]
  },
  {
   "cell_type": "code",
   "execution_count": 4,
   "metadata": {},
   "outputs": [
    {
     "name": "stdout",
     "output_type": "stream",
     "text": [
      "{1: 'a', 2: 'b', 3: 'c', 4: 'd', 5: 'e', 6: 'f', 7: 'g', 8: 'h', 9: 'i', 10: 'j', 11: 'k', 12: 'l', 13: 'm', 14: 'n', 15: 'o', 16: 'p', 17: 'q', 18: 'r', 19: 's', 20: 't', 21: 'u', 22: 'v', 23: 'w', 24: 'x', 25: 'y', 26: 'z', 0: '.'}\n",
      "27\n"
     ]
    }
   ],
   "source": [
    "chars = sorted(list(set(''.join(words))))\n",
    "stoi = {s:i+1 for i,s in enumerate(chars)}\n",
    "stoi['.'] = 0\n",
    "\n",
    "itos = {i:s for s,i in stoi.items()}\n",
    "vocab_size = len(itos)\n",
    "print(itos)\n",
    "print(vocab_size)"
   ]
  },
  {
   "cell_type": "markdown",
   "metadata": {},
   "source": [
    "Dataset"
   ]
  },
  {
   "cell_type": "code",
   "execution_count": 5,
   "metadata": {},
   "outputs": [
    {
     "name": "stdout",
     "output_type": "stream",
     "text": [
      "torch.Size([182625, 3]) torch.Size([182625])\n",
      "torch.Size([22655, 3]) torch.Size([22655])\n",
      "torch.Size([22866, 3]) torch.Size([22866])\n"
     ]
    }
   ],
   "source": [
    "block_size = 3\n",
    "\n",
    "def build_dataset(words):\n",
    "\n",
    "    X, Y = [], []\n",
    "    for w in words:\n",
    "        context = [0] * block_size\n",
    "        for ch in w + '.':\n",
    "            ix = stoi[ch]\n",
    "            X.append(context)\n",
    "            Y.append(ix)\n",
    "            context = context[1:] + [ix] #crop and append\n",
    "\n",
    "    X = torch.tensor(X)\n",
    "    Y = torch.tensor(Y)\n",
    "    print(X.shape, Y.shape)\n",
    "    return X, Y\n",
    "\n",
    "\n",
    "random.seed(42)\n",
    "random.shuffle(words)\n",
    "n1 = int(0.8*len(words))\n",
    "n2 = int(0.9*len(words))\n",
    "X_train, Y_train = build_dataset(words[:n1])\n",
    "X_dev, Y_dev = build_dataset(words[n1:n2])\n",
    "X_test, Y_test = build_dataset(words[n2:])"
   ]
  },
  {
   "cell_type": "markdown",
   "metadata": {},
   "source": [
    "MLP params"
   ]
  },
  {
   "cell_type": "code",
   "execution_count": 6,
   "metadata": {},
   "outputs": [
    {
     "name": "stdout",
     "output_type": "stream",
     "text": [
      "11897\n"
     ]
    }
   ],
   "source": [
    "n_embed = 10 #embedding dimensions\n",
    "n_hidden = 200 #no of neurons in the hidden layer\n",
    "\n",
    "g = torch.Generator().manual_seed(42)\n",
    "\n",
    "C = torch.randn((vocab_size, n_embed), generator=g)\n",
    "W1 = torch.randn((n_embed*block_size, n_hidden), generator=g) * (5/3)/(n_embed*block_size)**0.5\n",
    "b1 = torch.randn(n_hidden, generator=g) * 0.01\n",
    "W2 = torch.randn((n_hidden, vocab_size), generator=g) * 0.01\n",
    "b2 = torch.randn(vocab_size, generator=g) * 0\n",
    "\n",
    "parameters = [C, W1, b1, W2, b2]\n",
    "print(sum(p.nelement() for p in parameters)) # total no of params\n",
    "for p in parameters:\n",
    "    p.requires_grad = True"
   ]
  },
  {
   "cell_type": "markdown",
   "metadata": {},
   "source": [
    "Optimization"
   ]
  },
  {
   "cell_type": "markdown",
   "metadata": {},
   "source": [
    "Eval"
   ]
  },
  {
   "cell_type": "code",
   "execution_count": 7,
   "metadata": {},
   "outputs": [
    {
     "name": "stdout",
     "output_type": "stream",
     "text": [
      "train 3.2980921268463135\n",
      "val 3.2999227046966553\n"
     ]
    }
   ],
   "source": [
    "@torch.no_grad() #disable grad tracking\n",
    "def split_loss(split):\n",
    "    x, y = {\n",
    "        'train': (X_train, Y_train),\n",
    "        'val': (X_dev, Y_dev),\n",
    "        'test': (X_test, Y_test)\n",
    "    }[split]\n",
    "\n",
    "    emb = C[x] #(N, block_size, n_embed)\n",
    "    embcat = emb.view(emb.shape[0], -1) # concat into (N, block_size*n_embed)\n",
    "    h = torch.tanh(embcat@ W1 + b1)\n",
    "    logits = h @ W2 +b2\n",
    "    loss = F.cross_entropy(logits, y)\n",
    "    print(split, loss.item())\n",
    "\n",
    "split_loss('train')\n",
    "split_loss('val')\n",
    "    "
   ]
  },
  {
   "cell_type": "markdown",
   "metadata": {},
   "source": [
    "Sample from the model"
   ]
  },
  {
   "cell_type": "code",
   "execution_count": 8,
   "metadata": {},
   "outputs": [
    {
     "name": "stdout",
     "output_type": "stream",
     "text": [
      "xjuguenvtps.\n",
      "fabiquedxfmubnwmsflaypglzofmwhwlxoln.\n",
      "epjccuodsgjdmzu.\n",
      "knxcmjjobdrggbdlpk.\n",
      "mnqhqyjfbscvghigeaczalcvjwzajwtphjpdmquotcc.\n",
      "weltxosvgkohobr.\n",
      "uklnncvrigmydlsoumf.\n",
      "pjjiewx.\n",
      "lxmjuhm.\n",
      "fsckbirdovhgn.\n",
      "kgoktfkzuacabxa.\n",
      "atodr.\n",
      "bxwqzjzdqvtmdampemaqj.\n",
      "omtafjiirvqtlfkyeumxuoxtame.\n",
      "ovzqmywog.\n",
      "acdtqumkorvdyxxhlsogob.\n",
      "tnslwkgmnfuyccqendhln.\n",
      "quehejojixfdirndbgcpvrsczagrtpltqc.\n",
      "jsnq.\n",
      "dazxygkihhnynvyfjfzgxlvkqncqgahwkig.\n"
     ]
    }
   ],
   "source": [
    "g = torch.Generator().manual_seed(42)\n",
    "\n",
    "for _ in range(20):\n",
    "    out = []\n",
    "    context = [0]*block_size\n",
    "    while True:\n",
    "        emb = C[torch.tensor([context])]\n",
    "        h = torch.tanh(emb.view(1, -1) @ W1 + b1)\n",
    "        logits = h @ W2 + b2\n",
    "        probs = F.softmax(logits, dim=1)\n",
    "\n",
    "        #sample from the dist\n",
    "        ix = torch.multinomial(probs, num_samples=1, generator=g).item()\n",
    "\n",
    "        #shift the context window\n",
    "        context = context[1:] + [ix]\n",
    "        out.append(ix)\n",
    "\n",
    "        if ix == 0:\n",
    "            break\n",
    "\n",
    "    print(''.join(itos[i] for i in out))\n"
   ]
  },
  {
   "cell_type": "code",
   "execution_count": 9,
   "metadata": {},
   "outputs": [
    {
     "name": "stdout",
     "output_type": "stream",
     "text": [
      "      0/ 200000: 3.2844\n",
      "  10000/ 200000: 2.0816\n",
      "  20000/ 200000: 2.3091\n",
      "  30000/ 200000: 1.9938\n",
      "  40000/ 200000: 2.2890\n",
      "  50000/ 200000: 2.2568\n",
      "  60000/ 200000: 2.3548\n",
      "  70000/ 200000: 2.4330\n",
      "  80000/ 200000: 2.0860\n",
      "  90000/ 200000: 2.1756\n",
      " 100000/ 200000: 2.5186\n",
      " 110000/ 200000: 1.8009\n",
      " 120000/ 200000: 1.8870\n",
      " 130000/ 200000: 2.0851\n",
      " 140000/ 200000: 1.8776\n",
      " 150000/ 200000: 2.4181\n",
      " 160000/ 200000: 1.8908\n",
      " 170000/ 200000: 1.8506\n",
      " 180000/ 200000: 1.8193\n",
      " 190000/ 200000: 2.1520\n"
     ]
    }
   ],
   "source": [
    "max_steps = 200000\n",
    "batch_size = 32\n",
    "lossi = []\n",
    "\n",
    "for i in range(max_steps):\n",
    "\n",
    "    #minibatch\n",
    "    ix = torch.randint(0, X_train.shape[0], (batch_size, ), generator=g)\n",
    "    Xb, Yb = X_train[ix], Y_train[ix] #batch X, Y\n",
    "\n",
    "    #forward pass\n",
    "    emb = C[Xb] #embed the characters into vectors\n",
    "    embcat = emb.view(emb.shape[0], -1)\n",
    "    h_pre_act = embcat @ W1 + b1\n",
    "    h = torch.tanh(h_pre_act)\n",
    "    logits = h @ W2 + b2\n",
    "    loss = F.cross_entropy(logits, Yb)\n",
    "\n",
    "    #backward pass\n",
    "    for p in parameters:\n",
    "        p.grad = None\n",
    "    loss.backward()\n",
    "\n",
    "    #learning rate\n",
    "    lr = 0.1 if i < 100000 else 0.01 # step learning rate decay\n",
    "\n",
    "    #update\n",
    "    for p in parameters:\n",
    "        p.data += -lr * p.grad\n",
    "\n",
    "    #track stats\n",
    "    if i % 10000 == 0:\n",
    "        print(f'{i:7d}/{max_steps:7d}: {loss.item():.4f}')\n",
    "    lossi.append(loss.log10().item())"
   ]
  },
  {
   "cell_type": "code",
   "execution_count": 10,
   "metadata": {},
   "outputs": [
    {
     "name": "stdout",
     "output_type": "stream",
     "text": [
      "train 2.039062023162842\n",
      "val 2.1046345233917236\n"
     ]
    }
   ],
   "source": [
    "@torch.no_grad() #disable grad tracking\n",
    "def split_loss(split):\n",
    "    x, y = {\n",
    "        'train': (X_train, Y_train),\n",
    "        'val': (X_dev, Y_dev),\n",
    "        'test': (X_test, Y_test)\n",
    "    }[split]\n",
    "\n",
    "    emb = C[x] #(N, block_size, n_embed)\n",
    "    embcat = emb.view(emb.shape[0], -1) # concat into (N, block_size*n_embed)\n",
    "    h = torch.tanh(embcat@ W1 + b1)\n",
    "    logits = h @ W2 +b2\n",
    "    loss = F.cross_entropy(logits, y)\n",
    "    print(split, loss.item())\n",
    "\n",
    "split_loss('train')\n",
    "split_loss('val')\n",
    "    "
   ]
  },
  {
   "cell_type": "markdown",
   "metadata": {},
   "source": [
    "Batch Normalization"
   ]
  },
  {
   "attachments": {},
   "cell_type": "markdown",
   "metadata": {},
   "source": [
    "- Standardizing hidden states to be unit gaussians\n",
    "- 2015, Ioffe et al"
   ]
  },
  {
   "cell_type": "code",
   "execution_count": 17,
   "metadata": {},
   "outputs": [
    {
     "data": {
      "text/plain": [
       "tensor([[ 1.2005,  0.1994, -0.0738, -0.1525, -0.1722, -1.1817, -0.6340, -0.7247,\n",
       "         -1.1173, -0.0787,  1.3171, -0.2830, -0.3154,  0.1196,  0.1557, -1.2167,\n",
       "         -0.0979,  0.7173, -0.2463, -0.8190, -0.0697,  0.2824,  0.2509,  0.1362,\n",
       "         -0.4909, -0.2047, -0.2319, -0.3635, -0.1256, -0.1480, -0.7942,  0.2213,\n",
       "          0.5273,  0.2264, -0.2782,  0.6224, -0.3994, -0.3575, -0.3492, -0.2396,\n",
       "          1.4038, -0.5036,  0.6411, -0.1129,  0.1681, -0.5357,  0.4271,  0.7632,\n",
       "         -0.2442, -0.5371,  0.2574,  0.0605,  0.5593, -0.2472, -0.5255,  0.0656,\n",
       "         -0.2850,  0.0920, -0.3704,  0.3840,  0.3378,  1.0413, -0.7199, -0.4037,\n",
       "          0.2607,  0.0978,  0.5380,  0.8435,  0.7100,  0.5093, -0.8039, -0.9870,\n",
       "          0.7105, -0.1490,  1.2891,  0.7050, -0.6263, -0.9175,  0.3128, -0.1173,\n",
       "          0.6793,  0.9945, -0.2574,  0.1931,  0.6269, -0.3658,  0.2987, -0.7211,\n",
       "         -0.7010,  1.0525, -0.4769, -0.0985,  0.2889,  0.9990, -0.4814, -0.0340,\n",
       "          1.1239, -0.2605,  0.3395, -0.7284,  0.1771,  0.6522,  0.5419, -0.4276,\n",
       "          0.4496, -0.4240,  0.3425, -0.9814,  0.0467,  0.1110, -0.6804,  0.6520,\n",
       "          0.0790, -0.3438,  1.6813, -0.8501, -0.4767,  0.8017,  0.5609, -0.7414,\n",
       "          0.8879, -0.9783,  0.0531,  0.9663, -0.6264,  0.4842, -0.6081, -0.3063,\n",
       "         -0.0844, -0.0226, -0.0403,  0.6027,  0.9274,  0.5418, -0.2253, -0.0409,\n",
       "         -0.2237,  0.3925,  0.3476,  0.0496, -0.2616, -0.4737,  0.9935,  0.2056,\n",
       "         -0.1149,  0.1023, -0.8558, -0.2007, -0.3440,  0.3531,  0.7254,  0.7159,\n",
       "          0.3724,  0.2520,  0.1342, -0.6910,  0.2222, -0.4483, -0.2116,  1.0244,\n",
       "          0.6552,  0.3806, -0.0804, -0.7608,  0.2200, -0.0196, -0.0133, -0.3530,\n",
       "         -0.7368, -0.2896,  0.1896,  0.3630, -0.1133, -0.7120, -0.8750,  0.0974,\n",
       "          1.1082, -0.1888, -0.9272,  0.2086,  1.0815,  0.3454,  0.6329,  0.7644,\n",
       "         -0.1492,  0.9678,  0.8038, -0.4317,  0.1039, -1.2313,  1.2161,  0.3514,\n",
       "         -0.2451, -0.6236, -0.8701,  0.0837, -0.2614, -0.4885,  0.1654, -0.8728]],\n",
       "       grad_fn=<MeanBackward1>)"
      ]
     },
     "execution_count": 17,
     "metadata": {},
     "output_type": "execute_result"
    }
   ],
   "source": [
    "h_pre_act.mean(0, keepdim=True)"
   ]
  },
  {
   "attachments": {},
   "cell_type": "markdown",
   "metadata": {},
   "source": [
    "- Hidden states should be gaussian during init but later should be able to move, diffuse or sharpen as the grad dictates\n",
    "- Hence, Scale and Shift is added"
   ]
  },
  {
   "cell_type": "code",
   "execution_count": 15,
   "metadata": {},
   "outputs": [
    {
     "name": "stdout",
     "output_type": "stream",
     "text": [
      "12297\n"
     ]
    }
   ],
   "source": [
    "n_embed = 10 #embedding dimensions\n",
    "n_hidden = 200 #no of neurons in the hidden layer\n",
    "\n",
    "g = torch.Generator().manual_seed(42)\n",
    "\n",
    "C = torch.randn((vocab_size, n_embed), generator=g)\n",
    "W1 = torch.randn((n_embed*block_size, n_hidden), generator=g) * (5/3)/(n_embed*block_size)**0.5\n",
    "b1 = torch.randn(n_hidden, generator=g) * 0.01\n",
    "W2 = torch.randn((n_hidden, vocab_size), generator=g) * 0.01\n",
    "b2 = torch.randn(vocab_size, generator=g) * 0\n",
    "\n",
    "bngain = torch.ones((1, n_hidden))\n",
    "bnbias = torch.zeros((1, n_hidden))\n",
    "\n",
    "parameters = [C, W1, b1, W2, b2, bngain, bnbias]\n",
    "print(sum(p.nelement() for p in parameters)) # total no of params\n",
    "for p in parameters:\n",
    "    p.requires_grad = True"
   ]
  },
  {
   "cell_type": "code",
   "execution_count": 19,
   "metadata": {},
   "outputs": [
    {
     "name": "stdout",
     "output_type": "stream",
     "text": [
      "      0/ 200000: 3.2757\n",
      "  10000/ 200000: 2.7730\n",
      "  20000/ 200000: 2.3097\n",
      "  30000/ 200000: 2.3467\n",
      "  40000/ 200000: 2.3512\n",
      "  50000/ 200000: 2.2381\n",
      "  60000/ 200000: 1.9143\n",
      "  70000/ 200000: 1.9234\n",
      "  80000/ 200000: 2.4858\n",
      "  90000/ 200000: 2.3766\n",
      " 100000/ 200000: 2.2794\n",
      " 110000/ 200000: 2.2012\n",
      " 120000/ 200000: 2.4623\n",
      " 130000/ 200000: 1.8763\n",
      " 140000/ 200000: 2.2786\n",
      " 150000/ 200000: 2.2449\n",
      " 160000/ 200000: 2.3779\n",
      " 170000/ 200000: 2.0994\n",
      " 180000/ 200000: 2.3488\n",
      " 190000/ 200000: 1.8930\n"
     ]
    }
   ],
   "source": [
    "max_steps = 200000\n",
    "batch_size = 32\n",
    "lossi = []\n",
    "\n",
    "for i in range(max_steps):\n",
    "\n",
    "    #minibatch\n",
    "    ix = torch.randint(0, X_train.shape[0], (batch_size, ), generator=g)\n",
    "    Xb, Yb = X_train[ix], Y_train[ix] #batch X, Y\n",
    "\n",
    "    #forward pass\n",
    "    emb = C[Xb] #embed the characters into vectors\n",
    "    embcat = emb.view(emb.shape[0], -1)\n",
    "    h_pre_act = embcat @ W1 + b1\n",
    "    #batchnorm layer\n",
    "    h_pre_act = bngain * (h_pre_act - h_pre_act.mean(0, keepdim=True))/h_pre_act.std(0, keepdim=True) + bnbias\n",
    "    h = torch.tanh(h_pre_act)\n",
    "    logits = h @ W2 + b2\n",
    "    loss = F.cross_entropy(logits, Yb)\n",
    "\n",
    "    #backward pass\n",
    "    for p in parameters:\n",
    "        p.grad = None\n",
    "    loss.backward()\n",
    "\n",
    "    #learning rate\n",
    "    lr = 0.1 if i < 100000 else 0.01 # step learning rate decay\n",
    "\n",
    "    #update\n",
    "    for p in parameters:\n",
    "        p.data += -lr * p.grad\n",
    "\n",
    "    #track stats\n",
    "    if i % 10000 == 0:\n",
    "        print(f'{i:7d}/{max_steps:7d}: {loss.item():.4f}')\n",
    "    lossi.append(loss.log10().item())"
   ]
  },
  {
   "cell_type": "code",
   "execution_count": 20,
   "metadata": {},
   "outputs": [
    {
     "name": "stdout",
     "output_type": "stream",
     "text": [
      "train 2.0682923793792725\n",
      "val 2.1103756427764893\n"
     ]
    }
   ],
   "source": [
    "@torch.no_grad() #disable grad tracking\n",
    "def split_loss(split):\n",
    "    x, y = {\n",
    "        'train': (X_train, Y_train),\n",
    "        'val': (X_dev, Y_dev),\n",
    "        'test': (X_test, Y_test)\n",
    "    }[split]\n",
    "\n",
    "    emb = C[x] #(N, block_size, n_embed)\n",
    "    embcat = emb.view(emb.shape[0], -1) # concat into (N, block_size*n_embed)\n",
    "    h_pre_act = embcat @ W1 + b1\n",
    "    #batchnorm layer\n",
    "    h_pre_act = bngain * (h_pre_act - h_pre_act.mean(0, keepdim=True))/h_pre_act.std(0, keepdim=True) + bnbias\n",
    "    h = torch.tanh(h_pre_act)\n",
    "    h = torch.tanh(h_pre_act)\n",
    "    logits = h @ W2 +b2\n",
    "    loss = F.cross_entropy(logits, y)\n",
    "    print(split, loss.item())\n",
    "\n",
    "split_loss('train')\n",
    "split_loss('val')\n",
    "    "
   ]
  },
  {
   "attachments": {},
   "cell_type": "markdown",
   "metadata": {},
   "source": [
    "- The mean and std of the batch effects every logit so it couples the examples of batch\n",
    "- This is a type of regularization but also can create strange behaviour\n",
    "- Other form of normalization avoid this "
   ]
  }
 ],
 "metadata": {
  "kernelspec": {
   "display_name": "transformers",
   "language": "python",
   "name": "python3"
  },
  "language_info": {
   "codemirror_mode": {
    "name": "ipython",
    "version": 3
   },
   "file_extension": ".py",
   "mimetype": "text/x-python",
   "name": "python",
   "nbconvert_exporter": "python",
   "pygments_lexer": "ipython3",
   "version": "3.10.8"
  },
  "orig_nbformat": 4,
  "vscode": {
   "interpreter": {
    "hash": "dddab157190c3c29c7bfa9724dd2612e80e7d4a281bb7f76e54f36d2e23abd8a"
   }
  }
 },
 "nbformat": 4,
 "nbformat_minor": 2
}
