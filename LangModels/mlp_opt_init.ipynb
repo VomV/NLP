{
 "cells": [
  {
   "cell_type": "code",
   "execution_count": 2,
   "metadata": {},
   "outputs": [],
   "source": [
    "import torch\n",
    "import random\n",
    "import torch.nn.functional as F\n",
    "import matplotlib.pyplot as plt\n",
    "%matplotlib inline"
   ]
  },
  {
   "cell_type": "code",
   "execution_count": 3,
   "metadata": {},
   "outputs": [
    {
     "data": {
      "text/plain": [
       "['emma', 'olivia', 'ava', 'isabella', 'sophia', 'charlotte', 'mia', 'amelia']"
      ]
     },
     "execution_count": 3,
     "metadata": {},
     "output_type": "execute_result"
    }
   ],
   "source": [
    "# read all words\n",
    "\n",
    "words = open('names.txt', 'r').read().splitlines()\n",
    "words[:8]"
   ]
  },
  {
   "cell_type": "code",
   "execution_count": 4,
   "metadata": {},
   "outputs": [
    {
     "data": {
      "text/plain": [
       "32033"
      ]
     },
     "execution_count": 4,
     "metadata": {},
     "output_type": "execute_result"
    }
   ],
   "source": [
    "len(words)"
   ]
  },
  {
   "cell_type": "markdown",
   "metadata": {},
   "source": [
    "Vocab"
   ]
  },
  {
   "cell_type": "code",
   "execution_count": 5,
   "metadata": {},
   "outputs": [
    {
     "name": "stdout",
     "output_type": "stream",
     "text": [
      "{1: 'a', 2: 'b', 3: 'c', 4: 'd', 5: 'e', 6: 'f', 7: 'g', 8: 'h', 9: 'i', 10: 'j', 11: 'k', 12: 'l', 13: 'm', 14: 'n', 15: 'o', 16: 'p', 17: 'q', 18: 'r', 19: 's', 20: 't', 21: 'u', 22: 'v', 23: 'w', 24: 'x', 25: 'y', 26: 'z', 0: '.'}\n",
      "27\n"
     ]
    }
   ],
   "source": [
    "chars = sorted(list(set(''.join(words))))\n",
    "stoi = {s:i+1 for i,s in enumerate(chars)}\n",
    "stoi['.'] = 0\n",
    "\n",
    "itos = {i:s for s,i in stoi.items()}\n",
    "vocab_size = len(itos)\n",
    "print(itos)\n",
    "print(vocab_size)"
   ]
  },
  {
   "cell_type": "markdown",
   "metadata": {},
   "source": [
    "Dataset"
   ]
  },
  {
   "cell_type": "code",
   "execution_count": 6,
   "metadata": {},
   "outputs": [
    {
     "name": "stdout",
     "output_type": "stream",
     "text": [
      "torch.Size([182625, 3]) torch.Size([182625])\n",
      "torch.Size([22655, 3]) torch.Size([22655])\n",
      "torch.Size([22866, 3]) torch.Size([22866])\n"
     ]
    }
   ],
   "source": [
    "block_size = 3\n",
    "\n",
    "def build_dataset(words):\n",
    "\n",
    "    X, Y = [], []\n",
    "    for w in words:\n",
    "        context = [0] * block_size\n",
    "        for ch in w + '.':\n",
    "            ix = stoi[ch]\n",
    "            X.append(context)\n",
    "            Y.append(ix)\n",
    "            context = context[1:] + [ix] #crop and append\n",
    "\n",
    "    X = torch.tensor(X)\n",
    "    Y = torch.tensor(Y)\n",
    "    print(X.shape, Y.shape)\n",
    "    return X, Y\n",
    "\n",
    "\n",
    "random.seed(42)\n",
    "random.shuffle(words)\n",
    "n1 = int(0.8*len(words))\n",
    "n2 = int(0.9*len(words))\n",
    "X_train, Y_train = build_dataset(words[:n1])\n",
    "X_dev, Y_dev = build_dataset(words[n1:n2])\n",
    "X_test, Y_test = build_dataset(words[n2:])"
   ]
  },
  {
   "cell_type": "markdown",
   "metadata": {},
   "source": [
    "MLP params"
   ]
  },
  {
   "cell_type": "code",
   "execution_count": 7,
   "metadata": {},
   "outputs": [
    {
     "name": "stdout",
     "output_type": "stream",
     "text": [
      "11897\n"
     ]
    }
   ],
   "source": [
    "n_embed = 10 #embedding dimensions\n",
    "n_hidden = 200 #no of neurons in the hidden layer\n",
    "\n",
    "g = torch.Generator().manual_seed(42)\n",
    "\n",
    "C = torch.randn((vocab_size, n_embed), generator=g)\n",
    "W1 = torch.randn((n_embed*block_size, n_hidden), generator=g)\n",
    "b1 = torch.randn(n_hidden, generator=g)\n",
    "W2 = torch.randn((n_hidden, vocab_size), generator=g)\n",
    "b2 = torch.randn(vocab_size, generator=g)\n",
    "\n",
    "parameters = [C, W1, b1, W2, b2]\n",
    "print(sum(p.nelement() for p in parameters)) # total no of params\n",
    "for p in parameters:\n",
    "    p.requires_grad = True"
   ]
  },
  {
   "cell_type": "markdown",
   "metadata": {},
   "source": [
    "Optimization"
   ]
  },
  {
   "cell_type": "code",
   "execution_count": 8,
   "metadata": {},
   "outputs": [
    {
     "name": "stdout",
     "output_type": "stream",
     "text": [
      "      0/ 200000: 28.3854\n",
      "  10000/ 200000: 2.9017\n",
      "  20000/ 200000: 2.8037\n",
      "  30000/ 200000: 2.2280\n",
      "  40000/ 200000: 2.2751\n",
      "  50000/ 200000: 1.9326\n",
      "  60000/ 200000: 2.0983\n",
      "  70000/ 200000: 2.5733\n",
      "  80000/ 200000: 2.2635\n",
      "  90000/ 200000: 1.9386\n",
      " 100000/ 200000: 2.2774\n",
      " 110000/ 200000: 2.2714\n",
      " 120000/ 200000: 2.0092\n",
      " 130000/ 200000: 2.1780\n",
      " 140000/ 200000: 1.9868\n",
      " 150000/ 200000: 2.2185\n",
      " 160000/ 200000: 2.1936\n",
      " 170000/ 200000: 1.9674\n",
      " 180000/ 200000: 2.3236\n",
      " 190000/ 200000: 2.1893\n"
     ]
    }
   ],
   "source": [
    "max_steps = 200000\n",
    "batch_size = 32\n",
    "lossi = []\n",
    "\n",
    "for i in range(max_steps):\n",
    "\n",
    "    #minibatch\n",
    "    ix = torch.randint(0, X_train.shape[0], (batch_size, ), generator=g)\n",
    "    Xb, Yb = X_train[ix], Y_train[ix] #batch X, Y\n",
    "\n",
    "    #forward pass\n",
    "    emb = C[Xb] #embed the characters into vectors\n",
    "    embcat = emb.view(emb.shape[0], -1)\n",
    "    h_pre_act = embcat @ W1 + b1\n",
    "    h = torch.tanh(h_pre_act)\n",
    "    logits = h @ W2 + b2\n",
    "    loss = F.cross_entropy(logits, Yb)\n",
    "\n",
    "    #backward pass\n",
    "    for p in parameters:\n",
    "        p.grad = None\n",
    "    loss.backward()\n",
    "\n",
    "    #learning rate\n",
    "    lr = 0.1 if i < 100000 else 0.01 # step learning rate decay\n",
    "\n",
    "    #update\n",
    "    for p in parameters:\n",
    "        p.data += -lr * p.grad\n",
    "\n",
    "    #track stats\n",
    "    if i % 10000 == 0:\n",
    "        print(f'{i:7d}/{max_steps:7d}: {loss.item():.4f}')\n",
    "    lossi.append(loss.log10().item())\n"
   ]
  },
  {
   "cell_type": "code",
   "execution_count": 9,
   "metadata": {},
   "outputs": [
    {
     "data": {
      "text/plain": [
       "[<matplotlib.lines.Line2D at 0x7f24cf5a6fe0>]"
      ]
     },
     "execution_count": 9,
     "metadata": {},
     "output_type": "execute_result"
    },
    {
     "data": {
      "image/png": "[encoded data removed]",
      "text/plain": [
       "<Figure size 640x480 with 1 Axes>"
      ]
     },
     "metadata": {},
     "output_type": "display_data"
    }
   ],
   "source": [
    "plt.plot(lossi)"
   ]
  },
  {
   "cell_type": "markdown",
   "metadata": {},
   "source": [
    "Eval"
   ]
  },
  {
   "cell_type": "code",
   "execution_count": 10,
   "metadata": {},
   "outputs": [
    {
     "name": "stdout",
     "output_type": "stream",
     "text": [
      "train 2.121068239212036\n",
      "val 2.1569983959198\n"
     ]
    }
   ],
   "source": [
    "@torch.no_grad() #disable grad tracking\n",
    "def split_loss(split):\n",
    "    x, y = {\n",
    "        'train': (X_train, Y_train),\n",
    "        'val': (X_dev, Y_dev),\n",
    "        'test': (X_test, Y_test)\n",
    "    }[split]\n",
    "\n",
    "    emb = C[x] #(N, block_size, n_embed)\n",
    "    embcat = emb.view(emb.shape[0], -1) # concat into (N, block_size*n_embed)\n",
    "    h = torch.tanh(embcat@ W1 + b1)\n",
    "    logits = h @ W2 +b2\n",
    "    loss = F.cross_entropy(logits, y)\n",
    "    print(split, loss.item())\n",
    "\n",
    "split_loss('train')\n",
    "split_loss('val')\n",
    "    "
   ]
  },
  {
   "cell_type": "markdown",
   "metadata": {},
   "source": [
    "Sample from the model"
   ]
  },
  {
   "cell_type": "code",
   "execution_count": 11,
   "metadata": {},
   "outputs": [
    {
     "name": "stdout",
     "output_type": "stream",
     "text": [
      "anuelen.\n",
      "tia.\n",
      "marian.\n",
      "dante.\n",
      "naysia.\n",
      "yana.\n",
      "kemah.\n",
      "lani.\n",
      "sepiaciolaniamiy.\n",
      "kence.\n",
      "jordigh.\n",
      "alla.\n",
      "mikolynn.\n",
      "acvisia.\n",
      "acarlin.\n",
      "tian.\n",
      "tiyan.\n",
      "mar.\n",
      "tal.\n",
      "jena.\n"
     ]
    }
   ],
   "source": [
    "g = torch.Generator().manual_seed(42)\n",
    "\n",
    "for _ in range(20):\n",
    "    out = []\n",
    "    context = [0]*block_size\n",
    "    while True:\n",
    "        emb = C[torch.tensor([context])]\n",
    "        h = torch.tanh(emb.view(1, -1) @ W1 + b1)\n",
    "        logits = h @ W2 + b2\n",
    "        probs = F.softmax(logits, dim=1)\n",
    "\n",
    "        #sample from the dist\n",
    "        ix = torch.multinomial(probs, num_samples=1, generator=g).item()\n",
    "\n",
    "        #shift the context window\n",
    "        context = context[1:] + [ix]\n",
    "        out.append(ix)\n",
    "\n",
    "        if ix == 0:\n",
    "            break\n",
    "\n",
    "    print(''.join(itos[i] for i in out))\n"
   ]
  },
  {
   "cell_type": "markdown",
   "metadata": {},
   "source": [
    "Improve Initialization"
   ]
  },
  {
   "cell_type": "markdown",
   "metadata": {},
   "source": [
    "- Initial pred should be a uniform dist, all chars equally likely"
   ]
  },
  {
   "cell_type": "code",
   "execution_count": 12,
   "metadata": {},
   "outputs": [
    {
     "data": {
      "text/plain": [
       "tensor(3.2958)"
      ]
     },
     "execution_count": 12,
     "metadata": {},
     "output_type": "execute_result"
    }
   ],
   "source": [
    "-torch.tensor(1/27.0).log()"
   ]
  },
  {
   "cell_type": "markdown",
   "metadata": {},
   "source": [
    "- if logits are close to zero, loss will be lower, here logits are taking large values in first forward pass"
   ]
  },
  {
   "cell_type": "markdown",
   "metadata": {},
   "source": [
    "- Squish W2 and b2 during initialization to reduce the intial loss"
   ]
  },
  {
   "cell_type": "code",
   "execution_count": 13,
   "metadata": {},
   "outputs": [
    {
     "name": "stdout",
     "output_type": "stream",
     "text": [
      "11897\n"
     ]
    }
   ],
   "source": [
    "n_embed = 10 #embedding dimensions\n",
    "n_hidden = 200 #no of neurons in the hidden layer\n",
    "\n",
    "g = torch.Generator().manual_seed(42)\n",
    "\n",
    "C = torch.randn((vocab_size, n_embed), generator=g)\n",
    "W1 = torch.randn((n_embed*block_size, n_hidden), generator=g)\n",
    "b1 = torch.randn(n_hidden, generator=g)\n",
    "W2 = torch.randn((n_hidden, vocab_size), generator=g) * 0.01\n",
    "b2 = torch.randn(vocab_size, generator=g) * 0\n",
    "\n",
    "parameters = [C, W1, b1, W2, b2]\n",
    "print(sum(p.nelement() for p in parameters)) # total no of params\n",
    "for p in parameters:\n",
    "    p.requires_grad = True"
   ]
  },
  {
   "cell_type": "code",
   "execution_count": 14,
   "metadata": {},
   "outputs": [
    {
     "name": "stdout",
     "output_type": "stream",
     "text": [
      "      0/ 200000: 3.3047\n",
      "  10000/ 200000: 2.4418\n",
      "  20000/ 200000: 2.6091\n",
      "  30000/ 200000: 2.2466\n",
      "  40000/ 200000: 2.2464\n",
      "  50000/ 200000: 1.8980\n",
      "  60000/ 200000: 2.0689\n",
      "  70000/ 200000: 2.4104\n",
      "  80000/ 200000: 2.3587\n",
      "  90000/ 200000: 1.9107\n",
      " 100000/ 200000: 2.1966\n",
      " 110000/ 200000: 2.1855\n",
      " 120000/ 200000: 2.0407\n",
      " 130000/ 200000: 2.1221\n",
      " 140000/ 200000: 1.9044\n",
      " 150000/ 200000: 2.2478\n",
      " 160000/ 200000: 2.1897\n",
      " 170000/ 200000: 1.8080\n",
      " 180000/ 200000: 2.3101\n",
      " 190000/ 200000: 1.9582\n"
     ]
    }
   ],
   "source": [
    "max_steps = 200000\n",
    "batch_size = 32\n",
    "lossi = []\n",
    "\n",
    "for i in range(max_steps):\n",
    "\n",
    "    #minibatch\n",
    "    ix = torch.randint(0, X_train.shape[0], (batch_size, ), generator=g)\n",
    "    Xb, Yb = X_train[ix], Y_train[ix] #batch X, Y\n",
    "\n",
    "    #forward pass\n",
    "    emb = C[Xb] #embed the characters into vectors\n",
    "    embcat = emb.view(emb.shape[0], -1)\n",
    "    h_pre_act = embcat @ W1 + b1\n",
    "    h = torch.tanh(h_pre_act)\n",
    "    logits = h @ W2 + b2\n",
    "    loss = F.cross_entropy(logits, Yb)\n",
    "\n",
    "    #backward pass\n",
    "    for p in parameters:\n",
    "        p.grad = None\n",
    "    loss.backward()\n",
    "\n",
    "    #learning rate\n",
    "    lr = 0.1 if i < 100000 else 0.01 # step learning rate decay\n",
    "\n",
    "    #update\n",
    "    for p in parameters:\n",
    "        p.data += -lr * p.grad\n",
    "\n",
    "    #track stats\n",
    "    if i % 10000 == 0:\n",
    "        print(f'{i:7d}/{max_steps:7d}: {loss.item():.4f}')\n",
    "    lossi.append(loss.log10().item())"
   ]
  },
  {
   "cell_type": "code",
   "execution_count": 15,
   "metadata": {},
   "outputs": [
    {
     "data": {
      "text/plain": [
       "[<matplotlib.lines.Line2D at 0x7f24236c6590>]"
      ]
     },
     "execution_count": 15,
     "metadata": {},
     "output_type": "execute_result"
    },
    {
     "data": {
      "image/png": "[encoded data removed]",
      "text/plain": [
       "<Figure size 640x480 with 1 Axes>"
      ]
     },
     "metadata": {},
     "output_type": "display_data"
    }
   ],
   "source": [
    "plt.plot(lossi)"
   ]
  },
  {
   "cell_type": "code",
   "execution_count": 16,
   "metadata": {},
   "outputs": [
    {
     "name": "stdout",
     "output_type": "stream",
     "text": [
      "      0/ 200000: 2.1814\n"
     ]
    }
   ],
   "source": [
    "max_steps = 200000\n",
    "batch_size = 32\n",
    "lossi = []\n",
    "\n",
    "for i in range(max_steps):\n",
    "\n",
    "    #minibatch\n",
    "    ix = torch.randint(0, X_train.shape[0], (batch_size, ), generator=g)\n",
    "    Xb, Yb = X_train[ix], Y_train[ix] #batch X, Y\n",
    "\n",
    "    #forward pass\n",
    "    emb = C[Xb] #embed the characters into vectors\n",
    "    embcat = emb.view(emb.shape[0], -1)\n",
    "    h_pre_act = embcat @ W1 + b1\n",
    "    h = torch.tanh(h_pre_act)\n",
    "    logits = h @ W2 + b2\n",
    "    loss = F.cross_entropy(logits, Yb)\n",
    "\n",
    "    #backward pass\n",
    "    for p in parameters:\n",
    "        p.grad = None\n",
    "    loss.backward()\n",
    "\n",
    "    #learning rate\n",
    "    lr = 0.1 if i < 100000 else 0.01 # step learning rate decay\n",
    "\n",
    "    #update\n",
    "    for p in parameters:\n",
    "        p.data += -lr * p.grad\n",
    "\n",
    "    #track stats\n",
    "    if i % 10000 == 0:\n",
    "        print(f'{i:7d}/{max_steps:7d}: {loss.item():.4f}')\n",
    "    lossi.append(loss.log10().item())\n",
    "\n",
    "    break"
   ]
  },
  {
   "cell_type": "code",
   "execution_count": 17,
   "metadata": {},
   "outputs": [
    {
     "data": {
      "text/plain": [
       "tensor([[ 1.0000,  0.9591, -0.9908,  ..., -0.9999, -0.4678, -1.0000],\n",
       "        [ 0.9999, -1.0000, -0.9999,  ...,  0.6036, -0.9909, -1.0000],\n",
       "        [-0.9688,  0.9783, -0.9869,  ...,  1.0000, -0.9980,  0.8037],\n",
       "        ...,\n",
       "        [ 0.9917,  0.9998, -0.9997,  ..., -1.0000,  0.9988, -1.0000],\n",
       "        [ 0.2333, -1.0000, -0.9727,  ...,  1.0000, -1.0000, -0.9944],\n",
       "        [ 0.9979,  0.9999, -0.9923,  ..., -0.9962,  0.9997, -0.9912]],\n",
       "       grad_fn=<TanhBackward0>)"
      ]
     },
     "execution_count": 17,
     "metadata": {},
     "output_type": "execute_result"
    }
   ],
   "source": [
    "h"
   ]
  },
  {
   "cell_type": "code",
   "execution_count": 18,
   "metadata": {},
   "outputs": [
    {
     "data": {
      "image/png": "[encoded data removed]",
      "text/plain": [
       "<Figure size 640x480 with 1 Axes>"
      ]
     },
     "metadata": {},
     "output_type": "display_data"
    }
   ],
   "source": [
    "plt.hist(h.view(-1).tolist(), 50);"
   ]
  },
  {
   "cell_type": "markdown",
   "metadata": {},
   "source": [
    "- Lot of h is here 1 or -1; h is the output of tanh"
   ]
  },
  {
   "cell_type": "code",
   "execution_count": 19,
   "metadata": {},
   "outputs": [
    {
     "data": {
      "image/png": "[encoded data removed]",
      "text/plain": [
       "<Figure size 640x480 with 1 Axes>"
      ]
     },
     "metadata": {},
     "output_type": "display_data"
    }
   ],
   "source": [
    "plt.hist(h_pre_act.view(-1).tolist(), 50);"
   ]
  },
  {
   "attachments": {},
   "cell_type": "markdown",
   "metadata": {},
   "source": [
    "- if tanh is 1 or -1, grad is killed and not propagated back from there"
   ]
  },
  {
   "cell_type": "code",
   "execution_count": 20,
   "metadata": {},
   "outputs": [
    {
     "data": {
      "text/plain": [
       "<matplotlib.image.AxesImage at 0x7f24235d4370>"
      ]
     },
     "execution_count": 20,
     "metadata": {},
     "output_type": "execute_result"
    },
    {
     "data": {
      "image/png": "[encoded data removed]",
      "text/plain": [
       "<Figure size 2000x1000 with 1 Axes>"
      ]
     },
     "metadata": {},
     "output_type": "display_data"
    }
   ],
   "source": [
    "plt.figure(figsize=(20, 10))\n",
    "plt.imshow(h.abs() > 0.99, cmap='gray', interpolation='nearest')"
   ]
  },
  {
   "attachments": {},
   "cell_type": "markdown",
   "metadata": {},
   "source": [
    "- Since h_pre_act values are very large tanh out becomes 1 or -1\n",
    "- So init W1 and b1 to be smaller as well"
   ]
  },
  {
   "cell_type": "code",
   "execution_count": 21,
   "metadata": {},
   "outputs": [
    {
     "name": "stdout",
     "output_type": "stream",
     "text": [
      "11897\n"
     ]
    }
   ],
   "source": [
    "n_embed = 10 #embedding dimensions\n",
    "n_hidden = 200 #no of neurons in the hidden layer\n",
    "\n",
    "g = torch.Generator().manual_seed(42)\n",
    "\n",
    "C = torch.randn((vocab_size, n_embed), generator=g)\n",
    "W1 = torch.randn((n_embed*block_size, n_hidden), generator=g) * 0.2\n",
    "b1 = torch.randn(n_hidden, generator=g) * 0.01\n",
    "W2 = torch.randn((n_hidden, vocab_size), generator=g) * 0.01\n",
    "b2 = torch.randn(vocab_size, generator=g) * 0\n",
    "\n",
    "parameters = [C, W1, b1, W2, b2]\n",
    "print(sum(p.nelement() for p in parameters)) # total no of params\n",
    "for p in parameters:\n",
    "    p.requires_grad = True"
   ]
  },
  {
   "cell_type": "code",
   "execution_count": 22,
   "metadata": {},
   "outputs": [
    {
     "name": "stdout",
     "output_type": "stream",
     "text": [
      "      0/ 200000: 3.2930\n"
     ]
    }
   ],
   "source": [
    "max_steps = 200000\n",
    "batch_size = 32\n",
    "lossi = []\n",
    "\n",
    "for i in range(max_steps):\n",
    "\n",
    "    #minibatch\n",
    "    ix = torch.randint(0, X_train.shape[0], (batch_size, ), generator=g)\n",
    "    Xb, Yb = X_train[ix], Y_train[ix] #batch X, Y\n",
    "\n",
    "    #forward pass\n",
    "    emb = C[Xb] #embed the characters into vectors\n",
    "    embcat = emb.view(emb.shape[0], -1)\n",
    "    h_pre_act = embcat @ W1 + b1\n",
    "    h = torch.tanh(h_pre_act)\n",
    "    logits = h @ W2 + b2\n",
    "    loss = F.cross_entropy(logits, Yb)\n",
    "\n",
    "    #backward pass\n",
    "    for p in parameters:\n",
    "        p.grad = None\n",
    "    loss.backward()\n",
    "\n",
    "    #learning rate\n",
    "    lr = 0.1 if i < 100000 else 0.01 # step learning rate decay\n",
    "\n",
    "    #update\n",
    "    for p in parameters:\n",
    "        p.data += -lr * p.grad\n",
    "\n",
    "    #track stats\n",
    "    if i % 10000 == 0:\n",
    "        print(f'{i:7d}/{max_steps:7d}: {loss.item():.4f}')\n",
    "    lossi.append(loss.log10().item())\n",
    "\n",
    "    break"
   ]
  },
  {
   "cell_type": "code",
   "execution_count": 23,
   "metadata": {},
   "outputs": [
    {
     "data": {
      "image/png": "[encoded data removed]",
      "text/plain": [
       "<Figure size 640x480 with 1 Axes>"
      ]
     },
     "metadata": {},
     "output_type": "display_data"
    }
   ],
   "source": [
    "plt.hist(h.view(-1).tolist(), 50);"
   ]
  },
  {
   "cell_type": "code",
   "execution_count": 24,
   "metadata": {},
   "outputs": [
    {
     "data": {
      "image/png": "[encoded data removed]",
      "text/plain": [
       "<Figure size 640x480 with 1 Axes>"
      ]
     },
     "metadata": {},
     "output_type": "display_data"
    }
   ],
   "source": [
    "plt.hist(h_pre_act.view(-1).tolist(), 50);"
   ]
  },
  {
   "cell_type": "code",
   "execution_count": 37,
   "metadata": {},
   "outputs": [
    {
     "data": {
      "text/plain": [
       "<matplotlib.image.AxesImage at 0x7f24239add20>"
      ]
     },
     "execution_count": 37,
     "metadata": {},
     "output_type": "execute_result"
    },
    {
     "data": {
      "image/png": "[encoded data removed]",
      "text/plain": [
       "<Figure size 2000x1000 with 1 Axes>"
      ]
     },
     "metadata": {},
     "output_type": "display_data"
    }
   ],
   "source": [
    "plt.figure(figsize=(20, 10))\n",
    "plt.imshow(h.abs() > 0.99, cmap='gray', interpolation='nearest')"
   ]
  },
  {
   "cell_type": "code",
   "execution_count": 26,
   "metadata": {},
   "outputs": [
    {
     "name": "stdout",
     "output_type": "stream",
     "text": [
      "11897\n"
     ]
    }
   ],
   "source": [
    "n_embed = 10 #embedding dimensions\n",
    "n_hidden = 200 #no of neurons in the hidden layer\n",
    "\n",
    "g = torch.Generator().manual_seed(42)\n",
    "\n",
    "C = torch.randn((vocab_size, n_embed), generator=g)\n",
    "W1 = torch.randn((n_embed*block_size, n_hidden), generator=g) * 0.2\n",
    "b1 = torch.randn(n_hidden, generator=g) * 0.01\n",
    "W2 = torch.randn((n_hidden, vocab_size), generator=g) * 0.01\n",
    "b2 = torch.randn(vocab_size, generator=g) * 0\n",
    "\n",
    "parameters = [C, W1, b1, W2, b2]\n",
    "print(sum(p.nelement() for p in parameters)) # total no of params\n",
    "for p in parameters:\n",
    "    p.requires_grad = True"
   ]
  },
  {
   "cell_type": "code",
   "execution_count": 27,
   "metadata": {},
   "outputs": [
    {
     "name": "stdout",
     "output_type": "stream",
     "text": [
      "      0/ 200000: 3.2930\n",
      "  10000/ 200000: 2.3519\n",
      "  20000/ 200000: 2.5098\n",
      "  30000/ 200000: 2.2075\n",
      "  40000/ 200000: 2.1394\n",
      "  50000/ 200000: 1.7888\n",
      "  60000/ 200000: 2.1278\n",
      "  70000/ 200000: 2.3381\n",
      "  80000/ 200000: 2.2095\n",
      "  90000/ 200000: 1.9850\n",
      " 100000/ 200000: 2.1526\n",
      " 110000/ 200000: 2.1173\n",
      " 120000/ 200000: 1.9225\n",
      " 130000/ 200000: 2.1648\n",
      " 140000/ 200000: 1.8004\n",
      " 150000/ 200000: 2.1192\n",
      " 160000/ 200000: 2.1871\n",
      " 170000/ 200000: 1.8262\n",
      " 180000/ 200000: 2.2911\n",
      " 190000/ 200000: 1.9808\n"
     ]
    }
   ],
   "source": [
    "max_steps = 200000\n",
    "batch_size = 32\n",
    "lossi = []\n",
    "\n",
    "for i in range(max_steps):\n",
    "\n",
    "    #minibatch\n",
    "    ix = torch.randint(0, X_train.shape[0], (batch_size, ), generator=g)\n",
    "    Xb, Yb = X_train[ix], Y_train[ix] #batch X, Y\n",
    "\n",
    "    #forward pass\n",
    "    emb = C[Xb] #embed the characters into vectors\n",
    "    embcat = emb.view(emb.shape[0], -1)\n",
    "    h_pre_act = embcat @ W1 + b1\n",
    "    h = torch.tanh(h_pre_act)\n",
    "    logits = h @ W2 + b2\n",
    "    loss = F.cross_entropy(logits, Yb)\n",
    "\n",
    "    #backward pass\n",
    "    for p in parameters:\n",
    "        p.grad = None\n",
    "    loss.backward()\n",
    "\n",
    "    #learning rate\n",
    "    lr = 0.1 if i < 100000 else 0.01 # step learning rate decay\n",
    "\n",
    "    #update\n",
    "    for p in parameters:\n",
    "        p.data += -lr * p.grad\n",
    "\n",
    "    #track stats\n",
    "    if i % 10000 == 0:\n",
    "        print(f'{i:7d}/{max_steps:7d}: {loss.item():.4f}')\n",
    "    lossi.append(loss.log10().item())"
   ]
  },
  {
   "cell_type": "code",
   "execution_count": 28,
   "metadata": {},
   "outputs": [
    {
     "data": {
      "text/plain": [
       "[<matplotlib.lines.Line2D at 0x7f241aec6d70>]"
      ]
     },
     "execution_count": 28,
     "metadata": {},
     "output_type": "execute_result"
    },
    {
     "data": {
      "image/png": "[encoded data removed]",
      "text/plain": [
       "<Figure size 640x480 with 1 Axes>"
      ]
     },
     "metadata": {},
     "output_type": "display_data"
    }
   ],
   "source": [
    "plt.plot(lossi)"
   ]
  },
  {
   "cell_type": "code",
   "execution_count": 29,
   "metadata": {},
   "outputs": [
    {
     "name": "stdout",
     "output_type": "stream",
     "text": [
      "train 2.0382497310638428\n",
      "val 2.1049814224243164\n"
     ]
    }
   ],
   "source": [
    "@torch.no_grad() #disable grad tracking\n",
    "def split_loss(split):\n",
    "    x, y = {\n",
    "        'train': (X_train, Y_train),\n",
    "        'val': (X_dev, Y_dev),\n",
    "        'test': (X_test, Y_test)\n",
    "    }[split]\n",
    "\n",
    "    emb = C[x] #(N, block_size, n_embed)\n",
    "    embcat = emb.view(emb.shape[0], -1) # concat into (N, block_size*n_embed)\n",
    "    h = torch.tanh(embcat@ W1 + b1)\n",
    "    logits = h @ W2 +b2\n",
    "    loss = F.cross_entropy(logits, y)\n",
    "    print(split, loss.item())\n",
    "\n",
    "split_loss('train')\n",
    "split_loss('val')\n",
    "    "
   ]
  },
  {
   "cell_type": "markdown",
   "metadata": {},
   "source": [
    "- After matmul dist is not unit gaussian\n",
    "- Std dev increases"
   ]
  },
  {
   "cell_type": "code",
   "execution_count": 30,
   "metadata": {},
   "outputs": [
    {
     "name": "stdout",
     "output_type": "stream",
     "text": [
      "tensor(-0.0197) tensor(1.0036)\n",
      "tensor(0.0023) tensor(1.0210)\n"
     ]
    },
    {
     "data": {
      "image/png": "[encoded data removed]",
      "text/plain": [
       "<Figure size 2000x500 with 2 Axes>"
      ]
     },
     "metadata": {},
     "output_type": "display_data"
    }
   ],
   "source": [
    "x = torch.randn(1000, 10)\n",
    "w = torch.randn(10, 200) / 10**0.5 # when normalized by sqrt of fan_in, fan_in is num of inputs\n",
    "y = x @ w\n",
    "print(x.mean(), x.std())\n",
    "print(y.mean(), y.std())\n",
    "plt.figure(figsize=(20, 5))\n",
    "plt.subplot(121)\n",
    "plt.hist(x.view(-1).tolist(), 50, density=True);\n",
    "plt.subplot(122)\n",
    "plt.hist(y.view(-1).tolist(), 50, density=True);"
   ]
  },
  {
   "cell_type": "markdown",
   "metadata": {},
   "source": [
    "- Read Kaining et al on initialization"
   ]
  },
  {
   "attachments": {},
   "cell_type": "markdown",
   "metadata": {},
   "source": [
    "- Normalization with: gain/sqrt(fan_in)\n",
    "- gain value depends on the type of activation function\n",
    "- mostly use gain = 1, when batch/layer norm and better optimizers are used, this is less imp\n",
    "- fan_out can also be used, if norm grads to be unit gaussian"
   ]
  },
  {
   "cell_type": "markdown",
   "metadata": {},
   "source": [
    "- gain for tanh is 5/3. This is how much the func squishes the variance of an incoming dist. Proof?"
   ]
  },
  {
   "cell_type": "code",
   "execution_count": 31,
   "metadata": {},
   "outputs": [
    {
     "name": "stdout",
     "output_type": "stream",
     "text": [
      "tensor(-0.0028) tensor(1.0042)\n",
      "tensor(-0.0011) tensor(0.6287)\n"
     ]
    },
    {
     "data": {
      "image/png": "[encoded data removed]",
      "text/plain": [
       "<Figure size 2000x500 with 2 Axes>"
      ]
     },
     "metadata": {},
     "output_type": "display_data"
    }
   ],
   "source": [
    "x = torch.randn(1000, 10)\n",
    "# w = torch.randn(10, 200) / 10**0.5 # when normalized by sqrt of fan_in, fan_in is num of inputs\n",
    "y = torch.tanh(x)\n",
    "print(x.mean(), x.std())\n",
    "print(y.mean(), y.std())\n",
    "plt.figure(figsize=(20, 5))\n",
    "plt.subplot(121)\n",
    "plt.hist(x.view(-1).tolist(), 50, density=True);\n",
    "plt.subplot(122)\n",
    "plt.hist(y.view(-1).tolist(), 50, density=True);"
   ]
  },
  {
   "cell_type": "code",
   "execution_count": 32,
   "metadata": {},
   "outputs": [
    {
     "data": {
      "text/plain": [
       "1.5933715742511152"
      ]
     },
     "execution_count": 32,
     "metadata": {},
     "output_type": "execute_result"
    }
   ],
   "source": [
    "1/0.6276 # since std dev changes here from 1 to 0.6276"
   ]
  },
  {
   "cell_type": "code",
   "execution_count": 33,
   "metadata": {},
   "outputs": [
    {
     "data": {
      "text/plain": [
       "1.6666666666666667"
      ]
     },
     "execution_count": 33,
     "metadata": {},
     "output_type": "execute_result"
    }
   ],
   "source": [
    "5/3"
   ]
  },
  {
   "cell_type": "code",
   "execution_count": 34,
   "metadata": {},
   "outputs": [
    {
     "name": "stdout",
     "output_type": "stream",
     "text": [
      "11897\n"
     ]
    }
   ],
   "source": [
    "n_embed = 10 #embedding dimensions\n",
    "n_hidden = 200 #no of neurons in the hidden layer\n",
    "\n",
    "g = torch.Generator().manual_seed(42)\n",
    "\n",
    "C = torch.randn((vocab_size, n_embed), generator=g)\n",
    "W1 = torch.randn((n_embed*block_size, n_hidden), generator=g) * (5/3)/(n_embed*block_size)**0.5\n",
    "b1 = torch.randn(n_hidden, generator=g) * 0.01\n",
    "W2 = torch.randn((n_hidden, vocab_size), generator=g) * 0.01\n",
    "b2 = torch.randn(vocab_size, generator=g) * 0\n",
    "\n",
    "parameters = [C, W1, b1, W2, b2]\n",
    "print(sum(p.nelement() for p in parameters)) # total no of params\n",
    "for p in parameters:\n",
    "    p.requires_grad = True"
   ]
  },
  {
   "cell_type": "code",
   "execution_count": 35,
   "metadata": {},
   "outputs": [
    {
     "name": "stdout",
     "output_type": "stream",
     "text": [
      "      0/ 200000: 3.2956\n",
      "  10000/ 200000: 2.3607\n",
      "  20000/ 200000: 2.5141\n",
      "  30000/ 200000: 2.2044\n",
      "  40000/ 200000: 2.0599\n",
      "  50000/ 200000: 1.8871\n",
      "  60000/ 200000: 2.0569\n",
      "  70000/ 200000: 2.3450\n",
      "  80000/ 200000: 2.2624\n",
      "  90000/ 200000: 1.9780\n",
      " 100000/ 200000: 2.1673\n",
      " 110000/ 200000: 2.0812\n",
      " 120000/ 200000: 1.9038\n",
      " 130000/ 200000: 2.1975\n",
      " 140000/ 200000: 1.8419\n",
      " 150000/ 200000: 2.1179\n",
      " 160000/ 200000: 2.1798\n",
      " 170000/ 200000: 1.7877\n",
      " 180000/ 200000: 2.3487\n",
      " 190000/ 200000: 1.9413\n"
     ]
    }
   ],
   "source": [
    "max_steps = 200000\n",
    "batch_size = 32\n",
    "lossi = []\n",
    "\n",
    "for i in range(max_steps):\n",
    "\n",
    "    #minibatch\n",
    "    ix = torch.randint(0, X_train.shape[0], (batch_size, ), generator=g)\n",
    "    Xb, Yb = X_train[ix], Y_train[ix] #batch X, Y\n",
    "\n",
    "    #forward pass\n",
    "    emb = C[Xb] #embed the characters into vectors\n",
    "    embcat = emb.view(emb.shape[0], -1)\n",
    "    h_pre_act = embcat @ W1 + b1\n",
    "    h = torch.tanh(h_pre_act)\n",
    "    logits = h @ W2 + b2\n",
    "    loss = F.cross_entropy(logits, Yb)\n",
    "\n",
    "    #backward pass\n",
    "    for p in parameters:\n",
    "        p.grad = None\n",
    "    loss.backward()\n",
    "\n",
    "    #learning rate\n",
    "    lr = 0.1 if i < 100000 else 0.01 # step learning rate decay\n",
    "\n",
    "    #update\n",
    "    for p in parameters:\n",
    "        p.data += -lr * p.grad\n",
    "\n",
    "    #track stats\n",
    "    if i % 10000 == 0:\n",
    "        print(f'{i:7d}/{max_steps:7d}: {loss.item():.4f}')\n",
    "    lossi.append(loss.log10().item())"
   ]
  },
  {
   "cell_type": "code",
   "execution_count": 36,
   "metadata": {},
   "outputs": [
    {
     "name": "stdout",
     "output_type": "stream",
     "text": [
      "train 2.0387985706329346\n",
      "val 2.106868267059326\n"
     ]
    }
   ],
   "source": [
    "@torch.no_grad() #disable grad tracking\n",
    "def split_loss(split):\n",
    "    x, y = {\n",
    "        'train': (X_train, Y_train),\n",
    "        'val': (X_dev, Y_dev),\n",
    "        'test': (X_test, Y_test)\n",
    "    }[split]\n",
    "\n",
    "    emb = C[x] #(N, block_size, n_embed)\n",
    "    embcat = emb.view(emb.shape[0], -1) # concat into (N, block_size*n_embed)\n",
    "    h = torch.tanh(embcat@ W1 + b1)\n",
    "    logits = h @ W2 +b2\n",
    "    loss = F.cross_entropy(logits, y)\n",
    "    print(split, loss.item())\n",
    "\n",
    "split_loss('train')\n",
    "split_loss('val')\n",
    "    "
   ]
  }
 ],
 "metadata": {
  "kernelspec": {
   "display_name": "transformers",
   "language": "python",
   "name": "python3"
  },
  "language_info": {
   "codemirror_mode": {
    "name": "ipython",
    "version": 3
   },
   "file_extension": ".py",
   "mimetype": "text/x-python",
   "name": "python",
   "nbconvert_exporter": "python",
   "pygments_lexer": "ipython3",
   "version": "3.10.10"
  },
  "orig_nbformat": 4,
  "vscode": {
   "interpreter": {
    "hash": "dddab157190c3c29c7bfa9724dd2612e80e7d4a281bb7f76e54f36d2e23abd8a"
   }
  }
 },
 "nbformat": 4,
 "nbformat_minor": 2
}
