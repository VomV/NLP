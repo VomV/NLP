{
 "cells": [
  {
   "cell_type": "code",
   "execution_count": 16,
   "metadata": {},
   "outputs": [],
   "source": [
    "from torch import nn, bmm\n",
    "import torch\n",
    "\n",
    "from math import sqrt\n",
    "from transformers import AutoConfig, AutoTokenizer"
   ]
  },
  {
   "cell_type": "code",
   "execution_count": 2,
   "metadata": {},
   "outputs": [],
   "source": [
    "model_name = 'bert-base-uncased'\n",
    "config = AutoConfig.from_pretrained(model_name)"
   ]
  },
  {
   "cell_type": "markdown",
   "metadata": {},
   "source": [
    "Scaled dot prod attn"
   ]
  },
  {
   "cell_type": "code",
   "execution_count": 12,
   "metadata": {},
   "outputs": [],
   "source": [
    "def scaled_dot_prod_attn(query, key, value):\n",
    "\n",
    "    dim_k = query.size(-1)\n",
    "    scores = bmm(query, key.transpose(1,2))/sqrt(dim_k)\n",
    "    weights = nn.functional.softmax(scores, dim=-1)\n",
    "    attn_outputs = bmm(weights, value)\n",
    "    return attn_outputs"
   ]
  },
  {
   "cell_type": "markdown",
   "metadata": {},
   "source": [
    "Feed Forward Layer"
   ]
  },
  {
   "cell_type": "code",
   "execution_count": 3,
   "metadata": {},
   "outputs": [],
   "source": [
    "class FeedForward(nn.Module):\n",
    "\n",
    "    def __init__(self, config):\n",
    "        super(FeedForward, self).__init__()\n",
    "        self.linear_1 = nn.Linear(config.hidden_size, config.intermediate_size)\n",
    "        self.linear_2 = nn.Linear(config.intermediate_size, config.hidden_size)\n",
    "        self.gelu = nn.GELU()\n",
    "        self.dropout = nn.Dropout(config.hidden_dropout_prob)\n",
    "\n",
    "    def forward(self, x):\n",
    "        x = self.linear_1(x)\n",
    "        x = self.gelu(x)\n",
    "        x = self.linear_2(x)\n",
    "        x = self.dropout(x)\n",
    "        return x"
   ]
  },
  {
   "cell_type": "markdown",
   "metadata": {},
   "source": [
    "Attention Head"
   ]
  },
  {
   "cell_type": "code",
   "execution_count": 4,
   "metadata": {},
   "outputs": [],
   "source": [
    "class AttentionHead(nn.Module):\n",
    "    def __init__(self, embed_dim, head_dim) -> None:\n",
    "        super().__init__()\n",
    "        self.q = nn.Linear(embed_dim, head_dim)\n",
    "        self.k = nn.Linear(embed_dim, head_dim)\n",
    "        self.v = nn.Linear(embed_dim, head_dim)\n",
    "\n",
    "    def forward(self, hidden_state):\n",
    "        attn_outputs = scaled_dot_prod_attn(self.q(hidden_state),\n",
    "                                                    self.k(hidden_state),\n",
    "                                                    self.v(hidden_state))\n",
    "        return attn_outputs"
   ]
  },
  {
   "cell_type": "markdown",
   "metadata": {},
   "source": [
    "Multi headed attention"
   ]
  },
  {
   "cell_type": "code",
   "execution_count": 6,
   "metadata": {},
   "outputs": [],
   "source": [
    "class MultiAttentionHead(nn.Module):\n",
    "    def __init__(self, config) -> None:\n",
    "        super().__init__()\n",
    "        embed_dim = config.hidden_size\n",
    "        num_heads = config.num_attention_heads\n",
    "        head_dim = embed_dim//num_heads\n",
    "        self.heads = nn.ModuleList([AttentionHead(embed_dim, head_dim) for _ in range(num_heads)])\n",
    "        self.output_linear = nn.Linear(embed_dim, embed_dim)\n",
    "\n",
    "    def forward(self, hidden_state):\n",
    "        x = torch.cat([h(hidden_state) for h in self.heads], dim=-1)\n",
    "        x = self.output_linear(x)\n",
    "        return x\n",
    "        \n"
   ]
  },
  {
   "cell_type": "markdown",
   "metadata": {},
   "source": [
    "Encoder layer"
   ]
  },
  {
   "cell_type": "markdown",
   "metadata": {},
   "source": [
    "Applying layer normalization before each layer"
   ]
  },
  {
   "cell_type": "code",
   "execution_count": 7,
   "metadata": {},
   "outputs": [],
   "source": [
    "class TransformerEncoderLayer(nn.Module):\n",
    "\n",
    "    def __init__(self, config):\n",
    "        super().__init__()\n",
    "        self.layer_norm_1 = nn.LayerNorm(config.hidden_size)\n",
    "        self.layer_norm_2 = nn.LayerNorm(config.hidden_size)\n",
    "        self.attention = MultiAttentionHead(config)\n",
    "        self.feed_forward = FeedForward(config)\n",
    "\n",
    "    def forward(self, x):\n",
    "        #apply layer norm then copy input into query, key, value\n",
    "        hidden_state = self.layer_norm_1(x)\n",
    "\n",
    "        #apply attn with skip connection\n",
    "        x = x + self.attention(hidden_state)\n",
    "\n",
    "        #apply layer norm again\n",
    "        x_1 = self.layer_norm_2(x)\n",
    "\n",
    "        #apply feed forward layer with skip connection\n",
    "        x = x + self.feed_forward(x_1)\n",
    "\n",
    "        return x\n"
   ]
  },
  {
   "cell_type": "markdown",
   "metadata": {},
   "source": [
    "Test with inputs"
   ]
  },
  {
   "cell_type": "code",
   "execution_count": 9,
   "metadata": {},
   "outputs": [],
   "source": [
    "tokenizer = AutoTokenizer.from_pretrained(model_name)\n",
    "\n",
    "text = 'Its better to take action than wonder'\n",
    "inputs = tokenizer(text, return_tensors='pt', add_special_tokens=False)\n",
    "\n",
    "config = AutoConfig.from_pretrained(model_name)\n",
    "token_emb = nn.Embedding(config.vocab_size, config.hidden_size)\n",
    "token_emb\n",
    "\n",
    "input_embeds = token_emb(inputs.input_ids)"
   ]
  },
  {
   "cell_type": "code",
   "execution_count": 17,
   "metadata": {},
   "outputs": [
    {
     "data": {
      "text/plain": [
       "torch.Size([1, 7, 768])"
      ]
     },
     "execution_count": 17,
     "metadata": {},
     "output_type": "execute_result"
    }
   ],
   "source": [
    "encoder_layer = TransformerEncoderLayer(config)\n",
    "encoder_layer(input_embeds).size()"
   ]
  },
  {
   "cell_type": "code",
   "execution_count": 18,
   "metadata": {},
   "outputs": [
    {
     "data": {
      "text/plain": [
       "['__annotations__',\n",
       " '__class__',\n",
       " '__delattr__',\n",
       " '__dict__',\n",
       " '__dir__',\n",
       " '__doc__',\n",
       " '__eq__',\n",
       " '__format__',\n",
       " '__ge__',\n",
       " '__getattribute__',\n",
       " '__gt__',\n",
       " '__hash__',\n",
       " '__init__',\n",
       " '__init_subclass__',\n",
       " '__le__',\n",
       " '__lt__',\n",
       " '__module__',\n",
       " '__ne__',\n",
       " '__new__',\n",
       " '__reduce__',\n",
       " '__reduce_ex__',\n",
       " '__repr__',\n",
       " '__setattr__',\n",
       " '__sizeof__',\n",
       " '__str__',\n",
       " '__subclasshook__',\n",
       " '__weakref__',\n",
       " '_auto_class',\n",
       " '_commit_hash',\n",
       " '_create_repo',\n",
       " '_dict_from_json_file',\n",
       " '_get_config_dict',\n",
       " '_get_files_timestamps',\n",
       " '_name_or_path',\n",
       " '_upload_modified_files',\n",
       " 'add_cross_attention',\n",
       " 'architectures',\n",
       " 'attention_probs_dropout_prob',\n",
       " 'attribute_map',\n",
       " 'bad_words_ids',\n",
       " 'begin_suppress_tokens',\n",
       " 'bos_token_id',\n",
       " 'chunk_size_feed_forward',\n",
       " 'classifier_dropout',\n",
       " 'cross_attention_hidden_size',\n",
       " 'decoder_start_token_id',\n",
       " 'dict_torch_dtype_to_str',\n",
       " 'diversity_penalty',\n",
       " 'do_sample',\n",
       " 'early_stopping',\n",
       " 'encoder_no_repeat_ngram_size',\n",
       " 'eos_token_id',\n",
       " 'exponential_decay_length_penalty',\n",
       " 'finetuning_task',\n",
       " 'forced_bos_token_id',\n",
       " 'forced_eos_token_id',\n",
       " 'from_dict',\n",
       " 'from_json_file',\n",
       " 'from_pretrained',\n",
       " 'get_config_dict',\n",
       " 'gradient_checkpointing',\n",
       " 'hidden_act',\n",
       " 'hidden_dropout_prob',\n",
       " 'hidden_size',\n",
       " 'id2label',\n",
       " 'initializer_range',\n",
       " 'intermediate_size',\n",
       " 'is_composition',\n",
       " 'is_decoder',\n",
       " 'is_encoder_decoder',\n",
       " 'label2id',\n",
       " 'layer_norm_eps',\n",
       " 'length_penalty',\n",
       " 'max_length',\n",
       " 'max_position_embeddings',\n",
       " 'min_length',\n",
       " 'model_type',\n",
       " 'name_or_path',\n",
       " 'no_repeat_ngram_size',\n",
       " 'num_attention_heads',\n",
       " 'num_beam_groups',\n",
       " 'num_beams',\n",
       " 'num_hidden_layers',\n",
       " 'num_labels',\n",
       " 'num_return_sequences',\n",
       " 'output_attentions',\n",
       " 'output_hidden_states',\n",
       " 'output_scores',\n",
       " 'pad_token_id',\n",
       " 'position_embedding_type',\n",
       " 'prefix',\n",
       " 'problem_type',\n",
       " 'pruned_heads',\n",
       " 'push_to_hub',\n",
       " 'register_for_auto_class',\n",
       " 'remove_invalid_values',\n",
       " 'repetition_penalty',\n",
       " 'return_dict',\n",
       " 'return_dict_in_generate',\n",
       " 'save_pretrained',\n",
       " 'sep_token_id',\n",
       " 'suppress_tokens',\n",
       " 'task_specific_params',\n",
       " 'temperature',\n",
       " 'tf_legacy_loss',\n",
       " 'tie_encoder_decoder',\n",
       " 'tie_word_embeddings',\n",
       " 'to_dict',\n",
       " 'to_diff_dict',\n",
       " 'to_json_file',\n",
       " 'to_json_string',\n",
       " 'tokenizer_class',\n",
       " 'top_k',\n",
       " 'top_p',\n",
       " 'torch_dtype',\n",
       " 'torchscript',\n",
       " 'transformers_version',\n",
       " 'type_vocab_size',\n",
       " 'typical_p',\n",
       " 'update',\n",
       " 'update_from_string',\n",
       " 'use_bfloat16',\n",
       " 'use_cache',\n",
       " 'use_return_dict',\n",
       " 'vocab_size']"
      ]
     },
     "execution_count": 18,
     "metadata": {},
     "output_type": "execute_result"
    }
   ],
   "source": [
    "dir(config)"
   ]
  },
  {
   "cell_type": "markdown",
   "metadata": {},
   "source": [
    "Skip connections????"
   ]
  }
 ],
 "metadata": {
  "kernelspec": {
   "display_name": "transformers",
   "language": "python",
   "name": "python3"
  },
  "language_info": {
   "codemirror_mode": {
    "name": "ipython",
    "version": 3
   },
   "file_extension": ".py",
   "mimetype": "text/x-python",
   "name": "python",
   "nbconvert_exporter": "python",
   "pygments_lexer": "ipython3",
   "version": "3.10.8"
  },
  "orig_nbformat": 4,
  "vscode": {
   "interpreter": {
    "hash": "dddab157190c3c29c7bfa9724dd2612e80e7d4a281bb7f76e54f36d2e23abd8a"
   }
  }
 },
 "nbformat": 4,
 "nbformat_minor": 2
}
