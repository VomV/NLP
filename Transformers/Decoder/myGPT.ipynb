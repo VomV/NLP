{
 "cells": [
  {
   "cell_type": "code",
   "execution_count": 2,
   "metadata": {},
   "outputs": [
    {
     "name": "stdout",
     "output_type": "stream",
     "text": [
      "--2023-02-26 22:43:11--  https://raw.githubusercontent.com/karpathy/char-rnn/master/data/tinyshakespeare/input.txt\n",
      "Resolving raw.githubusercontent.com (raw.githubusercontent.com)... 2606:50c0:8000::154, 2606:50c0:8001::154, 2606:50c0:8002::154, ...\n",
      "Connecting to raw.githubusercontent.com (raw.githubusercontent.com)|2606:50c0:8000::154|:443... connected.\n",
      "HTTP request sent, awaiting response... 200 OK\n",
      "Length: 1115394 (1.1M) [text/plain]\n",
      "Saving to: ‘input.txt.5’\n",
      "\n",
      "input.txt.5         100%[===================>]   1.06M  2.59MB/s    in 0.4s    \n",
      "\n",
      "2023-02-26 22:43:11 (2.59 MB/s) - ‘input.txt.5’ saved [1115394/1115394]\n",
      "\n"
     ]
    }
   ],
   "source": [
    "!wget https://raw.githubusercontent.com/karpathy/char-rnn/master/data/tinyshakespeare/input.txt"
   ]
  },
  {
   "cell_type": "markdown",
   "metadata": {},
   "source": [
    "Important Notes on Self Attention"
   ]
  },
  {
   "attachments": {},
   "cell_type": "markdown",
   "metadata": {},
   "source": [
    "\n",
    "- Attention is a communication mechanism. Can be seen as nodes in a directed graph looking at each other and aggregating information with a weighted sum from all nodes that point to them, with data-dependent weights.\n",
    "- There is no notion of space. Attention simply acts over a set of vectors. This is why we need to positionally encode tokens.\n",
    "- Each example across batch dimension is of course processed completely independently and never \"talk\" to each other\n",
    "- In an \"encoder\" attention block just delete the single line that does masking with tril, allowing all tokens to communicate. This block here is called a \"decoder\" attention block because it has triangular masking, and is usually used in autoregressive settings, like language modeling.\n",
    "- \"self-attention\" just means that the keys and values are produced from the same source as queries. In \"cross-attention\", the queries still get produced from x, but the keys and values come from some other, external source (e.g. an encoder module)\n",
    "- \"Scaled\" attention additional divides wts by 1/sqrt(head_size). This makes it so when input Q,K are unit variance, wei will be unit variance too and Softmax will stay diffuse and not saturate too much. Illustration below"
   ]
  },
  {
   "cell_type": "code",
   "execution_count": 4,
   "metadata": {},
   "outputs": [
    {
     "data": {
      "text/plain": [
       "<torch._C.Generator at 0x7f092e7edf90>"
      ]
     },
     "execution_count": 4,
     "metadata": {},
     "output_type": "execute_result"
    }
   ],
   "source": [
    "import torch\n",
    "import torch.nn as nn\n",
    "from torch.nn import functional as F\n",
    "torch.manual_seed(42)"
   ]
  },
  {
   "cell_type": "code",
   "execution_count": 6,
   "metadata": {},
   "outputs": [],
   "source": [
    "with open('input.txt', 'r', encoding='utf-8') as f:\n",
    "    text = f.read()"
   ]
  },
  {
   "cell_type": "code",
   "execution_count": 7,
   "metadata": {},
   "outputs": [
    {
     "data": {
      "text/plain": [
       "1115394"
      ]
     },
     "execution_count": 7,
     "metadata": {},
     "output_type": "execute_result"
    }
   ],
   "source": [
    "len(text)"
   ]
  },
  {
   "cell_type": "code",
   "execution_count": 8,
   "metadata": {},
   "outputs": [
    {
     "name": "stdout",
     "output_type": "stream",
     "text": [
      "First Citizen:\n",
      "Before we proceed any further, hear me speak.\n",
      "\n",
      "All:\n",
      "Speak, speak.\n",
      "\n",
      "First Citizen:\n",
      "You are all resolved rather to die than to famish?\n",
      "\n",
      "All:\n",
      "Resolved. resolved.\n",
      "\n",
      "First Citizen:\n",
      "First, you know Caius Marcius is chief enemy to the people.\n",
      "\n",
      "All:\n",
      "We know't, we know't.\n",
      "\n",
      "First Citizen:\n",
      "Let us kill him, and we'll have corn at our own price.\n",
      "Is't a verdict?\n",
      "\n",
      "All:\n",
      "No more talking on't; let it be done: away, away!\n",
      "\n",
      "Second Citizen:\n",
      "One word, good citizens.\n",
      "\n",
      "First Citizen:\n",
      "We are accounted poor citizens, the patricians good.\n",
      "What authority surfeits on would relieve us: if they\n",
      "would yield us but the superfluity, while it were\n",
      "wholesome, we might guess they relieved us humanely;\n",
      "but they think we are too dear: the leanness that\n",
      "afflicts us, the object of our misery, is as an\n",
      "inventory to particularise their abundance; our\n",
      "sufferance is a gain to them Let us revenge this with\n",
      "our pikes, ere we become rakes: for the gods know I\n",
      "speak this in hunger for bread, not in thirst for revenge.\n",
      "\n",
      "\n"
     ]
    }
   ],
   "source": [
    "print(text[:1000])"
   ]
  },
  {
   "cell_type": "markdown",
   "metadata": {},
   "source": [
    "All unique chars in text"
   ]
  },
  {
   "cell_type": "code",
   "execution_count": 9,
   "metadata": {},
   "outputs": [
    {
     "name": "stdout",
     "output_type": "stream",
     "text": [
      "\n",
      " !$&',-.3:;?ABCDEFGHIJKLMNOPQRSTUVWXYZabcdefghijklmnopqrstuvwxyz\n",
      "65\n"
     ]
    }
   ],
   "source": [
    "chars = sorted(list(set(text)))\n",
    "vocab_size = len(chars)\n",
    "print(''.join(chars))\n",
    "print(vocab_size)"
   ]
  },
  {
   "cell_type": "markdown",
   "metadata": {},
   "source": [
    "Tokenize characters"
   ]
  },
  {
   "cell_type": "code",
   "execution_count": 10,
   "metadata": {},
   "outputs": [],
   "source": [
    "text_int = {ch:i for i, ch in enumerate(chars)}\n",
    "int_text = {i:ch for i, ch in enumerate(chars)}\n",
    "\n",
    "encode = lambda x: [text_int[i] for i in x]\n",
    "decode  = lambda x: ''.join([int_text[i] for i in x])"
   ]
  },
  {
   "cell_type": "code",
   "execution_count": 11,
   "metadata": {},
   "outputs": [
    {
     "data": {
      "text/plain": [
       "[46, 47, 1, 58, 46, 43, 56, 43]"
      ]
     },
     "execution_count": 11,
     "metadata": {},
     "output_type": "execute_result"
    }
   ],
   "source": [
    "encode('hi there')"
   ]
  },
  {
   "cell_type": "code",
   "execution_count": 12,
   "metadata": {},
   "outputs": [
    {
     "data": {
      "text/plain": [
       "'hi there'"
      ]
     },
     "execution_count": 12,
     "metadata": {},
     "output_type": "execute_result"
    }
   ],
   "source": [
    "decode(encode('hi there'))"
   ]
  },
  {
   "cell_type": "code",
   "execution_count": 13,
   "metadata": {},
   "outputs": [],
   "source": [
    "data = torch.tensor(encode(text), dtype=torch.long)"
   ]
  },
  {
   "cell_type": "markdown",
   "metadata": {},
   "source": [
    "Split Data"
   ]
  },
  {
   "cell_type": "code",
   "execution_count": 14,
   "metadata": {},
   "outputs": [],
   "source": [
    "n = int(0.9*len(text))\n",
    "train_data = data[:n]\n",
    "valid_data = data[n:]"
   ]
  },
  {
   "cell_type": "code",
   "execution_count": 15,
   "metadata": {},
   "outputs": [
    {
     "data": {
      "text/plain": [
       "tensor([18, 47, 56, 57, 58,  1, 15, 47, 58])"
      ]
     },
     "execution_count": 15,
     "metadata": {},
     "output_type": "execute_result"
    }
   ],
   "source": [
    "block_size = 8\n",
    "data[:block_size+1]"
   ]
  },
  {
   "cell_type": "code",
   "execution_count": 16,
   "metadata": {},
   "outputs": [
    {
     "name": "stdout",
     "output_type": "stream",
     "text": [
      "context is tensor([18]) and target is 47\n",
      "context is tensor([18, 47]) and target is 56\n",
      "context is tensor([18, 47, 56]) and target is 57\n",
      "context is tensor([18, 47, 56, 57]) and target is 58\n",
      "context is tensor([18, 47, 56, 57, 58]) and target is 1\n",
      "context is tensor([18, 47, 56, 57, 58,  1]) and target is 15\n",
      "context is tensor([18, 47, 56, 57, 58,  1, 15]) and target is 47\n",
      "context is tensor([18, 47, 56, 57, 58,  1, 15, 47]) and target is 58\n"
     ]
    }
   ],
   "source": [
    "x = data[:block_size]\n",
    "y = data[1:block_size+1]\n",
    "for t in range(block_size):\n",
    "    context = x[:t+1]\n",
    "    target = y[t]\n",
    "    print(f'context is {context} and target is {target}')"
   ]
  },
  {
   "cell_type": "code",
   "execution_count": 17,
   "metadata": {},
   "outputs": [
    {
     "name": "stdout",
     "output_type": "stream",
     "text": [
      "torch.Size([4, 8])\n",
      "torch.Size([4, 8])\n"
     ]
    }
   ],
   "source": [
    "torch.manual_seed(43)\n",
    "batch_size=4 #how many independent seq to process in parallel\n",
    "block_size=8 #sets the size of the context\n",
    "\n",
    "def get_batch(split):\n",
    "    '''\n",
    "        Generate a small batch of data of input x and target y\n",
    "    '''\n",
    "\n",
    "    data = train_data if split == 'train' else valid_data\n",
    "    ix = torch.randint(len(data) - block_size, (batch_size,))\n",
    "    x = torch.stack([data[i:i+block_size] for i in ix])\n",
    "    y = torch.stack([data[i+1:i+block_size+1] for i in ix])\n",
    "    return x, y\n",
    "\n",
    "xb, yb = get_batch('train')\n",
    "print(xb.shape)\n",
    "print(yb.shape)\n",
    "\n"
   ]
  },
  {
   "cell_type": "code",
   "execution_count": 18,
   "metadata": {},
   "outputs": [
    {
     "data": {
      "text/plain": [
       "tensor([[43,  1, 58, 53,  1, 51, 43,  6],\n",
       "        [ 1, 57, 46, 43,  1, 61, 39, 57],\n",
       "        [39, 42, 43,  1, 46, 47, 51,  1],\n",
       "        [53, 59, 56,  1, 45, 56, 39, 41]])"
      ]
     },
     "execution_count": 18,
     "metadata": {},
     "output_type": "execute_result"
    }
   ],
   "source": [
    "xb"
   ]
  },
  {
   "cell_type": "code",
   "execution_count": 19,
   "metadata": {},
   "outputs": [
    {
     "data": {
      "text/plain": [
       "tensor([[ 1, 58, 53,  1, 51, 43,  6,  1],\n",
       "        [57, 46, 43,  1, 61, 39, 57,  1],\n",
       "        [42, 43,  1, 46, 47, 51,  1, 58],\n",
       "        [59, 56,  1, 45, 56, 39, 41, 43]])"
      ]
     },
     "execution_count": 19,
     "metadata": {},
     "output_type": "execute_result"
    }
   ],
   "source": [
    "yb"
   ]
  },
  {
   "cell_type": "code",
   "execution_count": 20,
   "metadata": {},
   "outputs": [
    {
     "name": "stdout",
     "output_type": "stream",
     "text": [
      "Context:: tensor([43]), Target:: 1\n",
      "Context:: tensor([43,  1]), Target:: 58\n",
      "Context:: tensor([43,  1, 58]), Target:: 53\n",
      "Context:: tensor([43,  1, 58, 53]), Target:: 1\n",
      "Context:: tensor([43,  1, 58, 53,  1]), Target:: 51\n",
      "Context:: tensor([43,  1, 58, 53,  1, 51]), Target:: 43\n",
      "Context:: tensor([43,  1, 58, 53,  1, 51, 43]), Target:: 6\n",
      "Context:: tensor([43,  1, 58, 53,  1, 51, 43,  6]), Target:: 1\n",
      "Context:: tensor([1]), Target:: 57\n",
      "Context:: tensor([ 1, 57]), Target:: 46\n",
      "Context:: tensor([ 1, 57, 46]), Target:: 43\n",
      "Context:: tensor([ 1, 57, 46, 43]), Target:: 1\n",
      "Context:: tensor([ 1, 57, 46, 43,  1]), Target:: 61\n",
      "Context:: tensor([ 1, 57, 46, 43,  1, 61]), Target:: 39\n",
      "Context:: tensor([ 1, 57, 46, 43,  1, 61, 39]), Target:: 57\n",
      "Context:: tensor([ 1, 57, 46, 43,  1, 61, 39, 57]), Target:: 1\n",
      "Context:: tensor([39]), Target:: 42\n",
      "Context:: tensor([39, 42]), Target:: 43\n",
      "Context:: tensor([39, 42, 43]), Target:: 1\n",
      "Context:: tensor([39, 42, 43,  1]), Target:: 46\n",
      "Context:: tensor([39, 42, 43,  1, 46]), Target:: 47\n",
      "Context:: tensor([39, 42, 43,  1, 46, 47]), Target:: 51\n",
      "Context:: tensor([39, 42, 43,  1, 46, 47, 51]), Target:: 1\n",
      "Context:: tensor([39, 42, 43,  1, 46, 47, 51,  1]), Target:: 58\n",
      "Context:: tensor([53]), Target:: 59\n",
      "Context:: tensor([53, 59]), Target:: 56\n",
      "Context:: tensor([53, 59, 56]), Target:: 1\n",
      "Context:: tensor([53, 59, 56,  1]), Target:: 45\n",
      "Context:: tensor([53, 59, 56,  1, 45]), Target:: 56\n",
      "Context:: tensor([53, 59, 56,  1, 45, 56]), Target:: 39\n",
      "Context:: tensor([53, 59, 56,  1, 45, 56, 39]), Target:: 41\n",
      "Context:: tensor([53, 59, 56,  1, 45, 56, 39, 41]), Target:: 43\n"
     ]
    }
   ],
   "source": [
    "for b in range(batch_size): #block size\n",
    "    for c in range(block_size):\n",
    "        context = xb[b, :c+1]\n",
    "        target = yb[b, c]\n",
    "        print(f\"Context:: {context}, Target:: {target}\")\n",
    "\n"
   ]
  },
  {
   "cell_type": "markdown",
   "metadata": {},
   "source": [
    "BiGram Language Model"
   ]
  },
  {
   "cell_type": "code",
   "execution_count": 21,
   "metadata": {},
   "outputs": [
    {
     "name": "stdout",
     "output_type": "stream",
     "text": [
      "torch.Size([32, 65])\n",
      "tensor(4.8305, grad_fn=<NllLossBackward0>)\n",
      "\n",
      "MQks' n.ZFgZfBY;bt,q3uBeWTMT,Ji3.wPNI,i3wUA;LyutIrtbH&qdJbCRvqDg'TllFvmRv&qiuLBa:UEYBH'QqDIlfBGzzgY \n"
     ]
    }
   ],
   "source": [
    "class BigramLanguageModel(nn.Module):\n",
    "\n",
    "    def __init__(self, vocab_size):\n",
    "        super().__init__()\n",
    "\n",
    "        #each token directly reads the logits for the next token from a lookup table\n",
    "        self.token_embedding_table = nn.Embedding(vocab_size, vocab_size)\n",
    "\n",
    "    def forward(self, idx, targets=None):\n",
    "\n",
    "        #idx and targets are both (Batch ,Time) tensor of integers\n",
    "        logits = self.token_embedding_table(idx) # (Batch=batch_size, Time=block_size, Channel=vocab_size)\n",
    "\n",
    "        if targets is not None:\n",
    "            B, T, C = logits.shape\n",
    "\n",
    "            #For pytorch loss module, reshaping\n",
    "            logits = logits.view(B*T, C)\n",
    "            targets = targets.view(B*T)\n",
    "            loss = F.cross_entropy(logits, targets)\n",
    "        else:\n",
    "            loss = None\n",
    "\n",
    "        return logits, loss\n",
    "\n",
    "    def generate(self, idx, max_new_tokens):\n",
    "        # idx is B,T array in current context\n",
    "        for _ in range(max_new_tokens):\n",
    "            #get the preds\n",
    "            logits, loss = self(idx)\n",
    "            #get the last time step\n",
    "            logits = logits[:, -1, :] # B,C\n",
    "            #apply softmax to get probabilities\n",
    "            probs = F.softmax(logits, dim=1) # B,C\n",
    "            #sample from dist\n",
    "            idx_next = torch.multinomial(probs, num_samples=1) #B,1\n",
    "            #append\n",
    "            idx = torch.cat((idx, idx_next), dim=1) #B,T+1\n",
    "        return idx\n",
    "\n",
    "\n",
    "\n",
    "m = BigramLanguageModel(vocab_size)\n",
    "out, loss = m(xb,yb)\n",
    "print(out.shape)\n",
    "print(loss)\n",
    "\n",
    "print(decode(m.generate(idx=torch.zeros((1,1), dtype=torch.long), max_new_tokens=100)[0].tolist()))"
   ]
  },
  {
   "cell_type": "markdown",
   "metadata": {},
   "source": [
    "Train the Model"
   ]
  },
  {
   "cell_type": "code",
   "execution_count": 22,
   "metadata": {},
   "outputs": [],
   "source": [
    "#Optimizer\n",
    "optimizer = torch.optim.AdamW(m.parameters(), lr=1e-3)"
   ]
  },
  {
   "cell_type": "code",
   "execution_count": 42,
   "metadata": {},
   "outputs": [
    {
     "name": "stdout",
     "output_type": "stream",
     "text": [
      "2.3190970420837402\n"
     ]
    }
   ],
   "source": [
    "batch_size=32\n",
    "for epoch in range(20000):\n",
    "\n",
    "    #sample a batch of data \n",
    "    xb, yb = get_batch('train')\n",
    "\n",
    "    #eval loss\n",
    "    logits, loss = m(xb, yb)\n",
    "    optimizer.zero_grad(set_to_none=True)\n",
    "    loss.backward()\n",
    "    optimizer.step()\n",
    "\n",
    "print(loss.item())"
   ]
  },
  {
   "cell_type": "code",
   "execution_count": 24,
   "metadata": {},
   "outputs": [
    {
     "name": "stdout",
     "output_type": "stream",
     "text": [
      "\n",
      "\n",
      "O BRTy,CSo.mpO&RYhee\n",
      "JwiXN;l ru.;WQerIw$S;PO:\n",
      "was-$vrwR'd,QZ.UdxxFVjfasWcKjcME. $lut!DU p!k's,itF!itITZXeas-wRlvUrqG3&MO:&KwRDMrue:UF's-ce,MkTb:phDAUUzS vEN;wa'evxYeXebKpX-B&ey,X\n",
      "A?lLhnwWEzVJno33omoawwRwn'e\n",
      "U;KrZ3vj:&irgik'W:r,\n",
      "MZFMzzgheloJqTO&LQObGuYn $v\n",
      "C:wQKCaCEu.' PTHlO:JJitPRut?odGyeTYp!PqThjXd?W;fna?Fgl,J3A!JT-sese's-xNUFo,A,dxac?\n",
      "e,.Dom mcZVqj!ZBAZg\n",
      "AheY&R'raHosct $Q?Pm3yofXBdGMsww.,3z$vC.Sxt,OFaG,C$mLJiWx nbi3fwaJDTO UW; ePme,.!JBR !py OXgqDtc&CKCILoO lzUigw\n",
      "Er,,Mb:p;!?sGclDoy,'QdU'shN'\n"
     ]
    }
   ],
   "source": [
    "print(decode(m.generate(idx=torch.zeros((1,1), dtype=torch.long), max_new_tokens=500)[0].tolist()))"
   ]
  },
  {
   "cell_type": "markdown",
   "metadata": {},
   "source": [
    "### Self Attention Mathematical trick"
   ]
  },
  {
   "cell_type": "code",
   "execution_count": 23,
   "metadata": {},
   "outputs": [
    {
     "data": {
      "text/plain": [
       "torch.Size([4, 8, 2])"
      ]
     },
     "execution_count": 23,
     "metadata": {},
     "output_type": "execute_result"
    }
   ],
   "source": [
    "B, T, C = 4, 8, 2 #Batch, Time, Channels\n",
    "x = torch.randn(B,T,C)\n",
    "x.shape"
   ]
  },
  {
   "cell_type": "markdown",
   "metadata": {},
   "source": [
    "Provide info to the current token with all the past tokens: i.e average"
   ]
  },
  {
   "cell_type": "code",
   "execution_count": 24,
   "metadata": {},
   "outputs": [],
   "source": [
    "xbow = torch.zeros((B,T,C))\n",
    "for b in range(B):\n",
    "    for t in range(T):\n",
    "        xprev = x[b, :t+1]\n",
    "        xbow[b,t] = torch.mean(xprev, 0)"
   ]
  },
  {
   "cell_type": "code",
   "execution_count": 25,
   "metadata": {},
   "outputs": [
    {
     "data": {
      "text/plain": [
       "tensor([[-1.4102, -0.5717],\n",
       "        [ 1.1007, -1.0828],\n",
       "        [-0.5763,  0.7367],\n",
       "        [ 1.0083, -0.0829],\n",
       "        [-0.1793,  0.0455],\n",
       "        [-0.7755, -0.0195],\n",
       "        [ 1.7594, -2.3251],\n",
       "        [ 0.6515,  0.2799]])"
      ]
     },
     "execution_count": 25,
     "metadata": {},
     "output_type": "execute_result"
    }
   ],
   "source": [
    "x[0]"
   ]
  },
  {
   "cell_type": "code",
   "execution_count": 26,
   "metadata": {},
   "outputs": [
    {
     "data": {
      "text/plain": [
       "tensor([[-1.4102, -0.5717],\n",
       "        [-0.1547, -0.8272],\n",
       "        [-0.2953, -0.3059],\n",
       "        [ 0.0306, -0.2502],\n",
       "        [-0.0113, -0.1910],\n",
       "        [-0.1387, -0.1624],\n",
       "        [ 0.1324, -0.4714],\n",
       "        [ 0.1973, -0.3775]])"
      ]
     },
     "execution_count": 26,
     "metadata": {},
     "output_type": "execute_result"
    }
   ],
   "source": [
    "xbow[0]"
   ]
  },
  {
   "cell_type": "code",
   "execution_count": 27,
   "metadata": {},
   "outputs": [
    {
     "data": {
      "text/plain": [
       "tensor([[1.0000, 0.0000, 0.0000, 0.0000, 0.0000, 0.0000, 0.0000, 0.0000],\n",
       "        [0.5000, 0.5000, 0.0000, 0.0000, 0.0000, 0.0000, 0.0000, 0.0000],\n",
       "        [0.3333, 0.3333, 0.3333, 0.0000, 0.0000, 0.0000, 0.0000, 0.0000],\n",
       "        [0.2500, 0.2500, 0.2500, 0.2500, 0.0000, 0.0000, 0.0000, 0.0000],\n",
       "        [0.2000, 0.2000, 0.2000, 0.2000, 0.2000, 0.0000, 0.0000, 0.0000],\n",
       "        [0.1667, 0.1667, 0.1667, 0.1667, 0.1667, 0.1667, 0.0000, 0.0000],\n",
       "        [0.1429, 0.1429, 0.1429, 0.1429, 0.1429, 0.1429, 0.1429, 0.0000],\n",
       "        [0.1250, 0.1250, 0.1250, 0.1250, 0.1250, 0.1250, 0.1250, 0.1250]])"
      ]
     },
     "execution_count": 27,
     "metadata": {},
     "output_type": "execute_result"
    }
   ],
   "source": [
    "wts = torch.tril(torch.ones(T,T)) \n",
    "wts = wts / torch.sum(wts, 1, keepdim=True)\n",
    "wts"
   ]
  },
  {
   "cell_type": "markdown",
   "metadata": {},
   "source": [
    "Weighted sums with this trick"
   ]
  },
  {
   "cell_type": "code",
   "execution_count": 28,
   "metadata": {},
   "outputs": [
    {
     "data": {
      "text/plain": [
       "tensor([[[-1.4102, -0.5717],\n",
       "         [-0.1547, -0.8272],\n",
       "         [-0.2953, -0.3059],\n",
       "         [ 0.0306, -0.2502],\n",
       "         [-0.0113, -0.1910],\n",
       "         [-0.1387, -0.1624],\n",
       "         [ 0.1324, -0.4714],\n",
       "         [ 0.1973, -0.3775]],\n",
       "\n",
       "        [[-0.6888,  0.2200],\n",
       "         [ 0.4613,  0.4041],\n",
       "         [ 0.4552,  0.1469],\n",
       "         [ 0.5160,  0.1040],\n",
       "         [ 0.1207,  0.1311],\n",
       "         [ 0.3106,  0.3268],\n",
       "         [ 0.1369,  0.2926],\n",
       "         [ 0.1210,  0.1760]],\n",
       "\n",
       "        [[ 0.2834,  0.0684],\n",
       "         [ 0.8274,  0.9321],\n",
       "         [ 0.1833,  0.2627],\n",
       "         [ 0.2164,  0.3528],\n",
       "         [-0.1003,  0.3226],\n",
       "         [-0.0872, -0.0603],\n",
       "         [-0.1843,  0.2428],\n",
       "         [-0.2052,  0.0841]],\n",
       "\n",
       "        [[-0.6858, -0.2193],\n",
       "         [-0.8891, -0.2261],\n",
       "         [-0.6727, -0.2258],\n",
       "         [-0.7427, -0.3154],\n",
       "         [-0.7512,  0.0753],\n",
       "         [-0.6185, -0.1458],\n",
       "         [-0.4669, -0.2838],\n",
       "         [-0.2894, -0.1748]]])"
      ]
     },
     "execution_count": 28,
     "metadata": {},
     "output_type": "execute_result"
    }
   ],
   "source": [
    "xbow2 = wts @ x # (T, T) @ (B, T, C) --> pytorch will apply batch mul\n",
    "xbow2 #--> B, T, C"
   ]
  },
  {
   "cell_type": "markdown",
   "metadata": {},
   "source": [
    "Version with Softmax"
   ]
  },
  {
   "cell_type": "code",
   "execution_count": 29,
   "metadata": {},
   "outputs": [
    {
     "data": {
      "text/plain": [
       "tensor([[1.0000, 0.0000, 0.0000, 0.0000, 0.0000, 0.0000, 0.0000, 0.0000],\n",
       "        [0.5000, 0.5000, 0.0000, 0.0000, 0.0000, 0.0000, 0.0000, 0.0000],\n",
       "        [0.3333, 0.3333, 0.3333, 0.0000, 0.0000, 0.0000, 0.0000, 0.0000],\n",
       "        [0.2500, 0.2500, 0.2500, 0.2500, 0.0000, 0.0000, 0.0000, 0.0000],\n",
       "        [0.2000, 0.2000, 0.2000, 0.2000, 0.2000, 0.0000, 0.0000, 0.0000],\n",
       "        [0.1667, 0.1667, 0.1667, 0.1667, 0.1667, 0.1667, 0.0000, 0.0000],\n",
       "        [0.1429, 0.1429, 0.1429, 0.1429, 0.1429, 0.1429, 0.1429, 0.0000],\n",
       "        [0.1250, 0.1250, 0.1250, 0.1250, 0.1250, 0.1250, 0.1250, 0.1250]])"
      ]
     },
     "execution_count": 29,
     "metadata": {},
     "output_type": "execute_result"
    }
   ],
   "source": [
    "tril = torch.tril(torch.ones(T, T))\n",
    "wts = torch.zeros((T,T))\n",
    "wts = wts.masked_fill(tril == 0, float('-inf')) #future cant communicate with the past\n",
    "wts = F.softmax(wts, dim=-1)\n",
    "wts"
   ]
  },
  {
   "cell_type": "code",
   "execution_count": 30,
   "metadata": {},
   "outputs": [
    {
     "data": {
      "text/plain": [
       "True"
      ]
     },
     "execution_count": 30,
     "metadata": {},
     "output_type": "execute_result"
    }
   ],
   "source": [
    "xbow3 = wts @ x\n",
    "torch.allclose(xbow, xbow3)"
   ]
  },
  {
   "attachments": {},
   "cell_type": "markdown",
   "metadata": {},
   "source": [
    "Self Attention"
   ]
  },
  {
   "cell_type": "code",
   "execution_count": 36,
   "metadata": {},
   "outputs": [
    {
     "data": {
      "text/plain": [
       "torch.Size([4, 8, 16])"
      ]
     },
     "execution_count": 36,
     "metadata": {},
     "output_type": "execute_result"
    }
   ],
   "source": [
    "B, T, C = 4, 8, 32\n",
    "x = torch.rand(B, T, C)\n",
    "\n",
    "#single head self-attn\n",
    "head_size = 16\n",
    "key = nn.Linear(C, head_size, bias=False)\n",
    "query = nn.Linear(C, head_size, bias=False)\n",
    "value = nn.Linear(C, head_size, bias=False)\n",
    "k = key(x) #B,T,16\n",
    "q = query(x) #B,T,16    \n",
    "wts = q @ k.transpose(-2,-1) # (B,T,16) @ (B,16,T) ---> (B,T,T)\n",
    "\n",
    "tril = torch.tril(torch.ones(T, T))\n",
    "wts = wts.masked_fill(tril==0, float('-inf'))\n",
    "wts = F.softmax(wts, dim=-1)\n",
    "\n",
    "v = value(x)\n",
    "out = wts @ v\n",
    "out.shape\n"
   ]
  },
  {
   "cell_type": "code",
   "execution_count": 39,
   "metadata": {},
   "outputs": [
    {
     "data": {
      "text/plain": [
       "tensor([[1.0000, 0.0000, 0.0000, 0.0000, 0.0000, 0.0000, 0.0000, 0.0000],\n",
       "        [0.4680, 0.5320, 0.0000, 0.0000, 0.0000, 0.0000, 0.0000, 0.0000],\n",
       "        [0.3411, 0.3172, 0.3416, 0.0000, 0.0000, 0.0000, 0.0000, 0.0000],\n",
       "        [0.2518, 0.3014, 0.2456, 0.2012, 0.0000, 0.0000, 0.0000, 0.0000],\n",
       "        [0.1834, 0.2198, 0.1799, 0.1741, 0.2428, 0.0000, 0.0000, 0.0000],\n",
       "        [0.1687, 0.1714, 0.1268, 0.1266, 0.2503, 0.1563, 0.0000, 0.0000],\n",
       "        [0.1511, 0.1436, 0.1179, 0.1237, 0.1784, 0.1417, 0.1434, 0.0000],\n",
       "        [0.1177, 0.1398, 0.0986, 0.0992, 0.1996, 0.1099, 0.1325, 0.1028]],\n",
       "       grad_fn=<SelectBackward0>)"
      ]
     },
     "execution_count": 39,
     "metadata": {},
     "output_type": "execute_result"
    }
   ],
   "source": [
    "wts[0]"
   ]
  }
 ],
 "metadata": {
  "kernelspec": {
   "display_name": "transformers",
   "language": "python",
   "name": "python3"
  },
  "language_info": {
   "codemirror_mode": {
    "name": "ipython",
    "version": 3
   },
   "file_extension": ".py",
   "mimetype": "text/x-python",
   "name": "python",
   "nbconvert_exporter": "python",
   "pygments_lexer": "ipython3",
   "version": "3.10.10"
  },
  "orig_nbformat": 4,
  "vscode": {
   "interpreter": {
    "hash": "dddab157190c3c29c7bfa9724dd2612e80e7d4a281bb7f76e54f36d2e23abd8a"
   }
  }
 },
 "nbformat": 4,
 "nbformat_minor": 2
}
