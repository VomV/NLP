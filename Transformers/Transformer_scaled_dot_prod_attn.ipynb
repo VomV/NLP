{
 "cells": [
  {
   "attachments": {},
   "cell_type": "markdown",
   "metadata": {},
   "source": [
    "Scaled dot product attention::\n",
    "\n",
    "- Project each token into query, key, value vectors\n",
    "- Cal attention scores using dot prod as the similarity func for similarity between query and key, and scale with sqrt(dim)\n",
    "- Cal attention weights by normalizing the score with softmax\n",
    "- Update the embedding vector by mul weights with value: x' = SUM_j(W_j * V_j)"
   ]
  },
  {
   "cell_type": "code",
   "execution_count": 12,
   "metadata": {},
   "outputs": [],
   "source": [
    "from transformers import AutoTokenizer, AutoConfig\n",
    "\n",
    "from torch import nn, bmm\n",
    "import numpy as np\n",
    "from math import sqrt"
   ]
  },
  {
   "cell_type": "code",
   "execution_count": 2,
   "metadata": {},
   "outputs": [],
   "source": [
    "model_name = 'bert-base-uncased'\n",
    "tokenizer = AutoTokenizer.from_pretrained(model_name)"
   ]
  },
  {
   "cell_type": "code",
   "execution_count": 3,
   "metadata": {},
   "outputs": [],
   "source": [
    "text = 'Its better to take action than wonder'\n",
    "inputs = tokenizer(text, return_tensors='pt', add_special_tokens=False)"
   ]
  },
  {
   "cell_type": "markdown",
   "metadata": {},
   "source": [
    "Dense embedding vector (without any context info)"
   ]
  },
  {
   "cell_type": "code",
   "execution_count": 6,
   "metadata": {},
   "outputs": [
    {
     "data": {
      "text/plain": [
       "Embedding(30522, 768)"
      ]
     },
     "execution_count": 6,
     "metadata": {},
     "output_type": "execute_result"
    }
   ],
   "source": [
    "config = AutoConfig.from_pretrained(model_name)\n",
    "token_emb = nn.Embedding(config.vocab_size, config.hidden_size)\n",
    "token_emb"
   ]
  },
  {
   "attachments": {},
   "cell_type": "markdown",
   "metadata": {},
   "source": [
    "Generate embeddings for the input - Lookup the embedding vector"
   ]
  },
  {
   "cell_type": "code",
   "execution_count": 8,
   "metadata": {},
   "outputs": [],
   "source": [
    "input_embeds = token_emb(inputs.input_ids)"
   ]
  },
  {
   "cell_type": "code",
   "execution_count": 9,
   "metadata": {},
   "outputs": [
    {
     "data": {
      "text/plain": [
       "torch.Size([1, 7, 768])"
      ]
     },
     "execution_count": 9,
     "metadata": {},
     "output_type": "execute_result"
    }
   ],
   "source": [
    "input_embeds.size()"
   ]
  },
  {
   "attachments": {},
   "cell_type": "markdown",
   "metadata": {},
   "source": [
    "Calc query, key and value: Naive calc, since query, key and value are assumed to be equal to embedding"
   ]
  },
  {
   "cell_type": "code",
   "execution_count": 20,
   "metadata": {},
   "outputs": [],
   "source": [
    "#Keep these equal for now\n",
    "query = key = value =input_embeds\n",
    "\n",
    "dim_k = key.size(-1)\n",
    "\n",
    "#bmm is batch wise matrix-matrix multiplication\n",
    "#Attention scores are scaled with dim_k to bring the values in a managable range, so we can apply softmax later\n",
    "scores = bmm(query, key.transpose(1,2))/sqrt(dim_k)"
   ]
  },
  {
   "cell_type": "code",
   "execution_count": 16,
   "metadata": {},
   "outputs": [
    {
     "name": "stdout",
     "output_type": "stream",
     "text": [
      "tensor([[[28.3634, -2.5400, -1.0776,  0.3073,  0.0299, -0.1742,  1.0891],\n",
      "         [-2.5400, 29.2486,  1.0106, -0.4001,  1.2901,  0.5422, -0.6729],\n",
      "         [-1.0776,  1.0106, 29.1372,  0.9001,  0.9464, -1.7248, -1.0170],\n",
      "         [ 0.3073, -0.4001,  0.9001, 25.7758, -1.0010,  0.7502, -0.1281],\n",
      "         [ 0.0299,  1.2901,  0.9464, -1.0010, 27.0208,  0.8866,  0.7322],\n",
      "         [-0.1742,  0.5422, -1.7248,  0.7502,  0.8866, 27.4524,  0.5691],\n",
      "         [ 1.0891, -0.6729, -1.0170, -0.1281,  0.7322,  0.5691, 27.2870]]],\n",
      "       grad_fn=<DivBackward0>)\n",
      "torch.Size([1, 7, 7])\n"
     ]
    }
   ],
   "source": [
    "print(scores)\n",
    "print(scores.size())"
   ]
  },
  {
   "cell_type": "markdown",
   "metadata": {},
   "source": [
    "Softmax to normalize the attention weights"
   ]
  },
  {
   "cell_type": "code",
   "execution_count": 19,
   "metadata": {},
   "outputs": [
    {
     "data": {
      "text/plain": [
       "tensor([[1., 1., 1., 1., 1., 1., 1.]], grad_fn=<SumBackward1>)"
      ]
     },
     "execution_count": 19,
     "metadata": {},
     "output_type": "execute_result"
    }
   ],
   "source": [
    "weights = nn.functional.softmax(scores, dim=-1)\n",
    "weights.sum(dim=-1)"
   ]
  },
  {
   "cell_type": "markdown",
   "metadata": {},
   "source": [
    "Multiply attention weights by value"
   ]
  },
  {
   "cell_type": "code",
   "execution_count": 21,
   "metadata": {},
   "outputs": [
    {
     "data": {
      "text/plain": [
       "torch.Size([1, 7, 7])"
      ]
     },
     "execution_count": 21,
     "metadata": {},
     "output_type": "execute_result"
    }
   ],
   "source": [
    "weights.size()"
   ]
  },
  {
   "cell_type": "code",
   "execution_count": 22,
   "metadata": {},
   "outputs": [
    {
     "data": {
      "text/plain": [
       "torch.Size([1, 7, 768])"
      ]
     },
     "execution_count": 22,
     "metadata": {},
     "output_type": "execute_result"
    }
   ],
   "source": [
    "attn_outputs = bmm(weights, value)\n",
    "attn_outputs.shape"
   ]
  },
  {
   "cell_type": "markdown",
   "metadata": {},
   "source": [
    "Simplified scaled dot product attention Function"
   ]
  },
  {
   "cell_type": "code",
   "execution_count": 23,
   "metadata": {},
   "outputs": [],
   "source": [
    "def scaled_dot_prod_attn(query, key, value):\n",
    "\n",
    "    dim_k = query.size(-1)\n",
    "    scores = bmm(query, key.transpose(1,2))/sqrt(dim_k)\n",
    "    weights = nn.functional.softmax(scores, dim=-1)\n",
    "    attn_outputs = bmm(weights, value)\n",
    "    return attn_outputs"
   ]
  }
 ],
 "metadata": {
  "kernelspec": {
   "display_name": "transformers",
   "language": "python",
   "name": "python3"
  },
  "language_info": {
   "codemirror_mode": {
    "name": "ipython",
    "version": 3
   },
   "file_extension": ".py",
   "mimetype": "text/x-python",
   "name": "python",
   "nbconvert_exporter": "python",
   "pygments_lexer": "ipython3",
   "version": "3.10.8"
  },
  "orig_nbformat": 4,
  "vscode": {
   "interpreter": {
    "hash": "dddab157190c3c29c7bfa9724dd2612e80e7d4a281bb7f76e54f36d2e23abd8a"
   }
  }
 },
 "nbformat": 4,
 "nbformat_minor": 2
}
