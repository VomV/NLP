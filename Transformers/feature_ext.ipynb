{
 "cells": [
  {
   "cell_type": "markdown",
   "metadata": {},
   "source": [
    "Transfomer model as a freature extractor"
   ]
  },
  {
   "attachments": {},
   "cell_type": "markdown",
   "metadata": {},
   "source": [
    "- Extract output of hidden states and use as features for a classification model"
   ]
  },
  {
   "cell_type": "code",
   "execution_count": 41,
   "metadata": {},
   "outputs": [],
   "source": [
    "import numpy as np\n",
    "import pandas as pd\n",
    "import matplotlib.pyplot as plt\n",
    "\n",
    "import torch\n",
    "from transformers import AutoTokenizer, AutoModel\n",
    "from datasets import load_dataset"
   ]
  },
  {
   "cell_type": "code",
   "execution_count": 2,
   "metadata": {},
   "outputs": [],
   "source": [
    "model_ckpt = 'distilbert-base-uncased'\n",
    "tokenizer = AutoTokenizer.from_pretrained(model_ckpt)"
   ]
  },
  {
   "cell_type": "markdown",
   "metadata": {},
   "source": [
    "Tokenization"
   ]
  },
  {
   "cell_type": "code",
   "execution_count": 3,
   "metadata": {},
   "outputs": [],
   "source": [
    "text = 'Tokenization is an important task in NLP'\n",
    "\n",
    "encoded_text = tokenizer(text)"
   ]
  },
  {
   "cell_type": "code",
   "execution_count": 4,
   "metadata": {},
   "outputs": [
    {
     "data": {
      "text/plain": [
       "{'input_ids': [101, 19204, 3989, 2003, 2019, 2590, 4708, 1999, 17953, 2361, 102], 'attention_mask': [1, 1, 1, 1, 1, 1, 1, 1, 1, 1, 1]}"
      ]
     },
     "execution_count": 4,
     "metadata": {},
     "output_type": "execute_result"
    }
   ],
   "source": [
    "encoded_text"
   ]
  },
  {
   "cell_type": "code",
   "execution_count": 5,
   "metadata": {},
   "outputs": [
    {
     "data": {
      "text/plain": [
       "['[CLS]',\n",
       " 'token',\n",
       " '##ization',\n",
       " 'is',\n",
       " 'an',\n",
       " 'important',\n",
       " 'task',\n",
       " 'in',\n",
       " 'nl',\n",
       " '##p',\n",
       " '[SEP]']"
      ]
     },
     "execution_count": 5,
     "metadata": {},
     "output_type": "execute_result"
    }
   ],
   "source": [
    "tokens = tokenizer.convert_ids_to_tokens(encoded_text.input_ids)\n",
    "tokens"
   ]
  },
  {
   "cell_type": "code",
   "execution_count": 6,
   "metadata": {},
   "outputs": [
    {
     "data": {
      "text/plain": [
       "'[CLS] tokenization is an important task in nlp [SEP]'"
      ]
     },
     "execution_count": 6,
     "metadata": {},
     "output_type": "execute_result"
    }
   ],
   "source": [
    "tokenizer.convert_tokens_to_string(tokens)"
   ]
  },
  {
   "cell_type": "code",
   "execution_count": 7,
   "metadata": {},
   "outputs": [
    {
     "data": {
      "text/plain": [
       "30522"
      ]
     },
     "execution_count": 7,
     "metadata": {},
     "output_type": "execute_result"
    }
   ],
   "source": [
    "tokenizer.vocab_size"
   ]
  },
  {
   "cell_type": "code",
   "execution_count": 8,
   "metadata": {},
   "outputs": [
    {
     "data": {
      "text/plain": [
       "512"
      ]
     },
     "execution_count": 8,
     "metadata": {},
     "output_type": "execute_result"
    }
   ],
   "source": [
    "tokenizer.model_max_length"
   ]
  },
  {
   "cell_type": "code",
   "execution_count": 9,
   "metadata": {},
   "outputs": [
    {
     "data": {
      "text/plain": [
       "['input_ids', 'attention_mask']"
      ]
     },
     "execution_count": 9,
     "metadata": {},
     "output_type": "execute_result"
    }
   ],
   "source": [
    "tokenizer.model_input_names"
   ]
  },
  {
   "cell_type": "markdown",
   "metadata": {},
   "source": [
    "Load emotions dataset"
   ]
  },
  {
   "cell_type": "code",
   "execution_count": 10,
   "metadata": {},
   "outputs": [
    {
     "name": "stderr",
     "output_type": "stream",
     "text": [
      "Using custom data configuration SetFit--emotion-e444b7640ce3116e\n",
      "Found cached dataset json (/home/vivek/.cache/huggingface/datasets/SetFit___json/SetFit--emotion-e444b7640ce3116e/0.0.0/0f7e3662623656454fcd2b650f34e886a7db4b9104504885bd462096cc7a9f51)\n"
     ]
    },
    {
     "data": {
      "application/vnd.jupyter.widget-view+json": {
       "model_id": "c688f996ed9c447391d21d5b226181ba",
       "version_major": 2,
       "version_minor": 0
      },
      "text/plain": [
       "  0%|          | 0/3 [00:00<?, ?it/s]"
      ]
     },
     "metadata": {},
     "output_type": "display_data"
    }
   ],
   "source": [
    "emotions = load_dataset('SetFit/emotion')"
   ]
  },
  {
   "cell_type": "code",
   "execution_count": 12,
   "metadata": {},
   "outputs": [
    {
     "data": {
      "text/plain": [
       "DatasetDict({\n",
       "    train: Dataset({\n",
       "        features: ['text', 'label', 'label_text'],\n",
       "        num_rows: 16000\n",
       "    })\n",
       "    test: Dataset({\n",
       "        features: ['text', 'label', 'label_text'],\n",
       "        num_rows: 2000\n",
       "    })\n",
       "    validation: Dataset({\n",
       "        features: ['text', 'label', 'label_text'],\n",
       "        num_rows: 2000\n",
       "    })\n",
       "})"
      ]
     },
     "execution_count": 12,
     "metadata": {},
     "output_type": "execute_result"
    }
   ],
   "source": [
    "(emotions)"
   ]
  },
  {
   "cell_type": "code",
   "execution_count": 14,
   "metadata": {},
   "outputs": [],
   "source": [
    "train_ds = emotions['train']"
   ]
  },
  {
   "cell_type": "code",
   "execution_count": 16,
   "metadata": {},
   "outputs": [
    {
     "data": {
      "text/plain": [
       "['text', 'label', 'label_text']"
      ]
     },
     "execution_count": 16,
     "metadata": {},
     "output_type": "execute_result"
    }
   ],
   "source": [
    "train_ds.column_names"
   ]
  },
  {
   "cell_type": "code",
   "execution_count": 17,
   "metadata": {},
   "outputs": [
    {
     "data": {
      "text/plain": [
       "{'text': 'i didnt feel humiliated', 'label': 0, 'label_text': 'sadness'}"
      ]
     },
     "execution_count": 17,
     "metadata": {},
     "output_type": "execute_result"
    }
   ],
   "source": [
    "train_ds[0]"
   ]
  },
  {
   "cell_type": "code",
   "execution_count": 19,
   "metadata": {},
   "outputs": [
    {
     "data": {
      "text/plain": [
       "{'text': Value(dtype='string', id=None),\n",
       " 'label': Value(dtype='int64', id=None),\n",
       " 'label_text': Value(dtype='string', id=None)}"
      ]
     },
     "execution_count": 19,
     "metadata": {},
     "output_type": "execute_result"
    }
   ],
   "source": [
    "train_ds.features"
   ]
  },
  {
   "cell_type": "code",
   "execution_count": 21,
   "metadata": {},
   "outputs": [],
   "source": [
    "emotions.set_format(type='pandas')"
   ]
  },
  {
   "cell_type": "code",
   "execution_count": 23,
   "metadata": {},
   "outputs": [
    {
     "data": {
      "text/html": [
       "<div>\n",
       "<style scoped>\n",
       "    .dataframe tbody tr th:only-of-type {\n",
       "        vertical-align: middle;\n",
       "    }\n",
       "\n",
       "    .dataframe tbody tr th {\n",
       "        vertical-align: top;\n",
       "    }\n",
       "\n",
       "    .dataframe thead th {\n",
       "        text-align: right;\n",
       "    }\n",
       "</style>\n",
       "<table border=\"1\" class=\"dataframe\">\n",
       "  <thead>\n",
       "    <tr style=\"text-align: right;\">\n",
       "      <th></th>\n",
       "      <th>text</th>\n",
       "      <th>label</th>\n",
       "      <th>label_text</th>\n",
       "    </tr>\n",
       "  </thead>\n",
       "  <tbody>\n",
       "    <tr>\n",
       "      <th>0</th>\n",
       "      <td>i didnt feel humiliated</td>\n",
       "      <td>0</td>\n",
       "      <td>sadness</td>\n",
       "    </tr>\n",
       "    <tr>\n",
       "      <th>1</th>\n",
       "      <td>i can go from feeling so hopeless to so damned...</td>\n",
       "      <td>0</td>\n",
       "      <td>sadness</td>\n",
       "    </tr>\n",
       "    <tr>\n",
       "      <th>2</th>\n",
       "      <td>im grabbing a minute to post i feel greedy wrong</td>\n",
       "      <td>3</td>\n",
       "      <td>anger</td>\n",
       "    </tr>\n",
       "    <tr>\n",
       "      <th>3</th>\n",
       "      <td>i am ever feeling nostalgic about the fireplac...</td>\n",
       "      <td>2</td>\n",
       "      <td>love</td>\n",
       "    </tr>\n",
       "    <tr>\n",
       "      <th>4</th>\n",
       "      <td>i am feeling grouchy</td>\n",
       "      <td>3</td>\n",
       "      <td>anger</td>\n",
       "    </tr>\n",
       "  </tbody>\n",
       "</table>\n",
       "</div>"
      ],
      "text/plain": [
       "                                                text  label label_text\n",
       "0                            i didnt feel humiliated      0    sadness\n",
       "1  i can go from feeling so hopeless to so damned...      0    sadness\n",
       "2   im grabbing a minute to post i feel greedy wrong      3      anger\n",
       "3  i am ever feeling nostalgic about the fireplac...      2       love\n",
       "4                               i am feeling grouchy      3      anger"
      ]
     },
     "execution_count": 23,
     "metadata": {},
     "output_type": "execute_result"
    }
   ],
   "source": [
    "df = emotions['train'][:]\n",
    "df.head()"
   ]
  },
  {
   "cell_type": "code",
   "execution_count": 28,
   "metadata": {},
   "outputs": [
    {
     "data": {
      "image/png": "[encoded data removed]",
      "text/plain": [
       "<Figure size 640x480 with 1 Axes>"
      ]
     },
     "metadata": {},
     "output_type": "display_data"
    }
   ],
   "source": [
    "df['label_text'].value_counts().plot.barh()\n",
    "plt.title('Freq of classes')\n",
    "plt.show()"
   ]
  },
  {
   "cell_type": "markdown",
   "metadata": {},
   "source": [
    "Length of tweets"
   ]
  },
  {
   "cell_type": "code",
   "execution_count": 31,
   "metadata": {},
   "outputs": [
    {
     "data": {
      "image/png": "[encoded data removed]",
      "text/plain": [
       "<Figure size 640x480 with 1 Axes>"
      ]
     },
     "metadata": {},
     "output_type": "display_data"
    }
   ],
   "source": [
    "df['words_per_tweet'] = df['text'].str.split().apply(len)\n",
    "df.boxplot('words_per_tweet', by='label_text', grid=False, showfliers=False)\n",
    "plt.show()"
   ]
  },
  {
   "cell_type": "code",
   "execution_count": 32,
   "metadata": {},
   "outputs": [],
   "source": [
    "emotions.reset_format()"
   ]
  },
  {
   "cell_type": "markdown",
   "metadata": {},
   "source": [
    "Tokenizer function"
   ]
  },
  {
   "cell_type": "code",
   "execution_count": 52,
   "metadata": {},
   "outputs": [],
   "source": [
    "def tokenize(batch):\n",
    "    return tokenizer(batch['text'], padding=True, truncation=False)"
   ]
  },
  {
   "cell_type": "code",
   "execution_count": 39,
   "metadata": {},
   "outputs": [
    {
     "data": {
      "text/plain": [
       "['[UNK]', '[SEP]', '[PAD]', '[CLS]', '[MASK]']"
      ]
     },
     "execution_count": 39,
     "metadata": {},
     "output_type": "execute_result"
    }
   ],
   "source": [
    "tokenizer.all_special_tokens"
   ]
  },
  {
   "cell_type": "code",
   "execution_count": 36,
   "metadata": {},
   "outputs": [
    {
     "data": {
      "text/plain": [
       "[100, 102, 0, 101, 103]"
      ]
     },
     "execution_count": 36,
     "metadata": {},
     "output_type": "execute_result"
    }
   ],
   "source": [
    "tokenizer.convert_tokens_to_ids(tokenizer.all_special_tokens)"
   ]
  },
  {
   "cell_type": "markdown",
   "metadata": {},
   "source": [
    "Load pretrained Model"
   ]
  },
  {
   "cell_type": "code",
   "execution_count": 42,
   "metadata": {},
   "outputs": [
    {
     "data": {
      "application/vnd.jupyter.widget-view+json": {
       "model_id": "2fa8289e0e6d4ad7b85fd08a4b85d252",
       "version_major": 2,
       "version_minor": 0
      },
      "text/plain": [
       "Downloading:   0%|          | 0.00/268M [00:00<?, ?B/s]"
      ]
     },
     "metadata": {},
     "output_type": "display_data"
    },
    {
     "name": "stderr",
     "output_type": "stream",
     "text": [
      "Some weights of the model checkpoint at distilbert-base-uncased were not used when initializing DistilBertModel: ['vocab_projector.weight', 'vocab_projector.bias', 'vocab_transform.weight', 'vocab_transform.bias', 'vocab_layer_norm.weight', 'vocab_layer_norm.bias']\n",
      "- This IS expected if you are initializing DistilBertModel from the checkpoint of a model trained on another task or with another architecture (e.g. initializing a BertForSequenceClassification model from a BertForPreTraining model).\n",
      "- This IS NOT expected if you are initializing DistilBertModel from the checkpoint of a model that you expect to be exactly identical (initializing a BertForSequenceClassification model from a BertForSequenceClassification model).\n"
     ]
    }
   ],
   "source": [
    "device = torch.device('cuda' if torch.cuda.is_available() else 'cpu')\n",
    "\n",
    "model = AutoModel.from_pretrained(model_ckpt).to(device)"
   ]
  },
  {
   "cell_type": "markdown",
   "metadata": {},
   "source": [
    "Get the last hidden states"
   ]
  },
  {
   "cell_type": "code",
   "execution_count": 43,
   "metadata": {},
   "outputs": [
    {
     "name": "stdout",
     "output_type": "stream",
     "text": [
      "torch.Size([1, 6])\n"
     ]
    }
   ],
   "source": [
    "text = 'this is a test'\n",
    "inputs = tokenizer(text, return_tensors='pt')\n",
    "print(inputs['input_ids'].size())"
   ]
  },
  {
   "cell_type": "code",
   "execution_count": 44,
   "metadata": {},
   "outputs": [
    {
     "data": {
      "text/plain": [
       "{'input_ids': tensor([[ 101, 2023, 2003, 1037, 3231,  102]]), 'attention_mask': tensor([[1, 1, 1, 1, 1, 1]])}"
      ]
     },
     "execution_count": 44,
     "metadata": {},
     "output_type": "execute_result"
    }
   ],
   "source": [
    "inputs"
   ]
  },
  {
   "cell_type": "code",
   "execution_count": 45,
   "metadata": {},
   "outputs": [
    {
     "name": "stdout",
     "output_type": "stream",
     "text": [
      "BaseModelOutput(last_hidden_state=tensor([[[-0.1565, -0.1862,  0.0528,  ..., -0.1188,  0.0662,  0.5470],\n",
      "         [-0.3575, -0.6484, -0.0618,  ..., -0.3040,  0.3508,  0.5221],\n",
      "         [-0.2772, -0.4459,  0.1818,  ..., -0.0948, -0.0076,  0.9958],\n",
      "         [-0.2841, -0.3917,  0.3753,  ..., -0.2151, -0.1173,  1.0526],\n",
      "         [ 0.2661, -0.5094, -0.3180,  ..., -0.4203,  0.0144, -0.2149],\n",
      "         [ 0.9441,  0.0112, -0.4714,  ...,  0.1439, -0.7288, -0.1619]]]), hidden_states=None, attentions=None)\n"
     ]
    }
   ],
   "source": [
    "inputs = {k:v.to(device) for k, v in inputs.items()}\n",
    "\n",
    "with torch.no_grad():\n",
    "    outputs = model(**inputs)\n",
    "\n",
    "print(outputs)"
   ]
  },
  {
   "cell_type": "code",
   "execution_count": 46,
   "metadata": {},
   "outputs": [
    {
     "data": {
      "text/plain": [
       "torch.Size([1, 6, 768])"
      ]
     },
     "execution_count": 46,
     "metadata": {},
     "output_type": "execute_result"
    }
   ],
   "source": [
    "outputs.last_hidden_state.size()"
   ]
  },
  {
   "cell_type": "markdown",
   "metadata": {},
   "source": [
    "CLS token embeddings are used as the sentence embeddings in BERT"
   ]
  },
  {
   "cell_type": "code",
   "execution_count": 47,
   "metadata": {},
   "outputs": [
    {
     "data": {
      "text/plain": [
       "tensor([[-1.5651e-01, -1.8620e-01,  5.2777e-02, -1.0634e-01, -1.3163e-02,\n",
       "         -2.6944e-01,  9.2270e-02,  1.5865e-01, -9.8674e-02, -2.9572e-01,\n",
       "         -1.3788e-01, -3.8061e-02, -5.3617e-02,  1.3045e-01,  3.9713e-02,\n",
       "          8.6893e-02,  2.5087e-02,  8.6177e-03,  2.5243e-01, -1.3678e-01,\n",
       "         -1.2137e-01, -1.3896e-01, -1.3426e-01, -9.0844e-02,  3.0509e-02,\n",
       "         -3.8620e-02,  1.1485e-01, -5.7997e-02,  1.0131e-01,  9.7920e-02,\n",
       "          3.8740e-03,  1.1950e-01, -6.6339e-02, -2.1257e-02,  1.3090e-01,\n",
       "          2.6520e-02,  2.3624e-01,  5.0220e-02,  1.3503e-02, -2.1379e-02,\n",
       "         -8.8323e-02, -9.8360e-02,  2.2675e-01, -2.4940e-02, -1.6261e-01,\n",
       "         -8.3787e-02, -1.9629e+00, -1.4541e-01, -1.5582e-01, -3.5487e-01,\n",
       "         -4.5972e-02,  2.0034e-01,  1.3080e-02,  4.9650e-01,  1.0587e-01,\n",
       "          1.2080e-01, -1.9118e-01,  3.8280e-01,  1.7121e-02, -1.6628e-02,\n",
       "          2.1525e-01,  4.4381e-02,  3.9334e-03,  3.5416e-02,  1.2238e-01,\n",
       "          2.1459e-01,  1.5014e-02,  2.3729e-02, -2.0037e-01,  2.9482e-01,\n",
       "         -4.0111e-01, -1.5827e-01, -1.8380e-03,  9.3304e-02, -3.3879e-02,\n",
       "         -1.5265e-01, -1.5222e-02,  4.1115e-02, -9.3805e-02,  7.3234e-02,\n",
       "         -2.6978e-02,  2.3517e-01,  1.9567e-01, -9.4397e-02,  1.5616e-01,\n",
       "          8.4622e-02, -9.8347e-02,  1.0431e-02,  2.0574e-02,  5.4993e-01,\n",
       "         -4.9990e-02,  1.1182e-01, -5.6723e-02,  1.0938e-01,  2.4215e-01,\n",
       "         -3.1020e-01,  9.0788e-02, -1.3782e-01,  3.6213e-01,  2.0996e-01,\n",
       "         -4.6878e-02, -4.4244e-01,  1.0990e-01, -2.8309e-01,  1.1767e-01,\n",
       "         -2.1761e-01, -3.6113e-02,  1.4839e-02, -8.4058e-02, -2.6364e+00,\n",
       "          1.8471e-01,  2.3530e-01, -7.0574e-03, -3.1433e-01, -1.7030e-01,\n",
       "          3.7370e-01,  1.5747e-01,  6.3197e-02,  1.6010e-01,  7.4900e-02,\n",
       "         -3.0234e-01,  6.0412e-01, -1.0714e-03,  1.2461e-02,  1.3152e-03,\n",
       "          3.2261e-01,  1.5119e-01,  1.8443e-01, -1.8307e-03,  5.5242e-02,\n",
       "          1.7249e-01,  3.6644e-01,  2.7258e-01, -1.2720e-02, -3.0868e-01,\n",
       "         -1.1246e-02, -1.0711e-01, -9.7186e-02, -3.2671e-01,  4.6447e-02,\n",
       "         -1.5892e-01, -3.5323e-02, -2.9621e+00,  2.8953e-01,  3.5626e-01,\n",
       "         -2.3008e-02, -2.3858e-01, -2.5866e-01,  1.0932e-01,  2.4408e-01,\n",
       "          3.1092e-02,  3.7053e-01, -2.8538e-01,  1.4399e-01, -2.2006e-01,\n",
       "         -5.5742e-02, -1.0406e-01, -3.4235e-03, -1.1406e-01,  9.1626e-02,\n",
       "          1.7379e-01, -4.3961e-02, -6.4088e-02, -1.4091e-01,  3.6501e-03,\n",
       "         -5.6572e-06,  3.1501e-01,  2.0613e-01,  1.1981e-01,  1.3492e-01,\n",
       "         -1.6633e-01, -2.4867e-01,  1.0433e-01,  1.8241e-01,  4.4173e-02,\n",
       "         -1.4588e-01, -4.6315e-02,  7.3482e-02,  2.1279e-01, -7.2770e-02,\n",
       "         -5.0733e-02,  3.8702e-01,  6.8766e-02,  8.3792e-02,  7.6695e-02,\n",
       "         -8.9175e-02,  3.3622e-01, -2.0837e-01, -9.8360e-03,  2.2285e-01,\n",
       "         -2.0923e-02, -6.2299e-02,  1.1379e-01, -1.5366e-01,  3.2090e-01,\n",
       "          9.9541e-02, -7.0105e-02, -3.5678e-01,  2.7038e-02,  1.2385e-01,\n",
       "         -1.0881e-01, -1.2656e-02,  2.4675e-02,  1.6726e-02, -5.3599e-03,\n",
       "          3.7047e+00,  1.2551e-01, -1.0918e-01,  1.5630e-01,  7.8901e-02,\n",
       "         -5.0735e-02,  2.7044e-01, -1.0225e-01, -2.6742e-01,  2.8723e-01,\n",
       "         -1.8979e-02,  4.7504e-02,  1.2539e-01,  3.6513e-01, -1.0606e-01,\n",
       "          3.5053e-01,  7.4947e-02, -9.5732e-03,  2.4868e-01, -1.3699e-01,\n",
       "          2.4959e-01,  2.0488e-01,  1.8659e-01,  3.2846e-01, -1.1878e+00,\n",
       "         -3.7712e-02, -7.9879e-02,  9.1056e-02,  3.3921e-01, -4.8910e-02,\n",
       "          9.2458e-02,  1.4222e-01,  9.7540e-03,  1.4207e-01,  4.2358e-03,\n",
       "         -4.3188e-02,  4.0460e-01,  5.8708e-02,  1.8671e-01, -2.0797e-01,\n",
       "          6.5574e-02,  3.6067e-02,  7.8454e-03,  6.9947e-02, -1.3707e-01,\n",
       "          3.5834e-02, -1.1707e-01, -7.8782e-02, -2.1260e-01, -8.8604e-02,\n",
       "         -1.0814e-01,  2.1254e-02,  1.7152e-02, -1.4529e-01,  2.4625e-01,\n",
       "         -3.4444e-01, -1.4841e-01,  8.2909e-02,  8.1740e-02, -2.0670e-01,\n",
       "         -1.9392e-01, -1.6727e-01,  9.3487e-03,  1.4353e-01,  1.1203e-01,\n",
       "         -6.9647e-02, -3.6914e-01, -3.0734e-01, -4.2905e+00, -3.3393e-02,\n",
       "         -5.1839e-02,  1.2614e-01,  4.3501e-01, -2.3111e-01,  2.6115e-01,\n",
       "          2.0627e-01,  2.3393e-01, -2.1275e-01,  3.5095e-01,  1.0836e-01,\n",
       "         -3.6565e-02,  1.5057e-01, -3.9018e-01,  1.9519e-01, -8.2639e-02,\n",
       "         -2.1418e-01,  1.6668e-01, -1.0179e-01, -1.4971e-01,  3.9128e-01,\n",
       "         -5.3718e-02,  4.6324e-03, -7.8120e-02, -2.8365e-02, -2.5313e-01,\n",
       "         -1.4142e-01, -2.6593e-02, -1.4239e-01, -1.9666e-02, -1.5155e-01,\n",
       "          3.3605e-02, -1.0159e-01, -2.2451e-01, -2.2571e+00, -6.7969e-02,\n",
       "         -4.9527e-03, -7.3574e-02, -2.1257e-02, -7.4546e-02,  1.9995e-01,\n",
       "         -7.2971e-02, -2.4054e-01,  6.6775e-02, -6.2396e-02, -8.0597e-02,\n",
       "         -2.1546e-01,  2.3629e-01,  3.7188e-01,  1.0614e-01,  1.0466e-01,\n",
       "          5.2806e-02,  2.7806e-01,  2.6389e-01, -9.2675e-02,  1.2512e-03,\n",
       "         -1.8138e-01, -1.7456e-01, -9.2995e-02,  2.2775e-01, -3.5318e-01,\n",
       "          1.4916e-02, -1.9578e-01, -1.4104e-01, -3.4189e-02, -2.1647e-01,\n",
       "          9.0412e-02, -2.4572e-01, -2.0130e-01, -1.1021e-01, -1.1684e-02,\n",
       "          1.3721e-01,  3.8952e-01, -4.8868e-03, -2.7053e-01,  6.3409e-01,\n",
       "          2.0200e-01,  1.4872e-01,  4.6491e-02,  1.0627e-01,  1.0722e-01,\n",
       "         -1.5361e-01, -8.6869e-02,  1.3369e-01, -1.9713e-01,  1.4038e-01,\n",
       "          1.0315e+00, -1.8685e-01,  2.6050e-02, -1.9660e-01,  2.5778e-01,\n",
       "          6.6920e-04,  2.0069e-01,  2.2755e-01,  3.4278e-01, -1.5576e-01,\n",
       "          2.5018e-01, -1.3893e-01, -1.1818e-01, -2.0792e-01,  1.0386e-01,\n",
       "         -3.4501e-01,  1.2341e-01, -8.8423e-02, -3.1816e-02,  1.4676e-01,\n",
       "         -4.9019e-02, -7.0515e-01, -2.7459e-01, -1.4947e-01, -1.4107e-01,\n",
       "          1.6374e-02,  1.1298e-01, -2.6083e-02, -2.5627e-01, -6.1420e-02,\n",
       "         -8.4723e-02,  2.4876e-01,  3.6116e-02, -9.2766e-03, -5.1815e-02,\n",
       "          1.5590e-01, -3.5690e-01,  3.1941e-02,  1.9765e-02,  3.4598e-01,\n",
       "          1.5537e-01,  1.6095e-01,  6.0067e-02, -5.3750e-02,  2.3331e-01,\n",
       "         -7.6175e-01,  1.7123e-01, -2.6502e-01, -2.8683e-02, -3.0222e-01,\n",
       "         -1.8018e-01,  5.2008e-02, -1.6631e-01, -2.8973e-02, -2.5747e-01,\n",
       "          3.8651e-01,  1.4533e-01,  2.5944e-01,  1.5810e-01,  1.9289e-01,\n",
       "         -4.0768e-02,  2.2158e-02,  7.2775e-01,  2.6297e-01, -2.0689e-01,\n",
       "          1.4973e-01,  1.8735e-01, -9.3557e-03,  1.6338e-01,  1.4581e-01,\n",
       "         -6.7698e-02, -1.4764e-01, -1.8688e-01,  3.8130e-03,  7.2977e-02,\n",
       "         -1.5512e-01, -2.1037e-01,  1.3483e-02, -7.3083e-03,  2.6190e-01,\n",
       "         -2.0857e-01, -4.5253e-01, -7.3822e-03, -8.4465e-02, -6.0731e-02,\n",
       "          5.3026e-01,  3.2526e-01,  2.2850e-02,  4.4467e-01,  3.0729e-01,\n",
       "         -1.1506e-01,  2.0496e-01, -6.3092e-02,  2.0245e-01,  6.3865e-02,\n",
       "         -3.8061e-02, -2.7048e-02,  2.4994e-01,  2.1293e-01, -2.7288e-01,\n",
       "          1.5356e-01, -1.4777e-01,  5.5620e-02, -1.9133e-02,  6.5599e-02,\n",
       "         -6.8874e-02,  7.6136e-02, -5.0778e-02,  2.4944e-02,  2.3064e-01,\n",
       "         -1.2261e+00, -1.1638e-02,  2.4535e-01,  8.6997e-02, -8.5431e-02,\n",
       "          3.5067e-02, -7.7357e-02,  4.2437e-01, -5.9187e-02, -1.0323e-01,\n",
       "          1.9593e-02,  6.7797e-02,  2.8566e-02, -2.2126e-03,  8.8576e-02,\n",
       "         -4.6088e-05,  1.9113e-01, -5.6278e-02,  1.1429e-01,  3.1475e-02,\n",
       "         -7.7407e-02,  2.7163e-01,  7.2701e-02, -1.8206e-01, -1.3057e-01,\n",
       "         -5.0383e-04, -1.2133e-01,  2.4968e-01,  1.4598e-01,  5.7920e-03,\n",
       "          1.1630e-01, -2.1038e-01, -4.6718e-01, -6.3134e-02,  4.4540e-02,\n",
       "         -1.2124e-02,  3.7044e-02,  8.5191e-03,  2.3012e-01,  2.3267e-01,\n",
       "         -3.6708e-01,  1.6562e-01,  7.5768e-02, -7.7925e-03,  1.5169e-01,\n",
       "          2.1295e-01, -2.6640e-01,  4.0504e-02, -1.1386e-01, -2.2846e-01,\n",
       "         -1.0333e-01, -3.1094e-01, -2.1480e-01, -9.4105e-02,  8.6468e-02,\n",
       "         -4.3994e-02,  1.0231e-01, -8.4006e-02, -1.3090e-01, -1.1508e-01,\n",
       "          3.1943e-01, -1.5337e-01,  4.1817e-02,  1.7515e-01, -2.0936e-01,\n",
       "         -8.1671e-01,  4.9621e-03, -1.8986e-02, -1.1714e-01,  8.7780e-02,\n",
       "          1.4961e-01, -1.0966e-01, -1.0551e-01, -2.4824e-01, -3.6894e-01,\n",
       "          1.8742e-01, -1.4542e-01, -1.5908e-01,  6.7222e-02, -1.0230e-01,\n",
       "         -7.6807e-03, -2.1918e-01, -1.2886e-01,  7.5978e-02,  1.6376e-01,\n",
       "          6.0811e-02, -4.8051e-02,  3.0756e-02, -1.6962e-02,  1.2096e-01,\n",
       "         -2.3621e-01, -3.6741e-03,  3.4942e-01,  1.9410e-01,  3.1646e-01,\n",
       "         -1.4669e-01,  1.4105e-01,  3.1208e-02,  7.8916e-02, -1.9225e-01,\n",
       "         -7.7252e-02,  2.2214e-01,  1.0166e-03,  1.8466e-01,  7.1833e-02,\n",
       "          2.6436e-01,  2.6826e-01,  1.3592e-01, -2.1796e-01, -1.6706e-01,\n",
       "          1.3375e-02,  2.1478e-01,  1.3276e-01, -9.8466e-02,  1.1731e-01,\n",
       "          6.8677e-02,  9.0567e-02,  8.6923e-02,  2.2121e+00,  2.3419e-01,\n",
       "          4.6251e-02,  8.4623e-02,  1.0094e-01,  2.7246e-01,  6.3896e-02,\n",
       "          1.6722e-01, -1.5285e-02,  1.6185e-01, -1.7157e-01,  1.4788e-03,\n",
       "         -1.9085e-01,  7.5900e-02,  1.1011e-01,  1.2817e-01,  2.7895e-03,\n",
       "          9.5902e-03, -3.6877e-01, -1.1836e-01, -2.7871e-01,  3.6822e-01,\n",
       "          2.2210e-01,  1.1480e-01, -6.7033e-02,  1.9150e-01,  2.2473e-01,\n",
       "         -3.3394e-02, -1.5635e-02, -1.4756e-01,  1.3489e-02,  2.4369e-01,\n",
       "          2.1564e-02,  1.7517e-01, -2.1630e-01, -1.4090e-01,  1.0052e-01,\n",
       "         -3.9014e-01, -6.2829e-02,  5.5798e-02, -3.3514e-02, -3.7368e-01,\n",
       "          3.9487e-01, -1.8948e-01, -1.2572e-01,  3.5203e-01, -1.8874e-02,\n",
       "         -1.5679e-01,  9.3130e-03,  5.3982e-02,  2.0326e-01,  6.7830e-02,\n",
       "         -1.5459e-02,  2.0734e-01, -1.9603e-01, -9.6626e-02,  1.4166e-01,\n",
       "         -2.1276e-02,  5.1488e-02,  1.4469e-01,  1.2547e-03,  1.3108e-01,\n",
       "          1.6095e-01,  1.0592e-01,  5.9294e-02,  4.5837e-02, -1.4150e-01,\n",
       "          1.7824e-01, -2.5738e-01,  1.7106e-01, -1.3729e-02,  9.6227e-02,\n",
       "          1.3197e-01,  2.0739e-01,  2.0907e-01,  3.9640e-02,  3.6874e-01,\n",
       "          1.4475e-01, -8.9563e-02, -2.8406e+00,  2.4573e-01,  1.1533e-01,\n",
       "          2.2787e-01,  5.0309e-02,  2.6345e-01,  1.4782e-01, -2.5631e-02,\n",
       "          2.7831e-02, -6.0150e-02,  1.1571e-01,  2.0700e-01,  2.9178e-01,\n",
       "          5.7775e-02,  2.4075e-01,  1.2063e-01,  8.9519e-02, -1.3806e-01,\n",
       "          8.7437e-02, -8.6128e-02, -3.0587e-01,  1.5690e-01,  1.3057e-01,\n",
       "         -5.8690e-02, -3.5917e-01, -1.2032e-01, -1.0781e-01,  1.1956e-02,\n",
       "          1.3001e-01, -1.7064e-02, -1.3228e-01,  1.9140e-01, -9.4830e-02,\n",
       "          1.3868e-01,  2.3152e-02, -6.3546e-02,  6.9855e-02, -2.3555e-01,\n",
       "          1.5287e-01,  3.8401e-01, -2.2820e-01,  3.4190e-01, -1.7743e-01,\n",
       "          1.7165e-01, -2.3440e-01, -4.6387e-02,  3.1171e-01, -1.3030e-01,\n",
       "          4.7630e-01, -3.2373e-01, -1.4525e-01,  2.8751e-01,  4.5793e-02,\n",
       "          4.5620e-02,  1.2612e-01, -1.0442e-01,  1.0685e-01, -5.9045e-02,\n",
       "         -8.4782e-02, -1.0655e-01, -3.3320e-02, -2.2047e-01, -9.3185e-02,\n",
       "         -1.2764e-01,  2.1311e-01,  1.1293e-05, -6.1856e-02,  1.6222e-01,\n",
       "         -1.7051e-01, -5.3583e-02, -1.0879e-01,  5.1160e-02,  1.1301e-01,\n",
       "          1.6816e-01,  2.4800e-01, -2.6011e-02,  1.6227e-01,  3.3406e-01,\n",
       "          5.3424e-02,  1.6370e-01,  3.5643e-02, -3.6388e-01,  6.7641e-02,\n",
       "          8.7485e-04,  3.0330e-01, -8.1191e+00, -1.5168e-01, -2.4637e-01,\n",
       "         -1.9527e-01, -7.7874e-03, -1.3964e-01,  7.6316e-02, -1.0792e-01,\n",
       "          1.1892e-01, -2.0612e-01, -7.3254e-02,  1.6354e-01, -7.9680e-02,\n",
       "         -1.1881e-01,  6.6206e-02,  5.4702e-01]])"
      ]
     },
     "execution_count": 47,
     "metadata": {},
     "output_type": "execute_result"
    }
   ],
   "source": [
    "outputs.last_hidden_state[:, 0]b"
   ]
  },
  {
   "cell_type": "markdown",
   "metadata": {},
   "source": [
    "Function to extract last hidden state for a sentence (CLS token embeddings)"
   ]
  },
  {
   "cell_type": "code",
   "execution_count": 49,
   "metadata": {},
   "outputs": [],
   "source": [
    "def extract_hidden_states(batch):\n",
    "\n",
    "    inputs = {k:v.to(device) for k,v in batch.items() if k in tokenizer.model_input_names}\n",
    "\n",
    "    with torch.no_grad():\n",
    "        last_hidden_state = model(**inputs).last_hidden_state\n",
    "\n",
    "    return {'hidden_state': last_hidden_state[:, 0].cpu().numpy()}"
   ]
  },
  {
   "cell_type": "code",
   "execution_count": 53,
   "metadata": {},
   "outputs": [
    {
     "data": {
      "application/vnd.jupyter.widget-view+json": {
       "model_id": "e59d6078f10a4140bb470d5d08a90521",
       "version_major": 2,
       "version_minor": 0
      },
      "text/plain": [
       "  0%|          | 0/1 [00:00<?, ?ba/s]"
      ]
     },
     "metadata": {},
     "output_type": "display_data"
    },
    {
     "data": {
      "application/vnd.jupyter.widget-view+json": {
       "model_id": "a0c11d59dbf346e1ae14d8d0650dfbbc",
       "version_major": 2,
       "version_minor": 0
      },
      "text/plain": [
       "  0%|          | 0/1 [00:00<?, ?ba/s]"
      ]
     },
     "metadata": {},
     "output_type": "display_data"
    },
    {
     "data": {
      "application/vnd.jupyter.widget-view+json": {
       "model_id": "5cd767c255144bd28581d7b5e8892b56",
       "version_major": 2,
       "version_minor": 0
      },
      "text/plain": [
       "  0%|          | 0/1 [00:00<?, ?ba/s]"
      ]
     },
     "metadata": {},
     "output_type": "display_data"
    }
   ],
   "source": [
    "emotions_encoded = emotions.map(tokenize, batched=True, batch_size=None)"
   ]
  },
  {
   "cell_type": "code",
   "execution_count": 54,
   "metadata": {},
   "outputs": [],
   "source": [
    "emotions_encoded.set_format('torch', columns=['input_ids', 'attention_mask', 'label'])"
   ]
  },
  {
   "cell_type": "code",
   "execution_count": 55,
   "metadata": {},
   "outputs": [
    {
     "data": {
      "application/vnd.jupyter.widget-view+json": {
       "model_id": "a201b51fafa649b1ad0ff153d059d741",
       "version_major": 2,
       "version_minor": 0
      },
      "text/plain": [
       "  0%|          | 0/16 [00:00<?, ?ba/s]"
      ]
     },
     "metadata": {},
     "output_type": "display_data"
    },
    {
     "data": {
      "application/vnd.jupyter.widget-view+json": {
       "model_id": "18503b9c9a9e47969ee563349db2c608",
       "version_major": 2,
       "version_minor": 0
      },
      "text/plain": [
       "  0%|          | 0/2 [00:00<?, ?ba/s]"
      ]
     },
     "metadata": {},
     "output_type": "display_data"
    },
    {
     "data": {
      "application/vnd.jupyter.widget-view+json": {
       "model_id": "15371853346e4c679fae73ab8b7814e6",
       "version_major": 2,
       "version_minor": 0
      },
      "text/plain": [
       "  0%|          | 0/2 [00:00<?, ?ba/s]"
      ]
     },
     "metadata": {},
     "output_type": "display_data"
    }
   ],
   "source": [
    "emotions_hidden = emotions_encoded.map(extract_hidden_states, batched=True) #default batch size of 1000 will be used"
   ]
  },
  {
   "cell_type": "code",
   "execution_count": null,
   "metadata": {},
   "outputs": [],
   "source": []
  }
 ],
 "metadata": {
  "kernelspec": {
   "display_name": "Python 3 (ipykernel)",
   "language": "python",
   "name": "python3"
  },
  "language_info": {
   "codemirror_mode": {
    "name": "ipython",
    "version": 3
   },
   "file_extension": ".py",
   "mimetype": "text/x-python",
   "name": "python",
   "nbconvert_exporter": "python",
   "pygments_lexer": "ipython3",
   "version": "3.10.8 (main, Nov 24 2022, 14:13:03) [GCC 11.2.0]"
  },
  "orig_nbformat": 4,
  "vscode": {
   "interpreter": {
    "hash": "dddab157190c3c29c7bfa9724dd2612e80e7d4a281bb7f76e54f36d2e23abd8a"
   }
  }
 },
 "nbformat": 4,
 "nbformat_minor": 2
}
