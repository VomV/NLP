{
 "cells": [
  {
   "cell_type": "code",
   "execution_count": 1,
   "metadata": {},
   "outputs": [
    {
     "name": "stdout",
     "output_type": "stream",
     "text": [
      "--2023-02-17 23:27:56--  https://raw.githubusercontent.com/karpathy/char-rnn/master/data/tinyshakespeare/input.txt\n",
      "Resolving raw.githubusercontent.com (raw.githubusercontent.com)... 2606:50c0:8003::154, 2606:50c0:8000::154, 2606:50c0:8001::154, ...\n",
      "Connecting to raw.githubusercontent.com (raw.githubusercontent.com)|2606:50c0:8003::154|:443... connected.\n",
      "HTTP request sent, awaiting response... 200 OK\n",
      "Length: 1115394 (1.1M) [text/plain]\n",
      "Saving to: ‘input.txt.3’\n",
      "\n",
      "input.txt.3         100%[===================>]   1.06M  --.-KB/s    in 0.06s   \n",
      "\n",
      "2023-02-17 23:27:56 (17.9 MB/s) - ‘input.txt.3’ saved [1115394/1115394]\n",
      "\n"
     ]
    }
   ],
   "source": [
    "!wget https://raw.githubusercontent.com/karpathy/char-rnn/master/data/tinyshakespeare/input.txt"
   ]
  },
  {
   "cell_type": "code",
   "execution_count": 2,
   "metadata": {},
   "outputs": [
    {
     "data": {
      "text/plain": [
       "<torch._C.Generator at 0x7fb4189801f0>"
      ]
     },
     "execution_count": 2,
     "metadata": {},
     "output_type": "execute_result"
    }
   ],
   "source": [
    "import torch\n",
    "import torch.nn as nn\n",
    "from torch.nn import functional as F\n",
    "torch.manual_seed(42)"
   ]
  },
  {
   "cell_type": "code",
   "execution_count": 3,
   "metadata": {},
   "outputs": [],
   "source": [
    "with open('input.txt', 'r', encoding='utf-8') as f:\n",
    "    text = f.read()"
   ]
  },
  {
   "cell_type": "code",
   "execution_count": 4,
   "metadata": {},
   "outputs": [
    {
     "data": {
      "text/plain": [
       "1115394"
      ]
     },
     "execution_count": 4,
     "metadata": {},
     "output_type": "execute_result"
    }
   ],
   "source": [
    "len(text)"
   ]
  },
  {
   "cell_type": "code",
   "execution_count": 5,
   "metadata": {},
   "outputs": [
    {
     "name": "stdout",
     "output_type": "stream",
     "text": [
      "First Citizen:\n",
      "Before we proceed any further, hear me speak.\n",
      "\n",
      "All:\n",
      "Speak, speak.\n",
      "\n",
      "First Citizen:\n",
      "You are all resolved rather to die than to famish?\n",
      "\n",
      "All:\n",
      "Resolved. resolved.\n",
      "\n",
      "First Citizen:\n",
      "First, you know Caius Marcius is chief enemy to the people.\n",
      "\n",
      "All:\n",
      "We know't, we know't.\n",
      "\n",
      "First Citizen:\n",
      "Let us kill him, and we'll have corn at our own price.\n",
      "Is't a verdict?\n",
      "\n",
      "All:\n",
      "No more talking on't; let it be done: away, away!\n",
      "\n",
      "Second Citizen:\n",
      "One word, good citizens.\n",
      "\n",
      "First Citizen:\n",
      "We are accounted poor citizens, the patricians good.\n",
      "What authority surfeits on would relieve us: if they\n",
      "would yield us but the superfluity, while it were\n",
      "wholesome, we might guess they relieved us humanely;\n",
      "but they think we are too dear: the leanness that\n",
      "afflicts us, the object of our misery, is as an\n",
      "inventory to particularise their abundance; our\n",
      "sufferance is a gain to them Let us revenge this with\n",
      "our pikes, ere we become rakes: for the gods know I\n",
      "speak this in hunger for bread, not in thirst for revenge.\n",
      "\n",
      "\n"
     ]
    }
   ],
   "source": [
    "print(text[:1000])"
   ]
  },
  {
   "cell_type": "markdown",
   "metadata": {},
   "source": [
    "All unique chars in text"
   ]
  },
  {
   "cell_type": "code",
   "execution_count": 6,
   "metadata": {},
   "outputs": [
    {
     "name": "stdout",
     "output_type": "stream",
     "text": [
      "\n",
      " !$&',-.3:;?ABCDEFGHIJKLMNOPQRSTUVWXYZabcdefghijklmnopqrstuvwxyz\n",
      "65\n"
     ]
    }
   ],
   "source": [
    "chars = sorted(list(set(text)))\n",
    "vocab_size = len(chars)\n",
    "print(''.join(chars))\n",
    "print(vocab_size)"
   ]
  },
  {
   "cell_type": "markdown",
   "metadata": {},
   "source": [
    "Tokenize characters"
   ]
  },
  {
   "cell_type": "code",
   "execution_count": 7,
   "metadata": {},
   "outputs": [],
   "source": [
    "text_int = {ch:i for i, ch in enumerate(chars)}\n",
    "int_text = {i:ch for i, ch in enumerate(chars)}\n",
    "\n",
    "encode = lambda x: [text_int[i] for i in x]\n",
    "decode  = lambda x: ''.join([int_text[i] for i in x])"
   ]
  },
  {
   "cell_type": "code",
   "execution_count": 8,
   "metadata": {},
   "outputs": [
    {
     "data": {
      "text/plain": [
       "[46, 47, 1, 58, 46, 43, 56, 43]"
      ]
     },
     "execution_count": 8,
     "metadata": {},
     "output_type": "execute_result"
    }
   ],
   "source": [
    "encode('hi there')"
   ]
  },
  {
   "cell_type": "code",
   "execution_count": 9,
   "metadata": {},
   "outputs": [
    {
     "data": {
      "text/plain": [
       "'hi there'"
      ]
     },
     "execution_count": 9,
     "metadata": {},
     "output_type": "execute_result"
    }
   ],
   "source": [
    "decode(encode('hi there'))"
   ]
  },
  {
   "cell_type": "code",
   "execution_count": 10,
   "metadata": {},
   "outputs": [],
   "source": [
    "data = torch.tensor(encode(text), dtype=torch.long)"
   ]
  },
  {
   "cell_type": "markdown",
   "metadata": {},
   "source": [
    "Split Data"
   ]
  },
  {
   "cell_type": "code",
   "execution_count": 11,
   "metadata": {},
   "outputs": [],
   "source": [
    "n = int(0.9*len(text))\n",
    "train_data = data[:n]\n",
    "valid_data = data[n:]"
   ]
  },
  {
   "cell_type": "code",
   "execution_count": 12,
   "metadata": {},
   "outputs": [
    {
     "data": {
      "text/plain": [
       "tensor([18, 47, 56, 57, 58,  1, 15, 47, 58])"
      ]
     },
     "execution_count": 12,
     "metadata": {},
     "output_type": "execute_result"
    }
   ],
   "source": [
    "block_size = 8\n",
    "data[:block_size+1]"
   ]
  },
  {
   "cell_type": "code",
   "execution_count": 13,
   "metadata": {},
   "outputs": [
    {
     "name": "stdout",
     "output_type": "stream",
     "text": [
      "context is tensor([18]) and target is 47\n",
      "context is tensor([18, 47]) and target is 56\n",
      "context is tensor([18, 47, 56]) and target is 57\n",
      "context is tensor([18, 47, 56, 57]) and target is 58\n",
      "context is tensor([18, 47, 56, 57, 58]) and target is 1\n",
      "context is tensor([18, 47, 56, 57, 58,  1]) and target is 15\n",
      "context is tensor([18, 47, 56, 57, 58,  1, 15]) and target is 47\n",
      "context is tensor([18, 47, 56, 57, 58,  1, 15, 47]) and target is 58\n"
     ]
    }
   ],
   "source": [
    "x = data[:block_size]\n",
    "y = data[1:block_size+1]\n",
    "for t in range(block_size):\n",
    "    context = x[:t+1]\n",
    "    target = y[t]\n",
    "    print(f'context is {context} and target is {target}')"
   ]
  },
  {
   "cell_type": "code",
   "execution_count": 14,
   "metadata": {},
   "outputs": [
    {
     "name": "stdout",
     "output_type": "stream",
     "text": [
      "torch.Size([4, 8])\n",
      "torch.Size([4, 8])\n"
     ]
    }
   ],
   "source": [
    "torch.manual_seed(43)\n",
    "batch_size=4 #how many independent seq to process in parallel\n",
    "block_size=8 #sets the size of the context\n",
    "\n",
    "def get_batch(split):\n",
    "    '''\n",
    "        Generate a small batch of data of input x and target y\n",
    "    '''\n",
    "\n",
    "    data = train_data if split == 'train' else valid_data\n",
    "    ix = torch.randint(len(data) - block_size, (batch_size,))\n",
    "    x = torch.stack([data[i:i+block_size] for i in ix])\n",
    "    y = torch.stack([data[i+1:i+block_size+1] for i in ix])\n",
    "    return x, y\n",
    "\n",
    "xb, yb = get_batch('train')\n",
    "print(xb.shape)\n",
    "print(yb.shape)\n",
    "\n"
   ]
  },
  {
   "cell_type": "code",
   "execution_count": 15,
   "metadata": {},
   "outputs": [
    {
     "data": {
      "text/plain": [
       "tensor([[43,  1, 58, 53,  1, 51, 43,  6],\n",
       "        [ 1, 57, 46, 43,  1, 61, 39, 57],\n",
       "        [39, 42, 43,  1, 46, 47, 51,  1],\n",
       "        [53, 59, 56,  1, 45, 56, 39, 41]])"
      ]
     },
     "execution_count": 15,
     "metadata": {},
     "output_type": "execute_result"
    }
   ],
   "source": [
    "xb"
   ]
  },
  {
   "cell_type": "code",
   "execution_count": 16,
   "metadata": {},
   "outputs": [
    {
     "data": {
      "text/plain": [
       "tensor([[ 1, 58, 53,  1, 51, 43,  6,  1],\n",
       "        [57, 46, 43,  1, 61, 39, 57,  1],\n",
       "        [42, 43,  1, 46, 47, 51,  1, 58],\n",
       "        [59, 56,  1, 45, 56, 39, 41, 43]])"
      ]
     },
     "execution_count": 16,
     "metadata": {},
     "output_type": "execute_result"
    }
   ],
   "source": [
    "yb"
   ]
  },
  {
   "cell_type": "code",
   "execution_count": 17,
   "metadata": {},
   "outputs": [
    {
     "name": "stdout",
     "output_type": "stream",
     "text": [
      "Context:: tensor([43]), Target:: 1\n",
      "Context:: tensor([43,  1]), Target:: 58\n",
      "Context:: tensor([43,  1, 58]), Target:: 53\n",
      "Context:: tensor([43,  1, 58, 53]), Target:: 1\n",
      "Context:: tensor([43,  1, 58, 53,  1]), Target:: 51\n",
      "Context:: tensor([43,  1, 58, 53,  1, 51]), Target:: 43\n",
      "Context:: tensor([43,  1, 58, 53,  1, 51, 43]), Target:: 6\n",
      "Context:: tensor([43,  1, 58, 53,  1, 51, 43,  6]), Target:: 1\n",
      "Context:: tensor([1]), Target:: 57\n",
      "Context:: tensor([ 1, 57]), Target:: 46\n",
      "Context:: tensor([ 1, 57, 46]), Target:: 43\n",
      "Context:: tensor([ 1, 57, 46, 43]), Target:: 1\n",
      "Context:: tensor([ 1, 57, 46, 43,  1]), Target:: 61\n",
      "Context:: tensor([ 1, 57, 46, 43,  1, 61]), Target:: 39\n",
      "Context:: tensor([ 1, 57, 46, 43,  1, 61, 39]), Target:: 57\n",
      "Context:: tensor([ 1, 57, 46, 43,  1, 61, 39, 57]), Target:: 1\n",
      "Context:: tensor([39]), Target:: 42\n",
      "Context:: tensor([39, 42]), Target:: 43\n",
      "Context:: tensor([39, 42, 43]), Target:: 1\n",
      "Context:: tensor([39, 42, 43,  1]), Target:: 46\n",
      "Context:: tensor([39, 42, 43,  1, 46]), Target:: 47\n",
      "Context:: tensor([39, 42, 43,  1, 46, 47]), Target:: 51\n",
      "Context:: tensor([39, 42, 43,  1, 46, 47, 51]), Target:: 1\n",
      "Context:: tensor([39, 42, 43,  1, 46, 47, 51,  1]), Target:: 58\n",
      "Context:: tensor([53]), Target:: 59\n",
      "Context:: tensor([53, 59]), Target:: 56\n",
      "Context:: tensor([53, 59, 56]), Target:: 1\n",
      "Context:: tensor([53, 59, 56,  1]), Target:: 45\n",
      "Context:: tensor([53, 59, 56,  1, 45]), Target:: 56\n",
      "Context:: tensor([53, 59, 56,  1, 45, 56]), Target:: 39\n",
      "Context:: tensor([53, 59, 56,  1, 45, 56, 39]), Target:: 41\n",
      "Context:: tensor([53, 59, 56,  1, 45, 56, 39, 41]), Target:: 43\n"
     ]
    }
   ],
   "source": [
    "for b in range(batch_size): #block size\n",
    "    for c in range(block_size):\n",
    "        context = xb[b, :c+1]\n",
    "        target = yb[b, c]\n",
    "        print(f\"Context:: {context}, Target:: {target}\")\n",
    "\n"
   ]
  },
  {
   "cell_type": "markdown",
   "metadata": {},
   "source": [
    "BiGram Language Model"
   ]
  },
  {
   "cell_type": "code",
   "execution_count": 26,
   "metadata": {},
   "outputs": [
    {
     "name": "stdout",
     "output_type": "stream",
     "text": [
      "torch.Size([32, 65])\n",
      "tensor(4.5094, grad_fn=<NllLossBackward0>)\n",
      "\n",
      "\n",
      "OMGBk.Mhel CwYya!'GlReTTm!&GNJIXBPvxL.E\n",
      "ZzoeH?FBlNjdJ\n",
      "O!cXJjyjgLus$'?3SQ.ERDjUPfVvxM&Q:iwmYTVvGiMDE\n"
     ]
    }
   ],
   "source": [
    "class BigramLanguageModel(nn.Module):\n",
    "\n",
    "    def __init__(self, vocab_size):\n",
    "        super().__init__()\n",
    "\n",
    "        #each token directly reads the logits for the next token from a lookup table\n",
    "        self.token_embedding_table = nn.Embedding(vocab_size, vocab_size)\n",
    "\n",
    "    def forward(self, idx, targets=None):\n",
    "\n",
    "        #idx and targets are both (Batch ,Time) tensor of integers\n",
    "        logits = self.token_embedding_table(idx) # (Batch=batch_size, Time=block_size, Channel=vocab_size)\n",
    "\n",
    "        if targets is not None:\n",
    "            B, T, C = logits.shape\n",
    "\n",
    "            #For pytorch loss module, reshaping\n",
    "            logits = logits.view(B*T, C)\n",
    "            targets = targets.view(B*T)\n",
    "            loss = F.cross_entropy(logits, targets)\n",
    "        else:\n",
    "            loss = None\n",
    "\n",
    "        return logits, loss\n",
    "\n",
    "    def generate(self, idx, max_new_tokens):\n",
    "        # idx is B,T array in current context\n",
    "        for _ in range(max_new_tokens):\n",
    "            #get the preds\n",
    "            logits, loss = self(idx)\n",
    "            #get the last time step\n",
    "            logits = logits[:, -1, :] # B,C\n",
    "            #apply softmax to get probabilities\n",
    "            probs = F.softmax(logits, dim=1) # B,C\n",
    "            #sample from dist\n",
    "            idx_next = torch.multinomial(probs, num_samples=1) #B,1\n",
    "            #append\n",
    "            idx = torch.cat((idx, idx_next), dim=1) #B,T+1\n",
    "        return idx\n",
    "\n",
    "\n",
    "\n",
    "m = BigramLanguageModel(vocab_size)\n",
    "out, loss = m(xb,yb)\n",
    "print(out.shape)\n",
    "print(loss)\n",
    "\n",
    "print(decode(m.generate(idx=torch.zeros((1,1), dtype=torch.long), max_new_tokens=100)[0].tolist()))"
   ]
  },
  {
   "cell_type": "markdown",
   "metadata": {},
   "source": [
    "Train the Model"
   ]
  },
  {
   "cell_type": "code",
   "execution_count": 27,
   "metadata": {},
   "outputs": [],
   "source": [
    "#Optimizer\n",
    "optimizer = torch.optim.AdamW(m.parameters(), lr=1e-3)"
   ]
  },
  {
   "cell_type": "code",
   "execution_count": 37,
   "metadata": {},
   "outputs": [
    {
     "name": "stdout",
     "output_type": "stream",
     "text": [
      "2.521436929702759\n"
     ]
    }
   ],
   "source": [
    "batch_size=32\n",
    "for epoch in range(1000):\n",
    "\n",
    "    #sample a batch of data \n",
    "    xb, yb = get_batch('train')\n",
    "\n",
    "    #eval loss\n",
    "    logits, loss = m(xb, yb)\n",
    "    optimizer.zero_grad(set_to_none=True)\n",
    "    loss.backward()\n",
    "    optimizer.step()\n",
    "\n",
    "print(loss.item())"
   ]
  },
  {
   "cell_type": "code",
   "execution_count": 41,
   "metadata": {},
   "outputs": [
    {
     "name": "stdout",
     "output_type": "stream",
     "text": [
      "\n",
      "COR: ssfe;\n",
      "EOLurulat teisVIEYot!\n",
      "T:\n",
      "\n",
      "MAnderny hilllaus moveeTin hedis he yo w&CAUSTI tho c\n",
      "By toug.\n",
      "hthinortad theis m whares wom&Qerat tath ss Pr I lboobe ist pBRishy cor air prior se te nomeaineand ou hat our d s y blsksocimerethervere sincor'stegeas Ither tre!\n",
      "I'storitheand! tor obe akeco icave poqu hee isthand prd le ma.\n",
      "Thethalless!\n",
      "Th IVpe whoresecuf f tal po t ie o thaveetaulRI'd bendedur GEDWherP.\n",
      "IVim sthyoupat, Moupe r\n",
      "Pr?\n",
      "Bll howithiby, hey be t\n",
      "Fathate'se 'They we emendangg bbed thel\n"
     ]
    }
   ],
   "source": [
    "print(decode(m.generate(idx=torch.zeros((1,1), dtype=torch.long), max_new_tokens=500)[0].tolist()))"
   ]
  },
  {
   "cell_type": "markdown",
   "metadata": {},
   "source": [
    "### Self Attention Mathematical trick"
   ]
  },
  {
   "cell_type": "code",
   "execution_count": 42,
   "metadata": {},
   "outputs": [
    {
     "data": {
      "text/plain": [
       "torch.Size([4, 8, 2])"
      ]
     },
     "execution_count": 42,
     "metadata": {},
     "output_type": "execute_result"
    }
   ],
   "source": [
    "B, T, C = 4, 8, 2 #Batch, Time, Channels\n",
    "x = torch.randn(B,T,C)\n",
    "x.shape"
   ]
  },
  {
   "cell_type": "markdown",
   "metadata": {},
   "source": [
    "Provide info to the current token with all the past tokens: i.e average"
   ]
  },
  {
   "cell_type": "code",
   "execution_count": 43,
   "metadata": {},
   "outputs": [],
   "source": [
    "xbow = torch.zeros((B,T,C))\n",
    "for b in range(B):\n",
    "    for t in range(T):\n",
    "        xprev = x[b, :t+1]\n",
    "        xbow[b,t] = torch.mean(xprev, 0)"
   ]
  },
  {
   "cell_type": "code",
   "execution_count": 44,
   "metadata": {},
   "outputs": [
    {
     "data": {
      "text/plain": [
       "tensor([[-0.8987, -0.0352],\n",
       "        [-1.5111, -2.0649],\n",
       "        [ 0.7211,  1.6755],\n",
       "        [ 0.8848, -0.9132],\n",
       "        [ 0.3272, -1.1490],\n",
       "        [ 1.4924,  0.4495],\n",
       "        [ 1.3127, -1.4060],\n",
       "        [-1.4175,  0.7419]])"
      ]
     },
     "execution_count": 44,
     "metadata": {},
     "output_type": "execute_result"
    }
   ],
   "source": [
    "x[0]"
   ]
  },
  {
   "cell_type": "code",
   "execution_count": 45,
   "metadata": {},
   "outputs": [
    {
     "data": {
      "text/plain": [
       "tensor([[-0.8987, -0.0352],\n",
       "        [-1.2049, -1.0500],\n",
       "        [-0.5629, -0.1415],\n",
       "        [-0.2010, -0.3344],\n",
       "        [-0.0953, -0.4974],\n",
       "        [ 0.1693, -0.3395],\n",
       "        [ 0.3326, -0.4919],\n",
       "        [ 0.1139, -0.3377]])"
      ]
     },
     "execution_count": 45,
     "metadata": {},
     "output_type": "execute_result"
    }
   ],
   "source": [
    "xbow[0]"
   ]
  },
  {
   "cell_type": "code",
   "execution_count": null,
   "metadata": {},
   "outputs": [],
   "source": []
  }
 ],
 "metadata": {
  "kernelspec": {
   "display_name": "Python 3.8.8 ('base')",
   "language": "python",
   "name": "python3"
  },
  "language_info": {
   "codemirror_mode": {
    "name": "ipython",
    "version": 3
   },
   "file_extension": ".py",
   "mimetype": "text/x-python",
   "name": "python",
   "nbconvert_exporter": "python",
   "pygments_lexer": "ipython3",
   "version": "3.8.8"
  },
  "orig_nbformat": 4,
  "vscode": {
   "interpreter": {
    "hash": "40d3a090f54c6569ab1632332b64b2c03c39dcf918b08424e98f38b5ae0af88f"
   }
  }
 },
 "nbformat": 4,
 "nbformat_minor": 2
}
